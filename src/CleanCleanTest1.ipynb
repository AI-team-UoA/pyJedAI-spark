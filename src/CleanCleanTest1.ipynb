{
 "cells": [
  {
   "cell_type": "code",
   "execution_count": null,
   "id": "acf0e77c",
   "metadata": {},
   "outputs": [],
   "source": []
  },
  {
   "cell_type": "code",
   "execution_count": 29,
   "id": "670bbcfe85e736e9",
   "metadata": {
    "ExecuteTime": {
     "end_time": "2024-04-09T20:39:19.643404488Z",
     "start_time": "2024-04-09T20:38:56.473029431Z"
    },
    "scrolled": true
   },
   "outputs": [
    {
     "name": "stdout",
     "output_type": "stream",
     "text": [
      "Processing /home/thesis_nikoletos_1/pyJedAI-Dev\n",
      "  Installing build dependencies ... \u001b[?25ldone\n",
      "\u001b[?25h  Getting requirements to build wheel ... \u001b[?25ldone\n",
      "\u001b[?25h  Preparing metadata (pyproject.toml) ... \u001b[?25ldone\n",
      "\u001b[?25hRequirement already satisfied: gensim>=4.2.0 in /home/conda/miniconda3/envs/spark_experiments/lib/python3.9/site-packages (from pyjedai==0.0.10) (4.3.2)\n",
      "Requirement already satisfied: matplotlib>=3.1.3 in /home/conda/miniconda3/envs/spark_experiments/lib/python3.9/site-packages (from pyjedai==0.0.10) (3.8.4)\n",
      "Requirement already satisfied: matplotlib-inline>=0.1.3 in /home/conda/miniconda3/envs/spark_experiments/lib/python3.9/site-packages (from pyjedai==0.0.10) (0.1.7)\n",
      "Requirement already satisfied: networkx>=2.3 in /home/conda/miniconda3/envs/spark_experiments/lib/python3.9/site-packages (from pyjedai==0.0.10) (3.2.1)\n",
      "Requirement already satisfied: nltk>=3.7 in /home/conda/miniconda3/envs/spark_experiments/lib/python3.9/site-packages (from pyjedai==0.0.10) (3.8.1)\n",
      "Requirement already satisfied: numpy>=1.21 in /home/conda/miniconda3/envs/spark_experiments/lib/python3.9/site-packages (from pyjedai==0.0.10) (1.26.4)\n",
      "Requirement already satisfied: pandas>=0.25.3 in /home/conda/miniconda3/envs/spark_experiments/lib/python3.9/site-packages (from pyjedai==0.0.10) (2.1.4)\n",
      "Requirement already satisfied: pandas-profiling>=3.2 in /home/conda/miniconda3/envs/spark_experiments/lib/python3.9/site-packages (from pyjedai==0.0.10) (3.6.6)\n",
      "Requirement already satisfied: pandocfilters>=1.5 in /home/conda/miniconda3/envs/spark_experiments/lib/python3.9/site-packages (from pyjedai==0.0.10) (1.5.1)\n",
      "Requirement already satisfied: PyYAML>=6.0 in /home/conda/miniconda3/envs/spark_experiments/lib/python3.9/site-packages (from pyjedai==0.0.10) (6.0.1)\n",
      "Requirement already satisfied: rdflib>=6.1.1 in /home/conda/miniconda3/envs/spark_experiments/lib/python3.9/site-packages (from pyjedai==0.0.10) (7.0.0)\n",
      "Requirement already satisfied: rdfpandas>=1.1.5 in /home/conda/miniconda3/envs/spark_experiments/lib/python3.9/site-packages (from pyjedai==0.0.10) (1.1.6)\n",
      "Requirement already satisfied: regex>=2022.6.2 in /home/conda/miniconda3/envs/spark_experiments/lib/python3.9/site-packages (from pyjedai==0.0.10) (2024.4.16)\n",
      "Requirement already satisfied: scipy>=1.7 in /home/conda/miniconda3/envs/spark_experiments/lib/python3.9/site-packages (from pyjedai==0.0.10) (1.11.4)\n",
      "Requirement already satisfied: seaborn>=0.11 in /home/conda/miniconda3/envs/spark_experiments/lib/python3.9/site-packages (from pyjedai==0.0.10) (0.12.2)\n",
      "Requirement already satisfied: strsim>=0.0.3 in /home/conda/miniconda3/envs/spark_experiments/lib/python3.9/site-packages (from pyjedai==0.0.10) (0.0.3)\n",
      "Requirement already satisfied: strsimpy>=0.2.1 in /home/conda/miniconda3/envs/spark_experiments/lib/python3.9/site-packages (from pyjedai==0.0.10) (0.2.1)\n",
      "Requirement already satisfied: tqdm>=4.64 in /home/conda/miniconda3/envs/spark_experiments/lib/python3.9/site-packages (from pyjedai==0.0.10) (4.66.2)\n",
      "Requirement already satisfied: transformers>=4.21 in /home/conda/miniconda3/envs/spark_experiments/lib/python3.9/site-packages (from pyjedai==0.0.10) (4.39.3)\n",
      "Requirement already satisfied: sentence-transformers>=2.2 in /home/conda/miniconda3/envs/spark_experiments/lib/python3.9/site-packages (from pyjedai==0.0.10) (2.6.1)\n",
      "Requirement already satisfied: faiss-cpu>=1.7 in /home/conda/miniconda3/envs/spark_experiments/lib/python3.9/site-packages (from pyjedai==0.0.10) (1.8.0)\n",
      "Requirement already satisfied: optuna>=3.0 in /home/conda/miniconda3/envs/spark_experiments/lib/python3.9/site-packages (from pyjedai==0.0.10) (3.6.1)\n",
      "Requirement already satisfied: tomli in /home/conda/miniconda3/envs/spark_experiments/lib/python3.9/site-packages (from pyjedai==0.0.10) (2.0.1)\n",
      "Requirement already satisfied: py-stringmatching>=0.4 in /home/conda/miniconda3/envs/spark_experiments/lib/python3.9/site-packages (from pyjedai==0.0.10) (0.4.5)\n",
      "Requirement already satisfied: valentine>=0.1 in /home/conda/miniconda3/envs/spark_experiments/lib/python3.9/site-packages (from pyjedai==0.0.10) (0.2.0)\n",
      "Requirement already satisfied: ordered-set>=4.0 in /home/conda/miniconda3/envs/spark_experiments/lib/python3.9/site-packages (from pyjedai==0.0.10) (4.1.0)\n",
      "Requirement already satisfied: plotly>=5.16.0 in /home/conda/miniconda3/envs/spark_experiments/lib/python3.9/site-packages (from pyjedai==0.0.10) (5.20.0)\n",
      "Requirement already satisfied: pyspark>=3.4 in /home/conda/miniconda3/envs/spark_experiments/lib/python3.9/site-packages (from pyjedai==0.0.10) (3.5.1)\n",
      "Requirement already satisfied: graphframes>=0.6 in /home/conda/miniconda3/envs/spark_experiments/lib/python3.9/site-packages (from pyjedai==0.0.10) (0.6)\n",
      "Requirement already satisfied: smart-open>=1.8.1 in /home/conda/miniconda3/envs/spark_experiments/lib/python3.9/site-packages (from gensim>=4.2.0->pyjedai==0.0.10) (7.0.4)\n",
      "Requirement already satisfied: nose in /home/conda/miniconda3/envs/spark_experiments/lib/python3.9/site-packages (from graphframes>=0.6->pyjedai==0.0.10) (1.3.7)\n",
      "Requirement already satisfied: contourpy>=1.0.1 in /home/conda/miniconda3/envs/spark_experiments/lib/python3.9/site-packages (from matplotlib>=3.1.3->pyjedai==0.0.10) (1.2.1)\n",
      "Requirement already satisfied: cycler>=0.10 in /home/conda/miniconda3/envs/spark_experiments/lib/python3.9/site-packages (from matplotlib>=3.1.3->pyjedai==0.0.10) (0.12.1)\n",
      "Requirement already satisfied: fonttools>=4.22.0 in /home/conda/miniconda3/envs/spark_experiments/lib/python3.9/site-packages (from matplotlib>=3.1.3->pyjedai==0.0.10) (4.51.0)\n",
      "Requirement already satisfied: kiwisolver>=1.3.1 in /home/conda/miniconda3/envs/spark_experiments/lib/python3.9/site-packages (from matplotlib>=3.1.3->pyjedai==0.0.10) (1.4.5)\n",
      "Requirement already satisfied: packaging>=20.0 in /home/conda/miniconda3/envs/spark_experiments/lib/python3.9/site-packages (from matplotlib>=3.1.3->pyjedai==0.0.10) (24.0)\n",
      "Requirement already satisfied: pillow>=8 in /home/conda/miniconda3/envs/spark_experiments/lib/python3.9/site-packages (from matplotlib>=3.1.3->pyjedai==0.0.10) (10.3.0)\n",
      "Requirement already satisfied: pyparsing>=2.3.1 in /home/conda/miniconda3/envs/spark_experiments/lib/python3.9/site-packages (from matplotlib>=3.1.3->pyjedai==0.0.10) (3.1.2)\n",
      "Requirement already satisfied: python-dateutil>=2.7 in /home/conda/miniconda3/envs/spark_experiments/lib/python3.9/site-packages (from matplotlib>=3.1.3->pyjedai==0.0.10) (2.9.0.post0)\n",
      "Requirement already satisfied: importlib-resources>=3.2.0 in /home/conda/miniconda3/envs/spark_experiments/lib/python3.9/site-packages (from matplotlib>=3.1.3->pyjedai==0.0.10) (6.4.0)\n",
      "Requirement already satisfied: traitlets in /home/conda/miniconda3/envs/spark_experiments/lib/python3.9/site-packages (from matplotlib-inline>=0.1.3->pyjedai==0.0.10) (5.14.2)\n",
      "Requirement already satisfied: click in /home/conda/miniconda3/envs/spark_experiments/lib/python3.9/site-packages (from nltk>=3.7->pyjedai==0.0.10) (8.1.7)\n",
      "Requirement already satisfied: joblib in /home/conda/miniconda3/envs/spark_experiments/lib/python3.9/site-packages (from nltk>=3.7->pyjedai==0.0.10) (1.4.0)\n",
      "Requirement already satisfied: alembic>=1.5.0 in /home/conda/miniconda3/envs/spark_experiments/lib/python3.9/site-packages (from optuna>=3.0->pyjedai==0.0.10) (1.13.1)\n",
      "Requirement already satisfied: colorlog in /home/conda/miniconda3/envs/spark_experiments/lib/python3.9/site-packages (from optuna>=3.0->pyjedai==0.0.10) (6.8.2)\n",
      "Requirement already satisfied: sqlalchemy>=1.3.0 in /home/conda/miniconda3/envs/spark_experiments/lib/python3.9/site-packages (from optuna>=3.0->pyjedai==0.0.10) (2.0.29)\n",
      "Requirement already satisfied: pytz>=2020.1 in /home/conda/miniconda3/envs/spark_experiments/lib/python3.9/site-packages (from pandas>=0.25.3->pyjedai==0.0.10) (2024.1)\n",
      "Requirement already satisfied: tzdata>=2022.1 in /home/conda/miniconda3/envs/spark_experiments/lib/python3.9/site-packages (from pandas>=0.25.3->pyjedai==0.0.10) (2024.1)\n",
      "Requirement already satisfied: ydata-profiling in /home/conda/miniconda3/envs/spark_experiments/lib/python3.9/site-packages (from pandas-profiling>=3.2->pyjedai==0.0.10) (4.7.0)\n",
      "Requirement already satisfied: tenacity>=6.2.0 in /home/conda/miniconda3/envs/spark_experiments/lib/python3.9/site-packages (from plotly>=5.16.0->pyjedai==0.0.10) (8.2.3)\n",
      "Requirement already satisfied: py4j==0.10.9.7 in /home/conda/miniconda3/envs/spark_experiments/lib/python3.9/site-packages (from pyspark>=3.4->pyjedai==0.0.10) (0.10.9.7)\n",
      "Requirement already satisfied: isodate<0.7.0,>=0.6.0 in /home/conda/miniconda3/envs/spark_experiments/lib/python3.9/site-packages (from rdflib>=6.1.1->pyjedai==0.0.10) (0.6.1)\n",
      "Requirement already satisfied: torch>=1.11.0 in /home/conda/miniconda3/envs/spark_experiments/lib/python3.9/site-packages (from sentence-transformers>=2.2->pyjedai==0.0.10) (2.2.2)\n",
      "Requirement already satisfied: scikit-learn in /home/conda/miniconda3/envs/spark_experiments/lib/python3.9/site-packages (from sentence-transformers>=2.2->pyjedai==0.0.10) (1.4.2)\n",
      "Requirement already satisfied: huggingface-hub>=0.15.1 in /home/conda/miniconda3/envs/spark_experiments/lib/python3.9/site-packages (from sentence-transformers>=2.2->pyjedai==0.0.10) (0.22.2)\n",
      "Requirement already satisfied: filelock in /home/conda/miniconda3/envs/spark_experiments/lib/python3.9/site-packages (from transformers>=4.21->pyjedai==0.0.10) (3.13.4)\n",
      "Requirement already satisfied: requests in /home/conda/miniconda3/envs/spark_experiments/lib/python3.9/site-packages (from transformers>=4.21->pyjedai==0.0.10) (2.31.0)\n",
      "Requirement already satisfied: tokenizers<0.19,>=0.14 in /home/conda/miniconda3/envs/spark_experiments/lib/python3.9/site-packages (from transformers>=4.21->pyjedai==0.0.10) (0.15.2)\n",
      "Requirement already satisfied: safetensors>=0.4.1 in /home/conda/miniconda3/envs/spark_experiments/lib/python3.9/site-packages (from transformers>=4.21->pyjedai==0.0.10) (0.4.3)\n",
      "Requirement already satisfied: setuptools in /home/conda/miniconda3/envs/spark_experiments/lib/python3.9/site-packages (from valentine>=0.1->pyjedai==0.0.10) (68.2.2)\n",
      "Requirement already satisfied: anytree<3.0,>=2.9 in /home/conda/miniconda3/envs/spark_experiments/lib/python3.9/site-packages (from valentine>=0.1->pyjedai==0.0.10) (2.12.1)\n",
      "Requirement already satisfied: chardet<6.0.0,>=5.2.0 in /home/conda/miniconda3/envs/spark_experiments/lib/python3.9/site-packages (from valentine>=0.1->pyjedai==0.0.10) (5.2.0)\n",
      "Requirement already satisfied: jellyfish<1.1,>=0.9 in /home/conda/miniconda3/envs/spark_experiments/lib/python3.9/site-packages (from valentine>=0.1->pyjedai==0.0.10) (1.0.3)\n",
      "Requirement already satisfied: PuLP<3.0,>=2.5 in /home/conda/miniconda3/envs/spark_experiments/lib/python3.9/site-packages (from valentine>=0.1->pyjedai==0.0.10) (2.8.0)\n",
      "Requirement already satisfied: pyemd<2.0,>=1.0.0 in /home/conda/miniconda3/envs/spark_experiments/lib/python3.9/site-packages (from valentine>=0.1->pyjedai==0.0.10) (1.0.0)\n",
      "Requirement already satisfied: Mako in /home/conda/miniconda3/envs/spark_experiments/lib/python3.9/site-packages (from alembic>=1.5.0->optuna>=3.0->pyjedai==0.0.10) (1.3.3)\n",
      "Requirement already satisfied: typing-extensions>=4 in /home/conda/miniconda3/envs/spark_experiments/lib/python3.9/site-packages (from alembic>=1.5.0->optuna>=3.0->pyjedai==0.0.10) (4.11.0)\n",
      "Requirement already satisfied: six in /home/conda/miniconda3/envs/spark_experiments/lib/python3.9/site-packages (from anytree<3.0,>=2.9->valentine>=0.1->pyjedai==0.0.10) (1.16.0)\n",
      "Requirement already satisfied: fsspec>=2023.5.0 in /home/conda/miniconda3/envs/spark_experiments/lib/python3.9/site-packages (from huggingface-hub>=0.15.1->sentence-transformers>=2.2->pyjedai==0.0.10) (2024.3.1)\n",
      "Requirement already satisfied: zipp>=3.1.0 in /home/conda/miniconda3/envs/spark_experiments/lib/python3.9/site-packages (from importlib-resources>=3.2.0->matplotlib>=3.1.3->pyjedai==0.0.10) (3.18.1)\n",
      "Requirement already satisfied: wrapt in /home/conda/miniconda3/envs/spark_experiments/lib/python3.9/site-packages (from smart-open>=1.8.1->gensim>=4.2.0->pyjedai==0.0.10) (1.16.0)\n",
      "Requirement already satisfied: greenlet!=0.4.17 in /home/conda/miniconda3/envs/spark_experiments/lib/python3.9/site-packages (from sqlalchemy>=1.3.0->optuna>=3.0->pyjedai==0.0.10) (3.0.3)\n",
      "Requirement already satisfied: sympy in /home/conda/miniconda3/envs/spark_experiments/lib/python3.9/site-packages (from torch>=1.11.0->sentence-transformers>=2.2->pyjedai==0.0.10) (1.12)\n",
      "Requirement already satisfied: jinja2 in /home/conda/miniconda3/envs/spark_experiments/lib/python3.9/site-packages (from torch>=1.11.0->sentence-transformers>=2.2->pyjedai==0.0.10) (3.1.3)\n",
      "Requirement already satisfied: nvidia-cuda-nvrtc-cu12==12.1.105 in /home/conda/miniconda3/envs/spark_experiments/lib/python3.9/site-packages (from torch>=1.11.0->sentence-transformers>=2.2->pyjedai==0.0.10) (12.1.105)\n",
      "Requirement already satisfied: nvidia-cuda-runtime-cu12==12.1.105 in /home/conda/miniconda3/envs/spark_experiments/lib/python3.9/site-packages (from torch>=1.11.0->sentence-transformers>=2.2->pyjedai==0.0.10) (12.1.105)\n",
      "Requirement already satisfied: nvidia-cuda-cupti-cu12==12.1.105 in /home/conda/miniconda3/envs/spark_experiments/lib/python3.9/site-packages (from torch>=1.11.0->sentence-transformers>=2.2->pyjedai==0.0.10) (12.1.105)\n",
      "Requirement already satisfied: nvidia-cudnn-cu12==8.9.2.26 in /home/conda/miniconda3/envs/spark_experiments/lib/python3.9/site-packages (from torch>=1.11.0->sentence-transformers>=2.2->pyjedai==0.0.10) (8.9.2.26)\n",
      "Requirement already satisfied: nvidia-cublas-cu12==12.1.3.1 in /home/conda/miniconda3/envs/spark_experiments/lib/python3.9/site-packages (from torch>=1.11.0->sentence-transformers>=2.2->pyjedai==0.0.10) (12.1.3.1)\n",
      "Requirement already satisfied: nvidia-cufft-cu12==11.0.2.54 in /home/conda/miniconda3/envs/spark_experiments/lib/python3.9/site-packages (from torch>=1.11.0->sentence-transformers>=2.2->pyjedai==0.0.10) (11.0.2.54)\n",
      "Requirement already satisfied: nvidia-curand-cu12==10.3.2.106 in /home/conda/miniconda3/envs/spark_experiments/lib/python3.9/site-packages (from torch>=1.11.0->sentence-transformers>=2.2->pyjedai==0.0.10) (10.3.2.106)\n",
      "Requirement already satisfied: nvidia-cusolver-cu12==11.4.5.107 in /home/conda/miniconda3/envs/spark_experiments/lib/python3.9/site-packages (from torch>=1.11.0->sentence-transformers>=2.2->pyjedai==0.0.10) (11.4.5.107)\n",
      "Requirement already satisfied: nvidia-cusparse-cu12==12.1.0.106 in /home/conda/miniconda3/envs/spark_experiments/lib/python3.9/site-packages (from torch>=1.11.0->sentence-transformers>=2.2->pyjedai==0.0.10) (12.1.0.106)\n",
      "Requirement already satisfied: nvidia-nccl-cu12==2.19.3 in /home/conda/miniconda3/envs/spark_experiments/lib/python3.9/site-packages (from torch>=1.11.0->sentence-transformers>=2.2->pyjedai==0.0.10) (2.19.3)\n",
      "Requirement already satisfied: nvidia-nvtx-cu12==12.1.105 in /home/conda/miniconda3/envs/spark_experiments/lib/python3.9/site-packages (from torch>=1.11.0->sentence-transformers>=2.2->pyjedai==0.0.10) (12.1.105)\n",
      "Requirement already satisfied: triton==2.2.0 in /home/conda/miniconda3/envs/spark_experiments/lib/python3.9/site-packages (from torch>=1.11.0->sentence-transformers>=2.2->pyjedai==0.0.10) (2.2.0)\n",
      "Requirement already satisfied: nvidia-nvjitlink-cu12 in /home/conda/miniconda3/envs/spark_experiments/lib/python3.9/site-packages (from nvidia-cusolver-cu12==11.4.5.107->torch>=1.11.0->sentence-transformers>=2.2->pyjedai==0.0.10) (12.4.127)\n",
      "Requirement already satisfied: charset-normalizer<4,>=2 in /home/conda/miniconda3/envs/spark_experiments/lib/python3.9/site-packages (from requests->transformers>=4.21->pyjedai==0.0.10) (3.3.2)\n",
      "Requirement already satisfied: idna<4,>=2.5 in /home/conda/miniconda3/envs/spark_experiments/lib/python3.9/site-packages (from requests->transformers>=4.21->pyjedai==0.0.10) (3.7)\n",
      "Requirement already satisfied: urllib3<3,>=1.21.1 in /home/conda/miniconda3/envs/spark_experiments/lib/python3.9/site-packages (from requests->transformers>=4.21->pyjedai==0.0.10) (2.2.1)\n",
      "Requirement already satisfied: certifi>=2017.4.17 in /home/conda/miniconda3/envs/spark_experiments/lib/python3.9/site-packages (from requests->transformers>=4.21->pyjedai==0.0.10) (2024.2.2)\n",
      "Requirement already satisfied: threadpoolctl>=2.0.0 in /home/conda/miniconda3/envs/spark_experiments/lib/python3.9/site-packages (from scikit-learn->sentence-transformers>=2.2->pyjedai==0.0.10) (3.4.0)\n",
      "Requirement already satisfied: pydantic>=2 in /home/conda/miniconda3/envs/spark_experiments/lib/python3.9/site-packages (from ydata-profiling->pandas-profiling>=3.2->pyjedai==0.0.10) (2.7.0)\n",
      "Requirement already satisfied: visions<0.7.7,>=0.7.5 in /home/conda/miniconda3/envs/spark_experiments/lib/python3.9/site-packages (from visions[type_image_path]<0.7.7,>=0.7.5->ydata-profiling->pandas-profiling>=3.2->pyjedai==0.0.10) (0.7.6)\n",
      "Requirement already satisfied: htmlmin==0.1.12 in /home/conda/miniconda3/envs/spark_experiments/lib/python3.9/site-packages (from ydata-profiling->pandas-profiling>=3.2->pyjedai==0.0.10) (0.1.12)\n",
      "Requirement already satisfied: phik<0.13,>=0.11.1 in /home/conda/miniconda3/envs/spark_experiments/lib/python3.9/site-packages (from ydata-profiling->pandas-profiling>=3.2->pyjedai==0.0.10) (0.12.4)\n",
      "Requirement already satisfied: multimethod<2,>=1.4 in /home/conda/miniconda3/envs/spark_experiments/lib/python3.9/site-packages (from ydata-profiling->pandas-profiling>=3.2->pyjedai==0.0.10) (1.11.2)\n",
      "Requirement already satisfied: statsmodels<1,>=0.13.2 in /home/conda/miniconda3/envs/spark_experiments/lib/python3.9/site-packages (from ydata-profiling->pandas-profiling>=3.2->pyjedai==0.0.10) (0.14.1)\n",
      "Requirement already satisfied: typeguard<5,>=4.1.2 in /home/conda/miniconda3/envs/spark_experiments/lib/python3.9/site-packages (from ydata-profiling->pandas-profiling>=3.2->pyjedai==0.0.10) (4.2.1)\n",
      "Requirement already satisfied: imagehash==4.3.1 in /home/conda/miniconda3/envs/spark_experiments/lib/python3.9/site-packages (from ydata-profiling->pandas-profiling>=3.2->pyjedai==0.0.10) (4.3.1)\n",
      "Requirement already satisfied: wordcloud>=1.9.1 in /home/conda/miniconda3/envs/spark_experiments/lib/python3.9/site-packages (from ydata-profiling->pandas-profiling>=3.2->pyjedai==0.0.10) (1.9.3)\n",
      "Requirement already satisfied: dacite>=1.8 in /home/conda/miniconda3/envs/spark_experiments/lib/python3.9/site-packages (from ydata-profiling->pandas-profiling>=3.2->pyjedai==0.0.10) (1.8.1)\n",
      "Requirement already satisfied: numba<1,>=0.56.0 in /home/conda/miniconda3/envs/spark_experiments/lib/python3.9/site-packages (from ydata-profiling->pandas-profiling>=3.2->pyjedai==0.0.10) (0.59.1)\n",
      "Requirement already satisfied: PyWavelets in /home/conda/miniconda3/envs/spark_experiments/lib/python3.9/site-packages (from imagehash==4.3.1->ydata-profiling->pandas-profiling>=3.2->pyjedai==0.0.10) (1.6.0)\n",
      "Requirement already satisfied: MarkupSafe>=2.0 in /home/conda/miniconda3/envs/spark_experiments/lib/python3.9/site-packages (from jinja2->torch>=1.11.0->sentence-transformers>=2.2->pyjedai==0.0.10) (2.1.5)\n",
      "Requirement already satisfied: llvmlite<0.43,>=0.42.0dev0 in /home/conda/miniconda3/envs/spark_experiments/lib/python3.9/site-packages (from numba<1,>=0.56.0->ydata-profiling->pandas-profiling>=3.2->pyjedai==0.0.10) (0.42.0)\n",
      "Requirement already satisfied: annotated-types>=0.4.0 in /home/conda/miniconda3/envs/spark_experiments/lib/python3.9/site-packages (from pydantic>=2->ydata-profiling->pandas-profiling>=3.2->pyjedai==0.0.10) (0.6.0)\n",
      "Requirement already satisfied: pydantic-core==2.18.1 in /home/conda/miniconda3/envs/spark_experiments/lib/python3.9/site-packages (from pydantic>=2->ydata-profiling->pandas-profiling>=3.2->pyjedai==0.0.10) (2.18.1)\n",
      "Requirement already satisfied: patsy>=0.5.4 in /home/conda/miniconda3/envs/spark_experiments/lib/python3.9/site-packages (from statsmodels<1,>=0.13.2->ydata-profiling->pandas-profiling>=3.2->pyjedai==0.0.10) (0.5.6)\n",
      "Requirement already satisfied: importlib-metadata>=3.6 in /home/conda/miniconda3/envs/spark_experiments/lib/python3.9/site-packages (from typeguard<5,>=4.1.2->ydata-profiling->pandas-profiling>=3.2->pyjedai==0.0.10) (7.1.0)\n",
      "Requirement already satisfied: attrs>=19.3.0 in /home/conda/miniconda3/envs/spark_experiments/lib/python3.9/site-packages (from visions<0.7.7,>=0.7.5->visions[type_image_path]<0.7.7,>=0.7.5->ydata-profiling->pandas-profiling>=3.2->pyjedai==0.0.10) (23.2.0)\n",
      "\u001b[33mWARNING: visions 0.7.6 does not provide the extra 'type-image-path'\u001b[0m\u001b[33m\n",
      "\u001b[0mRequirement already satisfied: mpmath>=0.19 in /home/conda/miniconda3/envs/spark_experiments/lib/python3.9/site-packages (from sympy->torch>=1.11.0->sentence-transformers>=2.2->pyjedai==0.0.10) (1.3.0)\n",
      "Building wheels for collected packages: pyjedai\n",
      "  Building wheel for pyjedai (pyproject.toml) ... \u001b[?25ldone\n",
      "\u001b[?25h  Created wheel for pyjedai: filename=pyjedai-0.0.10-py3-none-any.whl size=119997 sha256=9a63e3871fa07cd506b1d620b77ae9d66aa45b0042c8de3ff0595e443397e779\n",
      "  Stored in directory: /home/thesis_nikoletos_1/.cache/pip/wheels/2e/82/bd/dbb8eefcf923514550a5419e9dae3907bbbe22e2c86b0a8d72\n",
      "Successfully built pyjedai\n",
      "Installing collected packages: pyjedai\n",
      "  Attempting uninstall: pyjedai\n",
      "    Found existing installation: pyjedai 0.0.10\n",
      "    Uninstalling pyjedai-0.0.10:\n",
      "      Successfully uninstalled pyjedai-0.0.10\n",
      "Successfully installed pyjedai-0.0.10\n",
      "Requirement already satisfied: findspark in /home/conda/miniconda3/envs/spark_experiments/lib/python3.9/site-packages (2.0.1)\n",
      "^C\n"
     ]
    }
   ],
   "source": [
    "# !pip install --upgrade pip\n",
    "!pip install ../..\n",
    "!pip install findspark"
   ]
  },
  {
   "cell_type": "code",
   "execution_count": 1,
   "id": "08cdb553-4542-4855-9300-e1bf6e4611f8",
   "metadata": {},
   "outputs": [],
   "source": [
    "%load_ext autoreload"
   ]
  },
  {
   "cell_type": "code",
   "execution_count": 2,
   "id": "570e6f1e-dc11-49bb-b761-d78a6c5e9c20",
   "metadata": {},
   "outputs": [],
   "source": [
    "%autoreload 2"
   ]
  },
  {
   "cell_type": "code",
   "execution_count": 3,
   "id": "b4da8b253d022718",
   "metadata": {
    "ExecuteTime": {
     "end_time": "2024-04-10T00:10:56.812260619Z",
     "start_time": "2024-04-10T00:10:54.329095361Z"
    },
    "collapsed": false,
    "jupyter": {
     "outputs_hidden": false
    }
   },
   "outputs": [],
   "source": [
    "import os\n",
    "import sys\n",
    "import pandas as pd\n",
    "import networkx\n",
    "from networkx import draw, Graph\n",
    "import importlib\n",
    "import findspark\n",
    "\n",
    "import nltk\n",
    "# nltk.download('stopwords')\n",
    "\n",
    "from nltk.corpus import stopwords\n",
    "# stopwords_path = nltk.data.find('corpora/stopwords')\n",
    "\n",
    "findspark.init()\n",
    "\n",
    "os.environ[\"JAVA_HOME\"] = \"/usr/lib/jvm/java-11-openjdk-amd64\"\n"
   ]
  },
  {
   "cell_type": "code",
   "execution_count": 4,
   "id": "4b33cb92d80a51aa",
   "metadata": {
    "ExecuteTime": {
     "end_time": "2024-04-09T21:30:11.234779981Z",
     "start_time": "2024-04-09T21:30:10.246266730Z"
    },
    "collapsed": false,
    "jupyter": {
     "outputs_hidden": false
    }
   },
   "outputs": [],
   "source": [
    "from pyjedai.datamodel import Data\n",
    "from pyjedai.evaluation import Evaluation"
   ]
  },
  {
   "cell_type": "code",
   "execution_count": 5,
   "id": "9b376a5e26fbcc42",
   "metadata": {
    "ExecuteTime": {
     "end_time": "2024-04-10T00:11:03.970978696Z",
     "start_time": "2024-04-10T00:10:58.152354975Z"
    },
    "collapsed": false,
    "jupyter": {
     "outputs_hidden": false
    }
   },
   "outputs": [
    {
     "name": "stderr",
     "output_type": "stream",
     "text": [
      "25/01/18 20:46:48 WARN Utils: Your hostname, pyravlos5 resolves to a loopback address: 127.0.1.1; using 88.197.53.173 instead (on interface eno1)\n",
      "25/01/18 20:46:48 WARN Utils: Set SPARK_LOCAL_IP if you need to bind to another address\n",
      "Setting default log level to \"WARN\".\n",
      "To adjust logging level use sc.setLogLevel(newLevel). For SparkR, use setLogLevel(newLevel).\n",
      "25/01/18 20:46:50 WARN NativeCodeLoader: Unable to load native-hadoop library for your platform... using builtin-java classes where applicable\n"
     ]
    }
   ],
   "source": [
    "\n",
    "from pyspark import SparkConf, SparkContext\n",
    "\n",
    "\n",
    "# Configure Spark to use more driver memory and executor memory\n",
    "conf = SparkConf().setAppName('PyJedAI').setMaster('local[10]')\n",
    "conf.set(\"spark.executor.memory\", \"48g\")\n",
    "conf.set(\"spark.driver.memory\",\"8g\")\n",
    "conf.set(\"spark.executor.cores\",\"24\")\n",
    "conf.set(\"spark.dynamicAllocation.enabled\",\"true\")\n",
    "conf.set(\"spark.serializer\", \"org.apache.spark.serializer.KryoSerializer\")\n",
    "conf.set(\"spark.kryoserializer.buffer.max\", \"2047m\")\n",
    "conf.set(\"spark.kryoserializer.buffer\", \"1024m\")\n",
    "# conf.set(\"spark.rdd.compress\", \"true\")\n",
    "# conf.set(\"spark.memory.fraction\",\"0.4\")\n",
    "\n",
    "\n",
    "# Set JVM options for garbage collection\n",
    "jvm_options = \"-XX:+UseG1GC -XX:MaxGCPauseMillis=200\"\n",
    "# You can adjust these JVM options according to your needs\n",
    "\n",
    "# Export SPARK_OPTS environment variable with JVM options\n",
    "import os\n",
    "os.environ['SPARK_OPTS'] = jvm_options\n",
    "\n",
    "# Enable compression of RDD data\n",
    "# conf.set(\"spark.serializer\", \"org.apache.spark.serializer.KryoSerializer\")\n",
    "\n",
    "# Create a SparkContext with the configured properties\n",
    "sc = SparkContext(conf=conf)\n"
   ]
  },
  {
   "cell_type": "code",
   "execution_count": 6,
   "id": "41c4fe5f438915f4",
   "metadata": {
    "ExecuteTime": {
     "end_time": "2024-04-10T00:11:08.095035728Z",
     "start_time": "2024-04-10T00:11:07.954340867Z"
    },
    "collapsed": false,
    "jupyter": {
     "outputs_hidden": false
    },
    "scrolled": true
   },
   "outputs": [
    {
     "ename": "FileNotFoundError",
     "evalue": "[Errno 2] No such file or directory: '../../data/data_ea/data/synthetic/profiles/10K.csv'",
     "output_type": "error",
     "traceback": [
      "\u001b[0;31m---------------------------------------------------------------------------\u001b[0m",
      "\u001b[0;31mFileNotFoundError\u001b[0m                         Traceback (most recent call last)",
      "Cell \u001b[0;32mIn[6], line 42\u001b[0m\n\u001b[1;32m      3\u001b[0m \u001b[38;5;28;01mimport\u001b[39;00m \u001b[38;5;21;01mpandas\u001b[39;00m \u001b[38;5;28;01mas\u001b[39;00m \u001b[38;5;21;01mpd\u001b[39;00m\n\u001b[1;32m      5\u001b[0m \u001b[38;5;66;03m# Clean - Clean Basic\u001b[39;00m\n\u001b[1;32m      6\u001b[0m \n\u001b[1;32m      7\u001b[0m \u001b[38;5;66;03m# d1 = pd.read_csv(\"./../data/ccer/D2/abt.csv\", sep='|', engine='python', na_filter=False)\u001b[39;00m\n\u001b[0;32m   (...)\u001b[0m\n\u001b[1;32m     39\u001b[0m \u001b[38;5;66;03m#     attributes_1=attr\u001b[39;00m\n\u001b[1;32m     40\u001b[0m \u001b[38;5;66;03m# )\u001b[39;00m\n\u001b[0;32m---> 42\u001b[0m d1 \u001b[38;5;241m=\u001b[39m \u001b[43mpd\u001b[49m\u001b[38;5;241;43m.\u001b[39;49m\u001b[43mread_csv\u001b[49m\u001b[43m(\u001b[49m\u001b[38;5;124;43m\"\u001b[39;49m\u001b[38;5;124;43m../../data/data_ea/data/synthetic/profiles/10K.csv\u001b[39;49m\u001b[38;5;124;43m\"\u001b[39;49m\u001b[43m,\u001b[49m\u001b[43m \u001b[49m\u001b[43msep\u001b[49m\u001b[38;5;241;43m=\u001b[39;49m\u001b[38;5;124;43m'\u001b[39;49m\u001b[38;5;124;43m|\u001b[39;49m\u001b[38;5;124;43m'\u001b[39;49m\u001b[43m,\u001b[49m\u001b[43m \u001b[49m\u001b[43mengine\u001b[49m\u001b[38;5;241;43m=\u001b[39;49m\u001b[38;5;124;43m'\u001b[39;49m\u001b[38;5;124;43mpython\u001b[39;49m\u001b[38;5;124;43m'\u001b[39;49m\u001b[43m,\u001b[49m\u001b[43m \u001b[49m\u001b[43mna_filter\u001b[49m\u001b[38;5;241;43m=\u001b[39;49m\u001b[38;5;28;43;01mFalse\u001b[39;49;00m\u001b[43m)\u001b[49m\n\u001b[1;32m     43\u001b[0m gt \u001b[38;5;241m=\u001b[39m pd\u001b[38;5;241m.\u001b[39mread_csv(\u001b[38;5;124m\"\u001b[39m\u001b[38;5;124m../../data/data_ea/data/synthetic/ground_truths/10Kduplicates.csv\u001b[39m\u001b[38;5;124m\"\u001b[39m, sep\u001b[38;5;241m=\u001b[39m\u001b[38;5;124m'\u001b[39m\u001b[38;5;124m|\u001b[39m\u001b[38;5;124m'\u001b[39m, engine\u001b[38;5;241m=\u001b[39m\u001b[38;5;124m'\u001b[39m\u001b[38;5;124mpython\u001b[39m\u001b[38;5;124m'\u001b[39m)\n\u001b[1;32m     45\u001b[0m data \u001b[38;5;241m=\u001b[39m Data(dataset_1\u001b[38;5;241m=\u001b[39md1,\n\u001b[1;32m     46\u001b[0m         id_column_name_1\u001b[38;5;241m=\u001b[39m\u001b[38;5;124m'\u001b[39m\u001b[38;5;124mId\u001b[39m\u001b[38;5;124m'\u001b[39m,\n\u001b[1;32m     47\u001b[0m         ground_truth\u001b[38;5;241m=\u001b[39mgt)\n",
      "File \u001b[0;32m/home/conda/miniconda3/envs/spark_experiments/lib/python3.9/site-packages/pandas/io/parsers/readers.py:948\u001b[0m, in \u001b[0;36mread_csv\u001b[0;34m(filepath_or_buffer, sep, delimiter, header, names, index_col, usecols, dtype, engine, converters, true_values, false_values, skipinitialspace, skiprows, skipfooter, nrows, na_values, keep_default_na, na_filter, verbose, skip_blank_lines, parse_dates, infer_datetime_format, keep_date_col, date_parser, date_format, dayfirst, cache_dates, iterator, chunksize, compression, thousands, decimal, lineterminator, quotechar, quoting, doublequote, escapechar, comment, encoding, encoding_errors, dialect, on_bad_lines, delim_whitespace, low_memory, memory_map, float_precision, storage_options, dtype_backend)\u001b[0m\n\u001b[1;32m    935\u001b[0m kwds_defaults \u001b[38;5;241m=\u001b[39m _refine_defaults_read(\n\u001b[1;32m    936\u001b[0m     dialect,\n\u001b[1;32m    937\u001b[0m     delimiter,\n\u001b[0;32m   (...)\u001b[0m\n\u001b[1;32m    944\u001b[0m     dtype_backend\u001b[38;5;241m=\u001b[39mdtype_backend,\n\u001b[1;32m    945\u001b[0m )\n\u001b[1;32m    946\u001b[0m kwds\u001b[38;5;241m.\u001b[39mupdate(kwds_defaults)\n\u001b[0;32m--> 948\u001b[0m \u001b[38;5;28;01mreturn\u001b[39;00m \u001b[43m_read\u001b[49m\u001b[43m(\u001b[49m\u001b[43mfilepath_or_buffer\u001b[49m\u001b[43m,\u001b[49m\u001b[43m \u001b[49m\u001b[43mkwds\u001b[49m\u001b[43m)\u001b[49m\n",
      "File \u001b[0;32m/home/conda/miniconda3/envs/spark_experiments/lib/python3.9/site-packages/pandas/io/parsers/readers.py:611\u001b[0m, in \u001b[0;36m_read\u001b[0;34m(filepath_or_buffer, kwds)\u001b[0m\n\u001b[1;32m    608\u001b[0m _validate_names(kwds\u001b[38;5;241m.\u001b[39mget(\u001b[38;5;124m\"\u001b[39m\u001b[38;5;124mnames\u001b[39m\u001b[38;5;124m\"\u001b[39m, \u001b[38;5;28;01mNone\u001b[39;00m))\n\u001b[1;32m    610\u001b[0m \u001b[38;5;66;03m# Create the parser.\u001b[39;00m\n\u001b[0;32m--> 611\u001b[0m parser \u001b[38;5;241m=\u001b[39m \u001b[43mTextFileReader\u001b[49m\u001b[43m(\u001b[49m\u001b[43mfilepath_or_buffer\u001b[49m\u001b[43m,\u001b[49m\u001b[43m \u001b[49m\u001b[38;5;241;43m*\u001b[39;49m\u001b[38;5;241;43m*\u001b[39;49m\u001b[43mkwds\u001b[49m\u001b[43m)\u001b[49m\n\u001b[1;32m    613\u001b[0m \u001b[38;5;28;01mif\u001b[39;00m chunksize \u001b[38;5;129;01mor\u001b[39;00m iterator:\n\u001b[1;32m    614\u001b[0m     \u001b[38;5;28;01mreturn\u001b[39;00m parser\n",
      "File \u001b[0;32m/home/conda/miniconda3/envs/spark_experiments/lib/python3.9/site-packages/pandas/io/parsers/readers.py:1448\u001b[0m, in \u001b[0;36mTextFileReader.__init__\u001b[0;34m(self, f, engine, **kwds)\u001b[0m\n\u001b[1;32m   1445\u001b[0m     \u001b[38;5;28mself\u001b[39m\u001b[38;5;241m.\u001b[39moptions[\u001b[38;5;124m\"\u001b[39m\u001b[38;5;124mhas_index_names\u001b[39m\u001b[38;5;124m\"\u001b[39m] \u001b[38;5;241m=\u001b[39m kwds[\u001b[38;5;124m\"\u001b[39m\u001b[38;5;124mhas_index_names\u001b[39m\u001b[38;5;124m\"\u001b[39m]\n\u001b[1;32m   1447\u001b[0m \u001b[38;5;28mself\u001b[39m\u001b[38;5;241m.\u001b[39mhandles: IOHandles \u001b[38;5;241m|\u001b[39m \u001b[38;5;28;01mNone\u001b[39;00m \u001b[38;5;241m=\u001b[39m \u001b[38;5;28;01mNone\u001b[39;00m\n\u001b[0;32m-> 1448\u001b[0m \u001b[38;5;28mself\u001b[39m\u001b[38;5;241m.\u001b[39m_engine \u001b[38;5;241m=\u001b[39m \u001b[38;5;28;43mself\u001b[39;49m\u001b[38;5;241;43m.\u001b[39;49m\u001b[43m_make_engine\u001b[49m\u001b[43m(\u001b[49m\u001b[43mf\u001b[49m\u001b[43m,\u001b[49m\u001b[43m \u001b[49m\u001b[38;5;28;43mself\u001b[39;49m\u001b[38;5;241;43m.\u001b[39;49m\u001b[43mengine\u001b[49m\u001b[43m)\u001b[49m\n",
      "File \u001b[0;32m/home/conda/miniconda3/envs/spark_experiments/lib/python3.9/site-packages/pandas/io/parsers/readers.py:1705\u001b[0m, in \u001b[0;36mTextFileReader._make_engine\u001b[0;34m(self, f, engine)\u001b[0m\n\u001b[1;32m   1703\u001b[0m     \u001b[38;5;28;01mif\u001b[39;00m \u001b[38;5;124m\"\u001b[39m\u001b[38;5;124mb\u001b[39m\u001b[38;5;124m\"\u001b[39m \u001b[38;5;129;01mnot\u001b[39;00m \u001b[38;5;129;01min\u001b[39;00m mode:\n\u001b[1;32m   1704\u001b[0m         mode \u001b[38;5;241m+\u001b[39m\u001b[38;5;241m=\u001b[39m \u001b[38;5;124m\"\u001b[39m\u001b[38;5;124mb\u001b[39m\u001b[38;5;124m\"\u001b[39m\n\u001b[0;32m-> 1705\u001b[0m \u001b[38;5;28mself\u001b[39m\u001b[38;5;241m.\u001b[39mhandles \u001b[38;5;241m=\u001b[39m \u001b[43mget_handle\u001b[49m\u001b[43m(\u001b[49m\n\u001b[1;32m   1706\u001b[0m \u001b[43m    \u001b[49m\u001b[43mf\u001b[49m\u001b[43m,\u001b[49m\n\u001b[1;32m   1707\u001b[0m \u001b[43m    \u001b[49m\u001b[43mmode\u001b[49m\u001b[43m,\u001b[49m\n\u001b[1;32m   1708\u001b[0m \u001b[43m    \u001b[49m\u001b[43mencoding\u001b[49m\u001b[38;5;241;43m=\u001b[39;49m\u001b[38;5;28;43mself\u001b[39;49m\u001b[38;5;241;43m.\u001b[39;49m\u001b[43moptions\u001b[49m\u001b[38;5;241;43m.\u001b[39;49m\u001b[43mget\u001b[49m\u001b[43m(\u001b[49m\u001b[38;5;124;43m\"\u001b[39;49m\u001b[38;5;124;43mencoding\u001b[39;49m\u001b[38;5;124;43m\"\u001b[39;49m\u001b[43m,\u001b[49m\u001b[43m \u001b[49m\u001b[38;5;28;43;01mNone\u001b[39;49;00m\u001b[43m)\u001b[49m\u001b[43m,\u001b[49m\n\u001b[1;32m   1709\u001b[0m \u001b[43m    \u001b[49m\u001b[43mcompression\u001b[49m\u001b[38;5;241;43m=\u001b[39;49m\u001b[38;5;28;43mself\u001b[39;49m\u001b[38;5;241;43m.\u001b[39;49m\u001b[43moptions\u001b[49m\u001b[38;5;241;43m.\u001b[39;49m\u001b[43mget\u001b[49m\u001b[43m(\u001b[49m\u001b[38;5;124;43m\"\u001b[39;49m\u001b[38;5;124;43mcompression\u001b[39;49m\u001b[38;5;124;43m\"\u001b[39;49m\u001b[43m,\u001b[49m\u001b[43m \u001b[49m\u001b[38;5;28;43;01mNone\u001b[39;49;00m\u001b[43m)\u001b[49m\u001b[43m,\u001b[49m\n\u001b[1;32m   1710\u001b[0m \u001b[43m    \u001b[49m\u001b[43mmemory_map\u001b[49m\u001b[38;5;241;43m=\u001b[39;49m\u001b[38;5;28;43mself\u001b[39;49m\u001b[38;5;241;43m.\u001b[39;49m\u001b[43moptions\u001b[49m\u001b[38;5;241;43m.\u001b[39;49m\u001b[43mget\u001b[49m\u001b[43m(\u001b[49m\u001b[38;5;124;43m\"\u001b[39;49m\u001b[38;5;124;43mmemory_map\u001b[39;49m\u001b[38;5;124;43m\"\u001b[39;49m\u001b[43m,\u001b[49m\u001b[43m \u001b[49m\u001b[38;5;28;43;01mFalse\u001b[39;49;00m\u001b[43m)\u001b[49m\u001b[43m,\u001b[49m\n\u001b[1;32m   1711\u001b[0m \u001b[43m    \u001b[49m\u001b[43mis_text\u001b[49m\u001b[38;5;241;43m=\u001b[39;49m\u001b[43mis_text\u001b[49m\u001b[43m,\u001b[49m\n\u001b[1;32m   1712\u001b[0m \u001b[43m    \u001b[49m\u001b[43merrors\u001b[49m\u001b[38;5;241;43m=\u001b[39;49m\u001b[38;5;28;43mself\u001b[39;49m\u001b[38;5;241;43m.\u001b[39;49m\u001b[43moptions\u001b[49m\u001b[38;5;241;43m.\u001b[39;49m\u001b[43mget\u001b[49m\u001b[43m(\u001b[49m\u001b[38;5;124;43m\"\u001b[39;49m\u001b[38;5;124;43mencoding_errors\u001b[39;49m\u001b[38;5;124;43m\"\u001b[39;49m\u001b[43m,\u001b[49m\u001b[43m \u001b[49m\u001b[38;5;124;43m\"\u001b[39;49m\u001b[38;5;124;43mstrict\u001b[39;49m\u001b[38;5;124;43m\"\u001b[39;49m\u001b[43m)\u001b[49m\u001b[43m,\u001b[49m\n\u001b[1;32m   1713\u001b[0m \u001b[43m    \u001b[49m\u001b[43mstorage_options\u001b[49m\u001b[38;5;241;43m=\u001b[39;49m\u001b[38;5;28;43mself\u001b[39;49m\u001b[38;5;241;43m.\u001b[39;49m\u001b[43moptions\u001b[49m\u001b[38;5;241;43m.\u001b[39;49m\u001b[43mget\u001b[49m\u001b[43m(\u001b[49m\u001b[38;5;124;43m\"\u001b[39;49m\u001b[38;5;124;43mstorage_options\u001b[39;49m\u001b[38;5;124;43m\"\u001b[39;49m\u001b[43m,\u001b[49m\u001b[43m \u001b[49m\u001b[38;5;28;43;01mNone\u001b[39;49;00m\u001b[43m)\u001b[49m\u001b[43m,\u001b[49m\n\u001b[1;32m   1714\u001b[0m \u001b[43m\u001b[49m\u001b[43m)\u001b[49m\n\u001b[1;32m   1715\u001b[0m \u001b[38;5;28;01massert\u001b[39;00m \u001b[38;5;28mself\u001b[39m\u001b[38;5;241m.\u001b[39mhandles \u001b[38;5;129;01mis\u001b[39;00m \u001b[38;5;129;01mnot\u001b[39;00m \u001b[38;5;28;01mNone\u001b[39;00m\n\u001b[1;32m   1716\u001b[0m f \u001b[38;5;241m=\u001b[39m \u001b[38;5;28mself\u001b[39m\u001b[38;5;241m.\u001b[39mhandles\u001b[38;5;241m.\u001b[39mhandle\n",
      "File \u001b[0;32m/home/conda/miniconda3/envs/spark_experiments/lib/python3.9/site-packages/pandas/io/common.py:863\u001b[0m, in \u001b[0;36mget_handle\u001b[0;34m(path_or_buf, mode, encoding, compression, memory_map, is_text, errors, storage_options)\u001b[0m\n\u001b[1;32m    858\u001b[0m \u001b[38;5;28;01melif\u001b[39;00m \u001b[38;5;28misinstance\u001b[39m(handle, \u001b[38;5;28mstr\u001b[39m):\n\u001b[1;32m    859\u001b[0m     \u001b[38;5;66;03m# Check whether the filename is to be opened in binary mode.\u001b[39;00m\n\u001b[1;32m    860\u001b[0m     \u001b[38;5;66;03m# Binary mode does not support 'encoding' and 'newline'.\u001b[39;00m\n\u001b[1;32m    861\u001b[0m     \u001b[38;5;28;01mif\u001b[39;00m ioargs\u001b[38;5;241m.\u001b[39mencoding \u001b[38;5;129;01mand\u001b[39;00m \u001b[38;5;124m\"\u001b[39m\u001b[38;5;124mb\u001b[39m\u001b[38;5;124m\"\u001b[39m \u001b[38;5;129;01mnot\u001b[39;00m \u001b[38;5;129;01min\u001b[39;00m ioargs\u001b[38;5;241m.\u001b[39mmode:\n\u001b[1;32m    862\u001b[0m         \u001b[38;5;66;03m# Encoding\u001b[39;00m\n\u001b[0;32m--> 863\u001b[0m         handle \u001b[38;5;241m=\u001b[39m \u001b[38;5;28;43mopen\u001b[39;49m\u001b[43m(\u001b[49m\n\u001b[1;32m    864\u001b[0m \u001b[43m            \u001b[49m\u001b[43mhandle\u001b[49m\u001b[43m,\u001b[49m\n\u001b[1;32m    865\u001b[0m \u001b[43m            \u001b[49m\u001b[43mioargs\u001b[49m\u001b[38;5;241;43m.\u001b[39;49m\u001b[43mmode\u001b[49m\u001b[43m,\u001b[49m\n\u001b[1;32m    866\u001b[0m \u001b[43m            \u001b[49m\u001b[43mencoding\u001b[49m\u001b[38;5;241;43m=\u001b[39;49m\u001b[43mioargs\u001b[49m\u001b[38;5;241;43m.\u001b[39;49m\u001b[43mencoding\u001b[49m\u001b[43m,\u001b[49m\n\u001b[1;32m    867\u001b[0m \u001b[43m            \u001b[49m\u001b[43merrors\u001b[49m\u001b[38;5;241;43m=\u001b[39;49m\u001b[43merrors\u001b[49m\u001b[43m,\u001b[49m\n\u001b[1;32m    868\u001b[0m \u001b[43m            \u001b[49m\u001b[43mnewline\u001b[49m\u001b[38;5;241;43m=\u001b[39;49m\u001b[38;5;124;43m\"\u001b[39;49m\u001b[38;5;124;43m\"\u001b[39;49m\u001b[43m,\u001b[49m\n\u001b[1;32m    869\u001b[0m \u001b[43m        \u001b[49m\u001b[43m)\u001b[49m\n\u001b[1;32m    870\u001b[0m     \u001b[38;5;28;01melse\u001b[39;00m:\n\u001b[1;32m    871\u001b[0m         \u001b[38;5;66;03m# Binary mode\u001b[39;00m\n\u001b[1;32m    872\u001b[0m         handle \u001b[38;5;241m=\u001b[39m \u001b[38;5;28mopen\u001b[39m(handle, ioargs\u001b[38;5;241m.\u001b[39mmode)\n",
      "\u001b[0;31mFileNotFoundError\u001b[0m: [Errno 2] No such file or directory: '../../data/data_ea/data/synthetic/profiles/10K.csv'"
     ]
    }
   ],
   "source": [
    "from pyjedai.datamodel import Data\n",
    "\n",
    "import pandas as pd\n",
    "\n",
    "# Clean - Clean Basic\n",
    "\n",
    "# d1 = pd.read_csv(\"./../data/ccer/D2/abt.csv\", sep='|', engine='python', na_filter=False)\n",
    "# d2 = pd.read_csv(\"./../data/ccer/D2/buy.csv\", sep='|', engine='python', na_filter=False)\n",
    "# gt = pd.read_csv(\"./../data/ccer/D2/gt.csv\", sep='|', engine='python')\n",
    "\n",
    "# data = Data(dataset_1=d1,\n",
    "#             id_column_name_1='id',\n",
    "#             dataset_2=d2,\n",
    "#             id_column_name_2='id',\n",
    "#             ground_truth=gt)\n",
    "\n",
    "# d1 = pd.read_csv(\"./../data/data_ea/data/real/D10(movies)/dbpedia.csv\", sep='|', engine='python', na_filter=False)\n",
    "# d2 = pd.read_csv(\"./../data/data_ea/data/real/D10(movies)/imdb.csv\", sep='|', engine='python', na_filter=False, on_bad_lines='warn')\n",
    "\n",
    "# gt = pd.read_csv(\"./../data/data_ea/data/real/D10(movies)/gtImDb.csv\", sep='|', engine='python')\n",
    "\n",
    "# data = Data(dataset_1=d1,\n",
    "#             id_column_name_1='id',\n",
    "#             dataset_2=d2,\n",
    "#             id_column_name_2='id',\n",
    "#             ground_truth=gt)\n",
    "\n",
    "\n",
    "\n",
    "\n",
    "# d1 = pd.read_csv(\"./../data/der/cora/cora.csv\", sep='|')\n",
    "# gt = pd.read_csv(\"./../data/der/cora/cora_gt.csv\", sep='|', header=None)\n",
    "# attr = ['Entity Id','author', 'title']\n",
    "\n",
    "# data = Data(\n",
    "#     dataset_1=d1,\n",
    "#     id_column_name_1='Entity Id',\n",
    "#     ground_truth=gt,\n",
    "#     attributes_1=attr\n",
    "# )\n",
    "\n",
    "d1 = pd.read_csv(\"./../data/data_ea/data/synthetic/profiles/10K.csv\", sep='|', engine='python', na_filter=False)\n",
    "gt = pd.read_csv(\"./../data/data_ea/data/synthetic/ground_truths/10Kduplicates.csv\", sep='|', engine='python')\n",
    "\n",
    "data = Data(dataset_1=d1,\n",
    "        id_column_name_1='Id',\n",
    "        ground_truth=gt)\n",
    "\n",
    "# d1 = pd.read_csv(\"./../data/ccer/D2/abt.csv\", sep='|', engine='python', na_filter=False)\n",
    "# d2 = pd.read_csv(\"./../data/ccer/D2/buy.csv\", sep='|', engine='python', na_filter=False)\n",
    "# gt = pd.read_csv(\"./../data/ccer/D2/gt.csv\", sep='|', engine='python')\n",
    "\n",
    "# data = Data(dataset_1=d1,\n",
    "#             id_column_name_1='id',\n",
    "#             dataset_2=d2,\n",
    "#             id_column_name_2='id',\n",
    "#             ground_truth=gt)"
   ]
  },
  {
   "cell_type": "code",
   "execution_count": 7,
   "id": "99603d49145425f2",
   "metadata": {
    "ExecuteTime": {
     "end_time": "2024-04-09T23:28:16.070455799Z",
     "start_time": "2024-04-09T23:28:16.045300873Z"
    },
    "collapsed": false,
    "jupyter": {
     "outputs_hidden": false
    }
   },
   "outputs": [
    {
     "name": "stdout",
     "output_type": "stream",
     "text": [
      "------------------------- Data -------------------------\n",
      "Type of Entity Resolution:  Dirty\n",
      "Dataset-1:\n",
      "\tNumber of entities:  10000\n",
      "\tNumber of NaN values:  0\n",
      "\tAttributes: \n",
      "\t\t ['given_name', 'surname', 'date_of_birth', 'address_1', 'address_2', 'street_number', 'postcode', 'soc_sec_id', 'suburb', 'phone_number', 'state', 'age']\n",
      "\n",
      "Total number of entities:  10000\n",
      "Number of matching pairs in ground-truth:  8705\n",
      "-------------------------------------------------------- \n",
      "\n"
     ]
    }
   ],
   "source": [
    "data.print_specs()"
   ]
  },
  {
   "cell_type": "code",
   "execution_count": 6,
   "id": "98e671b939347e22",
   "metadata": {
    "ExecuteTime": {
     "end_time": "2024-02-14T17:52:24.501752702Z",
     "start_time": "2024-02-14T17:52:24.485404079Z"
    },
    "collapsed": false,
    "jupyter": {
     "outputs_hidden": false
    }
   },
   "outputs": [],
   "source": [
    "# shared_data.rdd_dataset_1.take(1)"
   ]
  },
  {
   "cell_type": "code",
   "execution_count": null,
   "id": "943911f212d50b49",
   "metadata": {
    "ExecuteTime": {
     "end_time": "2024-04-09T23:20:10.441890116Z",
     "start_time": "2024-04-09T23:20:10.402373951Z"
    },
    "collapsed": false,
    "jupyter": {
     "outputs_hidden": false
    }
   },
   "outputs": [
    {
     "name": "stderr",
     "output_type": "stream",
     "text": [
      "/home/conda/miniconda3/envs/spark_experiments/lib/python3.9/site-packages/pyjedai/datamodel.py:288: FutureWarning: DataFrame.applymap has been deprecated. Use DataFrame.map instead.\n",
      "  self.dataset_1 = self.dataset_1.applymap(lambda x: x.lower())\n"
     ]
    }
   ],
   "source": [
    "data.clean_dataset(remove_stopwords=False,\n",
    "                   remove_punctuation=False,\n",
    "                   remove_numbers=False,\n",
    "                   remove_unicodes=False)"
   ]
  },
  {
   "cell_type": "code",
   "execution_count": 19,
   "id": "7faa6c5318b6a643",
   "metadata": {
    "ExecuteTime": {
     "end_time": "2024-04-10T00:11:12.694052019Z",
     "start_time": "2024-04-10T00:11:11.526300318Z"
    },
    "collapsed": false,
    "jupyter": {
     "outputs_hidden": false
    }
   },
   "outputs": [],
   "source": [
    "from pyjedai.block_building import (\n",
    "    StandardBlocking,\n",
    "    QGramsBlocking,\n",
    "    ExtendedQGramsBlocking,\n",
    "    SuffixArraysBlocking,\n",
    "    ExtendedSuffixArraysBlocking,\n",
    ")\n",
    "\n",
    "from pyjedai.parallel.block_building_spark import (\n",
    "    StandardBlockingSpark,\n",
    "    QGramsBlockingSpark,\n",
    "    ExtendedQGramsBlockingSpark,\n",
    "    SuffixArraysBlockingSpark,\n",
    "    ExtendedSuffixArraysBlockingSpark,\n",
    ")\n"
   ]
  },
  {
   "cell_type": "code",
   "execution_count": null,
   "id": "460a47cf042f8e2d",
   "metadata": {
    "ExecuteTime": {
     "end_time": "2024-04-10T00:11:14.698424396Z",
     "start_time": "2024-04-10T00:11:13.760802283Z"
    },
    "collapsed": false,
    "jupyter": {
     "outputs_hidden": false
    },
    "scrolled": true
   },
   "outputs": [
    {
     "data": {
      "application/vnd.jupyter.widget-view+json": {
       "model_id": "1ec00efe93524f35ba13e08d13888485",
       "version_major": 2,
       "version_minor": 0
      },
      "text/plain": [
       "Standard Blocking:   0%|          | 0/10000 [00:00<?, ?it/s]"
      ]
     },
     "metadata": {},
     "output_type": "display_data"
    },
    {
     "name": "stdout",
     "output_type": "stream",
     "text": [
      "***************************************************************************************************************************\n",
      "                                         Μethod:  Standard Blocking\n",
      "***************************************************************************************************************************\n",
      "Method name: Standard Blocking\n",
      "Parameters: \n",
      "Runtime: 2.0585 seconds\n",
      "───────────────────────────────────────────────────────────────────────────────────────────────────────────────────────────\n",
      "Performance:\n",
      "\tPrecision:      0.03% \n",
      "\tRecall:        99.93%\n",
      "\tF1-score:       0.06%\n",
      "───────────────────────────────────────────────────────────────────────────────────────────────────────────────────────────\n",
      "Classification report:\n",
      "\tTrue positives: 8699\n",
      "\tFalse positives: 28383015\n",
      "\tTrue negatives: 49986289\n",
      "\tFalse negatives: 6\n",
      "\tTotal comparisons: 28391714\n",
      "───────────────────────────────────────────────────────────────────────────────────────────────────────────────────────────\n"
     ]
    }
   ],
   "source": [
    "\n",
    "\n",
    "bb1 = StandardBlocking()\n",
    "# blocks_correct = bb1.build_blocks(data, attributes_1=['name'], attributes_2=['name'])\n",
    "blocks_correct = bb1.build_blocks(data)\n",
    "# print(len(blocks_correct))\n",
    "# print(bb1.execution_time)\n",
    "_ = bb1.evaluate(blocks_correct, with_classification_report=True)"
   ]
  },
  {
   "cell_type": "code",
   "execution_count": null,
   "id": "9dac507c1f9a12f4",
   "metadata": {
    "ExecuteTime": {
     "end_time": "2024-04-09T21:59:00.354134860Z",
     "start_time": "2024-04-09T21:58:52.613611880Z"
    },
    "collapsed": false,
    "jupyter": {
     "outputs_hidden": false
    }
   },
   "outputs": [
    {
     "data": {
      "application/vnd.jupyter.widget-view+json": {
       "model_id": "7b338d15b55b4aa7a758644ef690f4b0",
       "version_major": 2,
       "version_minor": 0
      },
      "text/plain": [
       "Standard Blocking Spark:   0%|          | 0/5 [00:00<?, ?it/s]"
      ]
     },
     "metadata": {},
     "output_type": "display_data"
    },
    {
     "name": "stdout",
     "output_type": "stream",
     "text": [
      "ParallelCollectionRDD[36] at readRDDFromFile at PythonRDD.scala:289\n"
     ]
    }
   ],
   "source": [
    "bb = StandardBlockingSpark(sc)\n",
    "\n",
    "# blocks = bb.build_blocks(data, attributes_1=['name'], attributes_2=['name'])\n",
    "\n",
    "rdd_blocks = bb.build_blocks(data)\n",
    "# _ = bb.evaluate(rdd_blocks, with_classification_report=True)\n",
    "\n"
   ]
  },
  {
   "cell_type": "code",
   "execution_count": 12,
   "id": "dc4847e8aee8f9f1",
   "metadata": {
    "ExecuteTime": {
     "end_time": "2024-04-09T21:59:01.202909447Z",
     "start_time": "2024-04-09T21:59:00.885453732Z"
    },
    "collapsed": false,
    "jupyter": {
     "outputs_hidden": false
    }
   },
   "outputs": [
    {
     "name": "stdout",
     "output_type": "stream",
     "text": [
      "***************************************************************************************************************************\n",
      "                                         Μethod:  Standard Blocking Spark\n",
      "***************************************************************************************************************************\n",
      "Method name: Standard Blocking Spark\n",
      "Parameters: \n",
      "Runtime: 10.2611 seconds\n",
      "───────────────────────────────────────────────────────────────────────────────────────────────────────────────────────────\n",
      "Performance:\n",
      "\tPrecision:      0.03% \n",
      "\tRecall:        99.93%\n",
      "\tF1-score:       0.06%\n",
      "───────────────────────────────────────────────────────────────────────────────────────────────────────────────────────────\n",
      "Classification report:\n",
      "\tTrue positives: 8699\n",
      "\tFalse positives: 28383015\n",
      "\tTrue negatives: 49986289\n",
      "\tFalse negatives: 6\n",
      "\tTotal comparisons: 28391714\n",
      "───────────────────────────────────────────────────────────────────────────────────────────────────────────────────────────\n"
     ]
    }
   ],
   "source": [
    "# # print(len(bb.blocks))\n",
    "# my_min = int(bb.execution_time/60)\n",
    "# my_sec = bb.execution_time%60\n",
    "\n",
    "# print(my_min,\"m \",my_sec,\"s\")\n",
    "# print(bb1.execution_time)\n",
    "# print(len(rdd_blocks) == len(blocks_correct))\n",
    "\n",
    "# bb.report()\n",
    "_ = bb.evaluate(rdd_blocks, with_classification_report=True)\n",
    "\n",
    "\n",
    "# bb.blocks['cc2000'].entities_D2"
   ]
  },
  {
   "cell_type": "code",
   "execution_count": 14,
   "id": "90d730a71e032bfa",
   "metadata": {
    "ExecuteTime": {
     "end_time": "2024-03-11T18:12:47.596218104Z",
     "start_time": "2024-03-11T18:12:47.570197883Z"
    },
    "collapsed": false,
    "jupyter": {
     "outputs_hidden": false
    }
   },
   "outputs": [],
   "source": [
    "from pyjedai.block_cleaning import BlockFiltering"
   ]
  },
  {
   "cell_type": "code",
   "execution_count": 15,
   "id": "abfe675f747d1daf",
   "metadata": {
    "ExecuteTime": {
     "end_time": "2024-03-07T16:07:50.512233132Z",
     "start_time": "2024-03-07T16:07:50.401631395Z"
    },
    "collapsed": false,
    "jupyter": {
     "outputs_hidden": false
    }
   },
   "outputs": [
    {
     "data": {
      "application/vnd.jupyter.widget-view+json": {
       "model_id": "9012addaafdc4182af8e9d740c474788",
       "version_major": 2,
       "version_minor": 0
      },
      "text/plain": [
       "Block Filtering:   0%|          | 0/3 [00:00<?, ?it/s]"
      ]
     },
     "metadata": {},
     "output_type": "display_data"
    },
    {
     "data": {
      "application/vnd.jupyter.widget-view+json": {
       "model_id": "c379be405ede4f8191940f9184157d61",
       "version_major": 2,
       "version_minor": 0
      },
      "text/plain": [
       "Block Filtering:   0%|          | 0/3 [00:00<?, ?it/s]"
      ]
     },
     "metadata": {},
     "output_type": "display_data"
    }
   ],
   "source": [
    "bf = BlockFiltering(ratio=0.5)\n",
    "filtered_blocks = bf.process(blocks_correct, data, tqdm_disable=False)\n",
    "filtered_blocks_rdd = bf.process(rdd_blocks, data, tqdm_disable=False)\n"
   ]
  },
  {
   "cell_type": "code",
   "execution_count": 16,
   "id": "a91573ba8dc66b2e",
   "metadata": {
    "ExecuteTime": {
     "end_time": "2024-02-14T17:49:04.963556921Z",
     "start_time": "2024-02-14T17:49:04.740315251Z"
    },
    "collapsed": false,
    "jupyter": {
     "outputs_hidden": false
    }
   },
   "outputs": [
    {
     "name": "stdout",
     "output_type": "stream",
     "text": [
      "OrderedSet([0, 900, 7883, 2675, 2831, 6068, 5490, 8116, 7120, 4965, 7145, 4547, 4847, 6926])\n",
      "OrderedSet([0, 7883, 6068, 2831, 900, 2675, 7120, 8116, 5490, 4965, 4847, 7145, 4547, 6926])\n"
     ]
    }
   ],
   "source": [
    "\n",
    "# for key in filtered_blocks: \n",
    "#     if filtered_blocks[key].entities_D1 != filtered_blocks_rdd[key].entities_D1:\n",
    "#         print(key)\n",
    "        \n",
    "\n",
    "print(filtered_blocks['6050'].entities_D1)\n",
    "print(filtered_blocks_rdd['6050'].entities_D1)      \n",
    "\n",
    "\n"
   ]
  },
  {
   "cell_type": "code",
   "execution_count": 17,
   "id": "ce689ad35e1773d3",
   "metadata": {
    "ExecuteTime": {
     "end_time": "2024-02-14T17:49:04.999730825Z",
     "start_time": "2024-02-14T17:49:04.784465634Z"
    },
    "collapsed": false,
    "jupyter": {
     "outputs_hidden": false
    }
   },
   "outputs": [
    {
     "name": "stdout",
     "output_type": "stream",
     "text": [
      "***************************************************************************************************************************\n",
      "                                         Μethod:  Block Filtering\n",
      "***************************************************************************************************************************\n",
      "Method name: Block Filtering\n",
      "Parameters: \n",
      "\tRatio: 0.5\n",
      "Runtime: 1.6152 seconds\n",
      "───────────────────────────────────────────────────────────────────────────────────────────────────────────────────────────\n",
      "Performance:\n",
      "\tPrecision:      3.35% \n",
      "\tRecall:        98.02%\n",
      "\tF1-score:       6.48%\n",
      "───────────────────────────────────────────────────────────────────────────────────────────────────────────────────────────\n",
      "***************************************************************************************************************************\n",
      "                                         Μethod:  Block Filtering\n",
      "***************************************************************************************************************************\n",
      "Method name: Block Filtering\n",
      "Parameters: \n",
      "\tRatio: 0.5\n",
      "Runtime: 1.6152 seconds\n",
      "───────────────────────────────────────────────────────────────────────────────────────────────────────────────────────────\n",
      "Performance:\n",
      "\tPrecision:      3.35% \n",
      "\tRecall:        97.99%\n",
      "\tF1-score:       6.47%\n",
      "───────────────────────────────────────────────────────────────────────────────────────────────────────────────────────────\n"
     ]
    }
   ],
   "source": [
    "_ = bf.evaluate(filtered_blocks)\n",
    "_ = bf.evaluate(filtered_blocks_rdd)"
   ]
  },
  {
   "cell_type": "code",
   "execution_count": 43,
   "id": "f2107280-46cc-4ff0-8338-14b246295608",
   "metadata": {},
   "outputs": [],
   "source": [
    "for (id, rdd) in sc._jsc.getPersistentRDDs().items():\n",
    "    rdd.unpersist()"
   ]
  },
  {
   "cell_type": "code",
   "execution_count": 18,
   "id": "be65ca44fa86c6c5",
   "metadata": {
    "collapsed": false,
    "jupyter": {
     "outputs_hidden": false
    }
   },
   "outputs": [],
   "source": [
    "from pyjedai.parallel.block_cleaning_spark import BlockFilteringSpark"
   ]
  },
  {
   "cell_type": "code",
   "execution_count": 22,
   "id": "d7617b6636b302f2",
   "metadata": {
    "collapsed": false,
    "jupyter": {
     "outputs_hidden": false
    }
   },
   "outputs": [
    {
     "data": {
      "application/vnd.jupyter.widget-view+json": {
       "model_id": "eb3be3b11eb64838ab280b14476c73ac",
       "version_major": 2,
       "version_minor": 0
      },
      "text/plain": [
       "Block Filtering Spark:   0%|          | 0/3 [00:00<?, ?it/s]"
      ]
     },
     "metadata": {},
     "output_type": "display_data"
    },
    {
     "name": "stdout",
     "output_type": "stream",
     "text": [
      "0\n"
     ]
    },
    {
     "name": "stderr",
     "output_type": "stream",
     "text": [
      "24/07/16 03:50:04 ERROR Executor: Exception in task 0.0 in stage 13.0 (TID 49)1]\n",
      "org.apache.spark.api.python.PythonException: Traceback (most recent call last):\n",
      "  File \"/home/conda/miniconda3/envs/spark_experiments/lib/python3.9/site-packages/pyspark/python/lib/pyspark.zip/pyspark/worker.py\", line 1247, in main\n",
      "    process()\n",
      "  File \"/home/conda/miniconda3/envs/spark_experiments/lib/python3.9/site-packages/pyspark/python/lib/pyspark.zip/pyspark/worker.py\", line 1239, in process\n",
      "    serializer.dump_stream(out_iter, outfile)\n",
      "  File \"/home/conda/miniconda3/envs/spark_experiments/lib/python3.9/site-packages/pyspark/python/lib/pyspark.zip/pyspark/serializers.py\", line 274, in dump_stream\n",
      "    vs = list(itertools.islice(iterator, batch))\n",
      "  File \"/home/conda/miniconda3/envs/spark_experiments/lib/python3.9/site-packages/pyspark/python/lib/pyspark.zip/pyspark/util.py\", line 83, in wrapper\n",
      "    return f(*args, **kwargs)\n",
      "  File \"/home/thesis_nikoletos_1/pyJedAI-Dev/src/pyjedai/parallel/utils_spark.py\", line 8, in <lambda>\n",
      "    return rdd.filter(lambda entity: not block_with_one_entity(entity[1], is_dirty_er.value, d1_counter.value))\n",
      "  File \"/home/thesis_nikoletos_1/pyJedAI-Dev/src/pyjedai/parallel/utils_spark.py\", line 43, in block_with_one_entity\n",
      "    return True if ((is_dirty_er and len(block) == 1) or \\\n",
      "TypeError: object of type 'Block' has no len()\n",
      "\n",
      "\tat org.apache.spark.api.python.BasePythonRunner$ReaderIterator.handlePythonException(PythonRunner.scala:572)\n",
      "\tat org.apache.spark.api.python.PythonRunner$$anon$3.read(PythonRunner.scala:784)\n",
      "\tat org.apache.spark.api.python.PythonRunner$$anon$3.read(PythonRunner.scala:766)\n",
      "\tat org.apache.spark.api.python.BasePythonRunner$ReaderIterator.hasNext(PythonRunner.scala:525)\n",
      "\tat org.apache.spark.InterruptibleIterator.hasNext(InterruptibleIterator.scala:37)\n",
      "\tat scala.collection.Iterator.foreach(Iterator.scala:943)\n",
      "\tat scala.collection.Iterator.foreach$(Iterator.scala:943)\n",
      "\tat org.apache.spark.InterruptibleIterator.foreach(InterruptibleIterator.scala:28)\n",
      "\tat scala.collection.generic.Growable.$plus$plus$eq(Growable.scala:62)\n",
      "\tat scala.collection.generic.Growable.$plus$plus$eq$(Growable.scala:53)\n",
      "\tat scala.collection.mutable.ArrayBuffer.$plus$plus$eq(ArrayBuffer.scala:105)\n",
      "\tat scala.collection.mutable.ArrayBuffer.$plus$plus$eq(ArrayBuffer.scala:49)\n",
      "\tat scala.collection.TraversableOnce.to(TraversableOnce.scala:366)\n",
      "\tat scala.collection.TraversableOnce.to$(TraversableOnce.scala:364)\n",
      "\tat org.apache.spark.InterruptibleIterator.to(InterruptibleIterator.scala:28)\n",
      "\tat scala.collection.TraversableOnce.toBuffer(TraversableOnce.scala:358)\n",
      "\tat scala.collection.TraversableOnce.toBuffer$(TraversableOnce.scala:358)\n",
      "\tat org.apache.spark.InterruptibleIterator.toBuffer(InterruptibleIterator.scala:28)\n",
      "\tat scala.collection.TraversableOnce.toArray(TraversableOnce.scala:345)\n",
      "\tat scala.collection.TraversableOnce.toArray$(TraversableOnce.scala:339)\n",
      "\tat org.apache.spark.InterruptibleIterator.toArray(InterruptibleIterator.scala:28)\n",
      "\tat org.apache.spark.rdd.RDD.$anonfun$collect$2(RDD.scala:1049)\n",
      "\tat org.apache.spark.SparkContext.$anonfun$runJob$5(SparkContext.scala:2438)\n",
      "\tat org.apache.spark.scheduler.ResultTask.runTask(ResultTask.scala:93)\n",
      "\tat org.apache.spark.TaskContext.runTaskWithListeners(TaskContext.scala:166)\n",
      "\tat org.apache.spark.scheduler.Task.run(Task.scala:141)\n",
      "\tat org.apache.spark.executor.Executor$TaskRunner.$anonfun$run$4(Executor.scala:620)\n",
      "\tat org.apache.spark.util.SparkErrorUtils.tryWithSafeFinally(SparkErrorUtils.scala:64)\n",
      "\tat org.apache.spark.util.SparkErrorUtils.tryWithSafeFinally$(SparkErrorUtils.scala:61)\n",
      "\tat org.apache.spark.util.Utils$.tryWithSafeFinally(Utils.scala:94)\n",
      "\tat org.apache.spark.executor.Executor$TaskRunner.run(Executor.scala:623)\n",
      "\tat java.base/java.util.concurrent.ThreadPoolExecutor.runWorker(ThreadPoolExecutor.java:1128)\n",
      "\tat java.base/java.util.concurrent.ThreadPoolExecutor$Worker.run(ThreadPoolExecutor.java:628)\n",
      "\tat java.base/java.lang.Thread.run(Thread.java:829)\n",
      "24/07/16 03:50:04 WARN TaskSetManager: Lost task 0.0 in stage 13.0 (TID 49) (88.197.53.173 executor driver): org.apache.spark.api.python.PythonException: Traceback (most recent call last):\n",
      "  File \"/home/conda/miniconda3/envs/spark_experiments/lib/python3.9/site-packages/pyspark/python/lib/pyspark.zip/pyspark/worker.py\", line 1247, in main\n",
      "    process()\n",
      "  File \"/home/conda/miniconda3/envs/spark_experiments/lib/python3.9/site-packages/pyspark/python/lib/pyspark.zip/pyspark/worker.py\", line 1239, in process\n",
      "    serializer.dump_stream(out_iter, outfile)\n",
      "  File \"/home/conda/miniconda3/envs/spark_experiments/lib/python3.9/site-packages/pyspark/python/lib/pyspark.zip/pyspark/serializers.py\", line 274, in dump_stream\n",
      "    vs = list(itertools.islice(iterator, batch))\n",
      "  File \"/home/conda/miniconda3/envs/spark_experiments/lib/python3.9/site-packages/pyspark/python/lib/pyspark.zip/pyspark/util.py\", line 83, in wrapper\n",
      "    return f(*args, **kwargs)\n",
      "  File \"/home/thesis_nikoletos_1/pyJedAI-Dev/src/pyjedai/parallel/utils_spark.py\", line 8, in <lambda>\n",
      "    return rdd.filter(lambda entity: not block_with_one_entity(entity[1], is_dirty_er.value, d1_counter.value))\n",
      "  File \"/home/thesis_nikoletos_1/pyJedAI-Dev/src/pyjedai/parallel/utils_spark.py\", line 43, in block_with_one_entity\n",
      "    return True if ((is_dirty_er and len(block) == 1) or \\\n",
      "TypeError: object of type 'Block' has no len()\n",
      "\n",
      "\tat org.apache.spark.api.python.BasePythonRunner$ReaderIterator.handlePythonException(PythonRunner.scala:572)\n",
      "\tat org.apache.spark.api.python.PythonRunner$$anon$3.read(PythonRunner.scala:784)\n",
      "\tat org.apache.spark.api.python.PythonRunner$$anon$3.read(PythonRunner.scala:766)\n",
      "\tat org.apache.spark.api.python.BasePythonRunner$ReaderIterator.hasNext(PythonRunner.scala:525)\n",
      "\tat org.apache.spark.InterruptibleIterator.hasNext(InterruptibleIterator.scala:37)\n",
      "\tat scala.collection.Iterator.foreach(Iterator.scala:943)\n",
      "\tat scala.collection.Iterator.foreach$(Iterator.scala:943)\n",
      "\tat org.apache.spark.InterruptibleIterator.foreach(InterruptibleIterator.scala:28)\n",
      "\tat scala.collection.generic.Growable.$plus$plus$eq(Growable.scala:62)\n",
      "\tat scala.collection.generic.Growable.$plus$plus$eq$(Growable.scala:53)\n",
      "\tat scala.collection.mutable.ArrayBuffer.$plus$plus$eq(ArrayBuffer.scala:105)\n",
      "\tat scala.collection.mutable.ArrayBuffer.$plus$plus$eq(ArrayBuffer.scala:49)\n",
      "\tat scala.collection.TraversableOnce.to(TraversableOnce.scala:366)\n",
      "\tat scala.collection.TraversableOnce.to$(TraversableOnce.scala:364)\n",
      "\tat org.apache.spark.InterruptibleIterator.to(InterruptibleIterator.scala:28)\n",
      "\tat scala.collection.TraversableOnce.toBuffer(TraversableOnce.scala:358)\n",
      "\tat scala.collection.TraversableOnce.toBuffer$(TraversableOnce.scala:358)\n",
      "\tat org.apache.spark.InterruptibleIterator.toBuffer(InterruptibleIterator.scala:28)\n",
      "\tat scala.collection.TraversableOnce.toArray(TraversableOnce.scala:345)\n",
      "\tat scala.collection.TraversableOnce.toArray$(TraversableOnce.scala:339)\n",
      "\tat org.apache.spark.InterruptibleIterator.toArray(InterruptibleIterator.scala:28)\n",
      "\tat org.apache.spark.rdd.RDD.$anonfun$collect$2(RDD.scala:1049)\n",
      "\tat org.apache.spark.SparkContext.$anonfun$runJob$5(SparkContext.scala:2438)\n",
      "\tat org.apache.spark.scheduler.ResultTask.runTask(ResultTask.scala:93)\n",
      "\tat org.apache.spark.TaskContext.runTaskWithListeners(TaskContext.scala:166)\n",
      "\tat org.apache.spark.scheduler.Task.run(Task.scala:141)\n",
      "\tat org.apache.spark.executor.Executor$TaskRunner.$anonfun$run$4(Executor.scala:620)\n",
      "\tat org.apache.spark.util.SparkErrorUtils.tryWithSafeFinally(SparkErrorUtils.scala:64)\n",
      "\tat org.apache.spark.util.SparkErrorUtils.tryWithSafeFinally$(SparkErrorUtils.scala:61)\n",
      "\tat org.apache.spark.util.Utils$.tryWithSafeFinally(Utils.scala:94)\n",
      "\tat org.apache.spark.executor.Executor$TaskRunner.run(Executor.scala:623)\n",
      "\tat java.base/java.util.concurrent.ThreadPoolExecutor.runWorker(ThreadPoolExecutor.java:1128)\n",
      "\tat java.base/java.util.concurrent.ThreadPoolExecutor$Worker.run(ThreadPoolExecutor.java:628)\n",
      "\tat java.base/java.lang.Thread.run(Thread.java:829)\n",
      "\n",
      "24/07/16 03:50:04 ERROR TaskSetManager: Task 0 in stage 13.0 failed 1 times; aborting job\n"
     ]
    },
    {
     "ename": "Py4JJavaError",
     "evalue": "An error occurred while calling z:org.apache.spark.api.python.PythonRDD.collectAndServe.\n: org.apache.spark.SparkException: Job aborted due to stage failure: Task 0 in stage 13.0 failed 1 times, most recent failure: Lost task 0.0 in stage 13.0 (TID 49) (88.197.53.173 executor driver): org.apache.spark.api.python.PythonException: Traceback (most recent call last):\n  File \"/home/conda/miniconda3/envs/spark_experiments/lib/python3.9/site-packages/pyspark/python/lib/pyspark.zip/pyspark/worker.py\", line 1247, in main\n    process()\n  File \"/home/conda/miniconda3/envs/spark_experiments/lib/python3.9/site-packages/pyspark/python/lib/pyspark.zip/pyspark/worker.py\", line 1239, in process\n    serializer.dump_stream(out_iter, outfile)\n  File \"/home/conda/miniconda3/envs/spark_experiments/lib/python3.9/site-packages/pyspark/python/lib/pyspark.zip/pyspark/serializers.py\", line 274, in dump_stream\n    vs = list(itertools.islice(iterator, batch))\n  File \"/home/conda/miniconda3/envs/spark_experiments/lib/python3.9/site-packages/pyspark/python/lib/pyspark.zip/pyspark/util.py\", line 83, in wrapper\n    return f(*args, **kwargs)\n  File \"/home/thesis_nikoletos_1/pyJedAI-Dev/src/pyjedai/parallel/utils_spark.py\", line 8, in <lambda>\n    return rdd.filter(lambda entity: not block_with_one_entity(entity[1], is_dirty_er.value, d1_counter.value))\n  File \"/home/thesis_nikoletos_1/pyJedAI-Dev/src/pyjedai/parallel/utils_spark.py\", line 43, in block_with_one_entity\n    return True if ((is_dirty_er and len(block) == 1) or \\\nTypeError: object of type 'Block' has no len()\n\n\tat org.apache.spark.api.python.BasePythonRunner$ReaderIterator.handlePythonException(PythonRunner.scala:572)\n\tat org.apache.spark.api.python.PythonRunner$$anon$3.read(PythonRunner.scala:784)\n\tat org.apache.spark.api.python.PythonRunner$$anon$3.read(PythonRunner.scala:766)\n\tat org.apache.spark.api.python.BasePythonRunner$ReaderIterator.hasNext(PythonRunner.scala:525)\n\tat org.apache.spark.InterruptibleIterator.hasNext(InterruptibleIterator.scala:37)\n\tat scala.collection.Iterator.foreach(Iterator.scala:943)\n\tat scala.collection.Iterator.foreach$(Iterator.scala:943)\n\tat org.apache.spark.InterruptibleIterator.foreach(InterruptibleIterator.scala:28)\n\tat scala.collection.generic.Growable.$plus$plus$eq(Growable.scala:62)\n\tat scala.collection.generic.Growable.$plus$plus$eq$(Growable.scala:53)\n\tat scala.collection.mutable.ArrayBuffer.$plus$plus$eq(ArrayBuffer.scala:105)\n\tat scala.collection.mutable.ArrayBuffer.$plus$plus$eq(ArrayBuffer.scala:49)\n\tat scala.collection.TraversableOnce.to(TraversableOnce.scala:366)\n\tat scala.collection.TraversableOnce.to$(TraversableOnce.scala:364)\n\tat org.apache.spark.InterruptibleIterator.to(InterruptibleIterator.scala:28)\n\tat scala.collection.TraversableOnce.toBuffer(TraversableOnce.scala:358)\n\tat scala.collection.TraversableOnce.toBuffer$(TraversableOnce.scala:358)\n\tat org.apache.spark.InterruptibleIterator.toBuffer(InterruptibleIterator.scala:28)\n\tat scala.collection.TraversableOnce.toArray(TraversableOnce.scala:345)\n\tat scala.collection.TraversableOnce.toArray$(TraversableOnce.scala:339)\n\tat org.apache.spark.InterruptibleIterator.toArray(InterruptibleIterator.scala:28)\n\tat org.apache.spark.rdd.RDD.$anonfun$collect$2(RDD.scala:1049)\n\tat org.apache.spark.SparkContext.$anonfun$runJob$5(SparkContext.scala:2438)\n\tat org.apache.spark.scheduler.ResultTask.runTask(ResultTask.scala:93)\n\tat org.apache.spark.TaskContext.runTaskWithListeners(TaskContext.scala:166)\n\tat org.apache.spark.scheduler.Task.run(Task.scala:141)\n\tat org.apache.spark.executor.Executor$TaskRunner.$anonfun$run$4(Executor.scala:620)\n\tat org.apache.spark.util.SparkErrorUtils.tryWithSafeFinally(SparkErrorUtils.scala:64)\n\tat org.apache.spark.util.SparkErrorUtils.tryWithSafeFinally$(SparkErrorUtils.scala:61)\n\tat org.apache.spark.util.Utils$.tryWithSafeFinally(Utils.scala:94)\n\tat org.apache.spark.executor.Executor$TaskRunner.run(Executor.scala:623)\n\tat java.base/java.util.concurrent.ThreadPoolExecutor.runWorker(ThreadPoolExecutor.java:1128)\n\tat java.base/java.util.concurrent.ThreadPoolExecutor$Worker.run(ThreadPoolExecutor.java:628)\n\tat java.base/java.lang.Thread.run(Thread.java:829)\n\nDriver stacktrace:\n\tat org.apache.spark.scheduler.DAGScheduler.failJobAndIndependentStages(DAGScheduler.scala:2856)\n\tat org.apache.spark.scheduler.DAGScheduler.$anonfun$abortStage$2(DAGScheduler.scala:2792)\n\tat org.apache.spark.scheduler.DAGScheduler.$anonfun$abortStage$2$adapted(DAGScheduler.scala:2791)\n\tat scala.collection.mutable.ResizableArray.foreach(ResizableArray.scala:62)\n\tat scala.collection.mutable.ResizableArray.foreach$(ResizableArray.scala:55)\n\tat scala.collection.mutable.ArrayBuffer.foreach(ArrayBuffer.scala:49)\n\tat org.apache.spark.scheduler.DAGScheduler.abortStage(DAGScheduler.scala:2791)\n\tat org.apache.spark.scheduler.DAGScheduler.$anonfun$handleTaskSetFailed$1(DAGScheduler.scala:1247)\n\tat org.apache.spark.scheduler.DAGScheduler.$anonfun$handleTaskSetFailed$1$adapted(DAGScheduler.scala:1247)\n\tat scala.Option.foreach(Option.scala:407)\n\tat org.apache.spark.scheduler.DAGScheduler.handleTaskSetFailed(DAGScheduler.scala:1247)\n\tat org.apache.spark.scheduler.DAGSchedulerEventProcessLoop.doOnReceive(DAGScheduler.scala:3060)\n\tat org.apache.spark.scheduler.DAGSchedulerEventProcessLoop.onReceive(DAGScheduler.scala:2994)\n\tat org.apache.spark.scheduler.DAGSchedulerEventProcessLoop.onReceive(DAGScheduler.scala:2983)\n\tat org.apache.spark.util.EventLoop$$anon$1.run(EventLoop.scala:49)\n\tat org.apache.spark.scheduler.DAGScheduler.runJob(DAGScheduler.scala:989)\n\tat org.apache.spark.SparkContext.runJob(SparkContext.scala:2398)\n\tat org.apache.spark.SparkContext.runJob(SparkContext.scala:2419)\n\tat org.apache.spark.SparkContext.runJob(SparkContext.scala:2438)\n\tat org.apache.spark.SparkContext.runJob(SparkContext.scala:2463)\n\tat org.apache.spark.rdd.RDD.$anonfun$collect$1(RDD.scala:1049)\n\tat org.apache.spark.rdd.RDDOperationScope$.withScope(RDDOperationScope.scala:151)\n\tat org.apache.spark.rdd.RDDOperationScope$.withScope(RDDOperationScope.scala:112)\n\tat org.apache.spark.rdd.RDD.withScope(RDD.scala:410)\n\tat org.apache.spark.rdd.RDD.collect(RDD.scala:1048)\n\tat org.apache.spark.api.python.PythonRDD$.collectAndServe(PythonRDD.scala:195)\n\tat org.apache.spark.api.python.PythonRDD.collectAndServe(PythonRDD.scala)\n\tat java.base/jdk.internal.reflect.NativeMethodAccessorImpl.invoke0(Native Method)\n\tat java.base/jdk.internal.reflect.NativeMethodAccessorImpl.invoke(NativeMethodAccessorImpl.java:62)\n\tat java.base/jdk.internal.reflect.DelegatingMethodAccessorImpl.invoke(DelegatingMethodAccessorImpl.java:43)\n\tat java.base/java.lang.reflect.Method.invoke(Method.java:566)\n\tat py4j.reflection.MethodInvoker.invoke(MethodInvoker.java:244)\n\tat py4j.reflection.ReflectionEngine.invoke(ReflectionEngine.java:374)\n\tat py4j.Gateway.invoke(Gateway.java:282)\n\tat py4j.commands.AbstractCommand.invokeMethod(AbstractCommand.java:132)\n\tat py4j.commands.CallCommand.execute(CallCommand.java:79)\n\tat py4j.ClientServerConnection.waitForCommands(ClientServerConnection.java:182)\n\tat py4j.ClientServerConnection.run(ClientServerConnection.java:106)\n\tat java.base/java.lang.Thread.run(Thread.java:829)\nCaused by: org.apache.spark.api.python.PythonException: Traceback (most recent call last):\n  File \"/home/conda/miniconda3/envs/spark_experiments/lib/python3.9/site-packages/pyspark/python/lib/pyspark.zip/pyspark/worker.py\", line 1247, in main\n    process()\n  File \"/home/conda/miniconda3/envs/spark_experiments/lib/python3.9/site-packages/pyspark/python/lib/pyspark.zip/pyspark/worker.py\", line 1239, in process\n    serializer.dump_stream(out_iter, outfile)\n  File \"/home/conda/miniconda3/envs/spark_experiments/lib/python3.9/site-packages/pyspark/python/lib/pyspark.zip/pyspark/serializers.py\", line 274, in dump_stream\n    vs = list(itertools.islice(iterator, batch))\n  File \"/home/conda/miniconda3/envs/spark_experiments/lib/python3.9/site-packages/pyspark/python/lib/pyspark.zip/pyspark/util.py\", line 83, in wrapper\n    return f(*args, **kwargs)\n  File \"/home/thesis_nikoletos_1/pyJedAI-Dev/src/pyjedai/parallel/utils_spark.py\", line 8, in <lambda>\n    return rdd.filter(lambda entity: not block_with_one_entity(entity[1], is_dirty_er.value, d1_counter.value))\n  File \"/home/thesis_nikoletos_1/pyJedAI-Dev/src/pyjedai/parallel/utils_spark.py\", line 43, in block_with_one_entity\n    return True if ((is_dirty_er and len(block) == 1) or \\\nTypeError: object of type 'Block' has no len()\n\n\tat org.apache.spark.api.python.BasePythonRunner$ReaderIterator.handlePythonException(PythonRunner.scala:572)\n\tat org.apache.spark.api.python.PythonRunner$$anon$3.read(PythonRunner.scala:784)\n\tat org.apache.spark.api.python.PythonRunner$$anon$3.read(PythonRunner.scala:766)\n\tat org.apache.spark.api.python.BasePythonRunner$ReaderIterator.hasNext(PythonRunner.scala:525)\n\tat org.apache.spark.InterruptibleIterator.hasNext(InterruptibleIterator.scala:37)\n\tat scala.collection.Iterator.foreach(Iterator.scala:943)\n\tat scala.collection.Iterator.foreach$(Iterator.scala:943)\n\tat org.apache.spark.InterruptibleIterator.foreach(InterruptibleIterator.scala:28)\n\tat scala.collection.generic.Growable.$plus$plus$eq(Growable.scala:62)\n\tat scala.collection.generic.Growable.$plus$plus$eq$(Growable.scala:53)\n\tat scala.collection.mutable.ArrayBuffer.$plus$plus$eq(ArrayBuffer.scala:105)\n\tat scala.collection.mutable.ArrayBuffer.$plus$plus$eq(ArrayBuffer.scala:49)\n\tat scala.collection.TraversableOnce.to(TraversableOnce.scala:366)\n\tat scala.collection.TraversableOnce.to$(TraversableOnce.scala:364)\n\tat org.apache.spark.InterruptibleIterator.to(InterruptibleIterator.scala:28)\n\tat scala.collection.TraversableOnce.toBuffer(TraversableOnce.scala:358)\n\tat scala.collection.TraversableOnce.toBuffer$(TraversableOnce.scala:358)\n\tat org.apache.spark.InterruptibleIterator.toBuffer(InterruptibleIterator.scala:28)\n\tat scala.collection.TraversableOnce.toArray(TraversableOnce.scala:345)\n\tat scala.collection.TraversableOnce.toArray$(TraversableOnce.scala:339)\n\tat org.apache.spark.InterruptibleIterator.toArray(InterruptibleIterator.scala:28)\n\tat org.apache.spark.rdd.RDD.$anonfun$collect$2(RDD.scala:1049)\n\tat org.apache.spark.SparkContext.$anonfun$runJob$5(SparkContext.scala:2438)\n\tat org.apache.spark.scheduler.ResultTask.runTask(ResultTask.scala:93)\n\tat org.apache.spark.TaskContext.runTaskWithListeners(TaskContext.scala:166)\n\tat org.apache.spark.scheduler.Task.run(Task.scala:141)\n\tat org.apache.spark.executor.Executor$TaskRunner.$anonfun$run$4(Executor.scala:620)\n\tat org.apache.spark.util.SparkErrorUtils.tryWithSafeFinally(SparkErrorUtils.scala:64)\n\tat org.apache.spark.util.SparkErrorUtils.tryWithSafeFinally$(SparkErrorUtils.scala:61)\n\tat org.apache.spark.util.Utils$.tryWithSafeFinally(Utils.scala:94)\n\tat org.apache.spark.executor.Executor$TaskRunner.run(Executor.scala:623)\n\tat java.base/java.util.concurrent.ThreadPoolExecutor.runWorker(ThreadPoolExecutor.java:1128)\n\tat java.base/java.util.concurrent.ThreadPoolExecutor$Worker.run(ThreadPoolExecutor.java:628)\n\t... 1 more\n",
     "output_type": "error",
     "traceback": [
      "\u001b[0;31m---------------------------------------------------------------------------\u001b[0m",
      "\u001b[0;31mPy4JJavaError\u001b[0m                             Traceback (most recent call last)",
      "Cell \u001b[0;32mIn[22], line 2\u001b[0m\n\u001b[1;32m      1\u001b[0m bf \u001b[38;5;241m=\u001b[39m BlockFilteringSpark(sc,ratio\u001b[38;5;241m=\u001b[39m\u001b[38;5;241m0.5\u001b[39m)\n\u001b[0;32m----> 2\u001b[0m filtered_blocks \u001b[38;5;241m=\u001b[39m \u001b[43mbf\u001b[49m\u001b[38;5;241;43m.\u001b[39;49m\u001b[43mprocess\u001b[49m\u001b[43m(\u001b[49m\u001b[43mrdd_blocks\u001b[49m\u001b[43m,\u001b[49m\u001b[43m \u001b[49m\u001b[43mdata\u001b[49m\u001b[43m,\u001b[49m\u001b[43m \u001b[49m\u001b[43mtqdm_disable\u001b[49m\u001b[38;5;241;43m=\u001b[39;49m\u001b[38;5;28;43;01mFalse\u001b[39;49;00m\u001b[43m)\u001b[49m\n\u001b[1;32m      3\u001b[0m bf\u001b[38;5;241m.\u001b[39mreport()\n",
      "File \u001b[0;32m~/pyJedAI-Dev/src/pyjedai/parallel/block_cleaning_spark.py:130\u001b[0m, in \u001b[0;36mBlockFilteringSpark.process\u001b[0;34m(self, blocks, data, tqdm_disable)\u001b[0m\n\u001b[1;32m    127\u001b[0m \u001b[38;5;66;03m# self.filtered_blocks = rdd_filtered_blocks.collect()\u001b[39;00m\n\u001b[1;32m    129\u001b[0m \u001b[38;5;28mself\u001b[39m\u001b[38;5;241m.\u001b[39m_progress_bar\u001b[38;5;241m.\u001b[39mupdate(\u001b[38;5;241m1\u001b[39m)\n\u001b[0;32m--> 130\u001b[0m new_blocks \u001b[38;5;241m=\u001b[39m \u001b[38;5;28mdict\u001b[39m(\u001b[43mdrop_single_entity_blocks\u001b[49m\u001b[43m(\u001b[49m\u001b[43mrdd_filtered_blocks\u001b[49m\u001b[43m,\u001b[49m\u001b[43m \u001b[49m\u001b[43mdirty_bc\u001b[49m\u001b[43m,\u001b[49m\u001b[43m \u001b[49m\u001b[43mlimit_bc\u001b[49m\u001b[43m)\u001b[49m\u001b[38;5;241;43m.\u001b[39;49m\u001b[43mcollect\u001b[49m\u001b[43m(\u001b[49m\u001b[43m)\u001b[49m)\n\u001b[1;32m    131\u001b[0m \u001b[38;5;28mself\u001b[39m\u001b[38;5;241m.\u001b[39m_progress_bar\u001b[38;5;241m.\u001b[39mclose()\n\u001b[1;32m    132\u001b[0m \u001b[38;5;28mself\u001b[39m\u001b[38;5;241m.\u001b[39mnum_of_blocks_dropped \u001b[38;5;241m=\u001b[39m \u001b[38;5;28mlen\u001b[39m(blocks) \u001b[38;5;241m-\u001b[39m \u001b[38;5;28mlen\u001b[39m(new_blocks)\n",
      "File \u001b[0;32m/home/conda/miniconda3/envs/spark_experiments/lib/python3.9/site-packages/pyspark/rdd.py:1833\u001b[0m, in \u001b[0;36mRDD.collect\u001b[0;34m(self)\u001b[0m\n\u001b[1;32m   1831\u001b[0m \u001b[38;5;28;01mwith\u001b[39;00m SCCallSiteSync(\u001b[38;5;28mself\u001b[39m\u001b[38;5;241m.\u001b[39mcontext):\n\u001b[1;32m   1832\u001b[0m     \u001b[38;5;28;01massert\u001b[39;00m \u001b[38;5;28mself\u001b[39m\u001b[38;5;241m.\u001b[39mctx\u001b[38;5;241m.\u001b[39m_jvm \u001b[38;5;129;01mis\u001b[39;00m \u001b[38;5;129;01mnot\u001b[39;00m \u001b[38;5;28;01mNone\u001b[39;00m\n\u001b[0;32m-> 1833\u001b[0m     sock_info \u001b[38;5;241m=\u001b[39m \u001b[38;5;28;43mself\u001b[39;49m\u001b[38;5;241;43m.\u001b[39;49m\u001b[43mctx\u001b[49m\u001b[38;5;241;43m.\u001b[39;49m\u001b[43m_jvm\u001b[49m\u001b[38;5;241;43m.\u001b[39;49m\u001b[43mPythonRDD\u001b[49m\u001b[38;5;241;43m.\u001b[39;49m\u001b[43mcollectAndServe\u001b[49m\u001b[43m(\u001b[49m\u001b[38;5;28;43mself\u001b[39;49m\u001b[38;5;241;43m.\u001b[39;49m\u001b[43m_jrdd\u001b[49m\u001b[38;5;241;43m.\u001b[39;49m\u001b[43mrdd\u001b[49m\u001b[43m(\u001b[49m\u001b[43m)\u001b[49m\u001b[43m)\u001b[49m\n\u001b[1;32m   1834\u001b[0m \u001b[38;5;28;01mreturn\u001b[39;00m \u001b[38;5;28mlist\u001b[39m(_load_from_socket(sock_info, \u001b[38;5;28mself\u001b[39m\u001b[38;5;241m.\u001b[39m_jrdd_deserializer))\n",
      "File \u001b[0;32m/home/conda/miniconda3/envs/spark_experiments/lib/python3.9/site-packages/py4j/java_gateway.py:1322\u001b[0m, in \u001b[0;36mJavaMember.__call__\u001b[0;34m(self, *args)\u001b[0m\n\u001b[1;32m   1316\u001b[0m command \u001b[38;5;241m=\u001b[39m proto\u001b[38;5;241m.\u001b[39mCALL_COMMAND_NAME \u001b[38;5;241m+\u001b[39m\\\n\u001b[1;32m   1317\u001b[0m     \u001b[38;5;28mself\u001b[39m\u001b[38;5;241m.\u001b[39mcommand_header \u001b[38;5;241m+\u001b[39m\\\n\u001b[1;32m   1318\u001b[0m     args_command \u001b[38;5;241m+\u001b[39m\\\n\u001b[1;32m   1319\u001b[0m     proto\u001b[38;5;241m.\u001b[39mEND_COMMAND_PART\n\u001b[1;32m   1321\u001b[0m answer \u001b[38;5;241m=\u001b[39m \u001b[38;5;28mself\u001b[39m\u001b[38;5;241m.\u001b[39mgateway_client\u001b[38;5;241m.\u001b[39msend_command(command)\n\u001b[0;32m-> 1322\u001b[0m return_value \u001b[38;5;241m=\u001b[39m \u001b[43mget_return_value\u001b[49m\u001b[43m(\u001b[49m\n\u001b[1;32m   1323\u001b[0m \u001b[43m    \u001b[49m\u001b[43manswer\u001b[49m\u001b[43m,\u001b[49m\u001b[43m \u001b[49m\u001b[38;5;28;43mself\u001b[39;49m\u001b[38;5;241;43m.\u001b[39;49m\u001b[43mgateway_client\u001b[49m\u001b[43m,\u001b[49m\u001b[43m \u001b[49m\u001b[38;5;28;43mself\u001b[39;49m\u001b[38;5;241;43m.\u001b[39;49m\u001b[43mtarget_id\u001b[49m\u001b[43m,\u001b[49m\u001b[43m \u001b[49m\u001b[38;5;28;43mself\u001b[39;49m\u001b[38;5;241;43m.\u001b[39;49m\u001b[43mname\u001b[49m\u001b[43m)\u001b[49m\n\u001b[1;32m   1325\u001b[0m \u001b[38;5;28;01mfor\u001b[39;00m temp_arg \u001b[38;5;129;01min\u001b[39;00m temp_args:\n\u001b[1;32m   1326\u001b[0m     \u001b[38;5;28;01mif\u001b[39;00m \u001b[38;5;28mhasattr\u001b[39m(temp_arg, \u001b[38;5;124m\"\u001b[39m\u001b[38;5;124m_detach\u001b[39m\u001b[38;5;124m\"\u001b[39m):\n",
      "File \u001b[0;32m/home/conda/miniconda3/envs/spark_experiments/lib/python3.9/site-packages/py4j/protocol.py:326\u001b[0m, in \u001b[0;36mget_return_value\u001b[0;34m(answer, gateway_client, target_id, name)\u001b[0m\n\u001b[1;32m    324\u001b[0m value \u001b[38;5;241m=\u001b[39m OUTPUT_CONVERTER[\u001b[38;5;28mtype\u001b[39m](answer[\u001b[38;5;241m2\u001b[39m:], gateway_client)\n\u001b[1;32m    325\u001b[0m \u001b[38;5;28;01mif\u001b[39;00m answer[\u001b[38;5;241m1\u001b[39m] \u001b[38;5;241m==\u001b[39m REFERENCE_TYPE:\n\u001b[0;32m--> 326\u001b[0m     \u001b[38;5;28;01mraise\u001b[39;00m Py4JJavaError(\n\u001b[1;32m    327\u001b[0m         \u001b[38;5;124m\"\u001b[39m\u001b[38;5;124mAn error occurred while calling \u001b[39m\u001b[38;5;132;01m{0}\u001b[39;00m\u001b[38;5;132;01m{1}\u001b[39;00m\u001b[38;5;132;01m{2}\u001b[39;00m\u001b[38;5;124m.\u001b[39m\u001b[38;5;130;01m\\n\u001b[39;00m\u001b[38;5;124m\"\u001b[39m\u001b[38;5;241m.\u001b[39m\n\u001b[1;32m    328\u001b[0m         \u001b[38;5;28mformat\u001b[39m(target_id, \u001b[38;5;124m\"\u001b[39m\u001b[38;5;124m.\u001b[39m\u001b[38;5;124m\"\u001b[39m, name), value)\n\u001b[1;32m    329\u001b[0m \u001b[38;5;28;01melse\u001b[39;00m:\n\u001b[1;32m    330\u001b[0m     \u001b[38;5;28;01mraise\u001b[39;00m Py4JError(\n\u001b[1;32m    331\u001b[0m         \u001b[38;5;124m\"\u001b[39m\u001b[38;5;124mAn error occurred while calling \u001b[39m\u001b[38;5;132;01m{0}\u001b[39;00m\u001b[38;5;132;01m{1}\u001b[39;00m\u001b[38;5;132;01m{2}\u001b[39;00m\u001b[38;5;124m. Trace:\u001b[39m\u001b[38;5;130;01m\\n\u001b[39;00m\u001b[38;5;132;01m{3}\u001b[39;00m\u001b[38;5;130;01m\\n\u001b[39;00m\u001b[38;5;124m\"\u001b[39m\u001b[38;5;241m.\u001b[39m\n\u001b[1;32m    332\u001b[0m         \u001b[38;5;28mformat\u001b[39m(target_id, \u001b[38;5;124m\"\u001b[39m\u001b[38;5;124m.\u001b[39m\u001b[38;5;124m\"\u001b[39m, name, value))\n",
      "\u001b[0;31mPy4JJavaError\u001b[0m: An error occurred while calling z:org.apache.spark.api.python.PythonRDD.collectAndServe.\n: org.apache.spark.SparkException: Job aborted due to stage failure: Task 0 in stage 13.0 failed 1 times, most recent failure: Lost task 0.0 in stage 13.0 (TID 49) (88.197.53.173 executor driver): org.apache.spark.api.python.PythonException: Traceback (most recent call last):\n  File \"/home/conda/miniconda3/envs/spark_experiments/lib/python3.9/site-packages/pyspark/python/lib/pyspark.zip/pyspark/worker.py\", line 1247, in main\n    process()\n  File \"/home/conda/miniconda3/envs/spark_experiments/lib/python3.9/site-packages/pyspark/python/lib/pyspark.zip/pyspark/worker.py\", line 1239, in process\n    serializer.dump_stream(out_iter, outfile)\n  File \"/home/conda/miniconda3/envs/spark_experiments/lib/python3.9/site-packages/pyspark/python/lib/pyspark.zip/pyspark/serializers.py\", line 274, in dump_stream\n    vs = list(itertools.islice(iterator, batch))\n  File \"/home/conda/miniconda3/envs/spark_experiments/lib/python3.9/site-packages/pyspark/python/lib/pyspark.zip/pyspark/util.py\", line 83, in wrapper\n    return f(*args, **kwargs)\n  File \"/home/thesis_nikoletos_1/pyJedAI-Dev/src/pyjedai/parallel/utils_spark.py\", line 8, in <lambda>\n    return rdd.filter(lambda entity: not block_with_one_entity(entity[1], is_dirty_er.value, d1_counter.value))\n  File \"/home/thesis_nikoletos_1/pyJedAI-Dev/src/pyjedai/parallel/utils_spark.py\", line 43, in block_with_one_entity\n    return True if ((is_dirty_er and len(block) == 1) or \\\nTypeError: object of type 'Block' has no len()\n\n\tat org.apache.spark.api.python.BasePythonRunner$ReaderIterator.handlePythonException(PythonRunner.scala:572)\n\tat org.apache.spark.api.python.PythonRunner$$anon$3.read(PythonRunner.scala:784)\n\tat org.apache.spark.api.python.PythonRunner$$anon$3.read(PythonRunner.scala:766)\n\tat org.apache.spark.api.python.BasePythonRunner$ReaderIterator.hasNext(PythonRunner.scala:525)\n\tat org.apache.spark.InterruptibleIterator.hasNext(InterruptibleIterator.scala:37)\n\tat scala.collection.Iterator.foreach(Iterator.scala:943)\n\tat scala.collection.Iterator.foreach$(Iterator.scala:943)\n\tat org.apache.spark.InterruptibleIterator.foreach(InterruptibleIterator.scala:28)\n\tat scala.collection.generic.Growable.$plus$plus$eq(Growable.scala:62)\n\tat scala.collection.generic.Growable.$plus$plus$eq$(Growable.scala:53)\n\tat scala.collection.mutable.ArrayBuffer.$plus$plus$eq(ArrayBuffer.scala:105)\n\tat scala.collection.mutable.ArrayBuffer.$plus$plus$eq(ArrayBuffer.scala:49)\n\tat scala.collection.TraversableOnce.to(TraversableOnce.scala:366)\n\tat scala.collection.TraversableOnce.to$(TraversableOnce.scala:364)\n\tat org.apache.spark.InterruptibleIterator.to(InterruptibleIterator.scala:28)\n\tat scala.collection.TraversableOnce.toBuffer(TraversableOnce.scala:358)\n\tat scala.collection.TraversableOnce.toBuffer$(TraversableOnce.scala:358)\n\tat org.apache.spark.InterruptibleIterator.toBuffer(InterruptibleIterator.scala:28)\n\tat scala.collection.TraversableOnce.toArray(TraversableOnce.scala:345)\n\tat scala.collection.TraversableOnce.toArray$(TraversableOnce.scala:339)\n\tat org.apache.spark.InterruptibleIterator.toArray(InterruptibleIterator.scala:28)\n\tat org.apache.spark.rdd.RDD.$anonfun$collect$2(RDD.scala:1049)\n\tat org.apache.spark.SparkContext.$anonfun$runJob$5(SparkContext.scala:2438)\n\tat org.apache.spark.scheduler.ResultTask.runTask(ResultTask.scala:93)\n\tat org.apache.spark.TaskContext.runTaskWithListeners(TaskContext.scala:166)\n\tat org.apache.spark.scheduler.Task.run(Task.scala:141)\n\tat org.apache.spark.executor.Executor$TaskRunner.$anonfun$run$4(Executor.scala:620)\n\tat org.apache.spark.util.SparkErrorUtils.tryWithSafeFinally(SparkErrorUtils.scala:64)\n\tat org.apache.spark.util.SparkErrorUtils.tryWithSafeFinally$(SparkErrorUtils.scala:61)\n\tat org.apache.spark.util.Utils$.tryWithSafeFinally(Utils.scala:94)\n\tat org.apache.spark.executor.Executor$TaskRunner.run(Executor.scala:623)\n\tat java.base/java.util.concurrent.ThreadPoolExecutor.runWorker(ThreadPoolExecutor.java:1128)\n\tat java.base/java.util.concurrent.ThreadPoolExecutor$Worker.run(ThreadPoolExecutor.java:628)\n\tat java.base/java.lang.Thread.run(Thread.java:829)\n\nDriver stacktrace:\n\tat org.apache.spark.scheduler.DAGScheduler.failJobAndIndependentStages(DAGScheduler.scala:2856)\n\tat org.apache.spark.scheduler.DAGScheduler.$anonfun$abortStage$2(DAGScheduler.scala:2792)\n\tat org.apache.spark.scheduler.DAGScheduler.$anonfun$abortStage$2$adapted(DAGScheduler.scala:2791)\n\tat scala.collection.mutable.ResizableArray.foreach(ResizableArray.scala:62)\n\tat scala.collection.mutable.ResizableArray.foreach$(ResizableArray.scala:55)\n\tat scala.collection.mutable.ArrayBuffer.foreach(ArrayBuffer.scala:49)\n\tat org.apache.spark.scheduler.DAGScheduler.abortStage(DAGScheduler.scala:2791)\n\tat org.apache.spark.scheduler.DAGScheduler.$anonfun$handleTaskSetFailed$1(DAGScheduler.scala:1247)\n\tat org.apache.spark.scheduler.DAGScheduler.$anonfun$handleTaskSetFailed$1$adapted(DAGScheduler.scala:1247)\n\tat scala.Option.foreach(Option.scala:407)\n\tat org.apache.spark.scheduler.DAGScheduler.handleTaskSetFailed(DAGScheduler.scala:1247)\n\tat org.apache.spark.scheduler.DAGSchedulerEventProcessLoop.doOnReceive(DAGScheduler.scala:3060)\n\tat org.apache.spark.scheduler.DAGSchedulerEventProcessLoop.onReceive(DAGScheduler.scala:2994)\n\tat org.apache.spark.scheduler.DAGSchedulerEventProcessLoop.onReceive(DAGScheduler.scala:2983)\n\tat org.apache.spark.util.EventLoop$$anon$1.run(EventLoop.scala:49)\n\tat org.apache.spark.scheduler.DAGScheduler.runJob(DAGScheduler.scala:989)\n\tat org.apache.spark.SparkContext.runJob(SparkContext.scala:2398)\n\tat org.apache.spark.SparkContext.runJob(SparkContext.scala:2419)\n\tat org.apache.spark.SparkContext.runJob(SparkContext.scala:2438)\n\tat org.apache.spark.SparkContext.runJob(SparkContext.scala:2463)\n\tat org.apache.spark.rdd.RDD.$anonfun$collect$1(RDD.scala:1049)\n\tat org.apache.spark.rdd.RDDOperationScope$.withScope(RDDOperationScope.scala:151)\n\tat org.apache.spark.rdd.RDDOperationScope$.withScope(RDDOperationScope.scala:112)\n\tat org.apache.spark.rdd.RDD.withScope(RDD.scala:410)\n\tat org.apache.spark.rdd.RDD.collect(RDD.scala:1048)\n\tat org.apache.spark.api.python.PythonRDD$.collectAndServe(PythonRDD.scala:195)\n\tat org.apache.spark.api.python.PythonRDD.collectAndServe(PythonRDD.scala)\n\tat java.base/jdk.internal.reflect.NativeMethodAccessorImpl.invoke0(Native Method)\n\tat java.base/jdk.internal.reflect.NativeMethodAccessorImpl.invoke(NativeMethodAccessorImpl.java:62)\n\tat java.base/jdk.internal.reflect.DelegatingMethodAccessorImpl.invoke(DelegatingMethodAccessorImpl.java:43)\n\tat java.base/java.lang.reflect.Method.invoke(Method.java:566)\n\tat py4j.reflection.MethodInvoker.invoke(MethodInvoker.java:244)\n\tat py4j.reflection.ReflectionEngine.invoke(ReflectionEngine.java:374)\n\tat py4j.Gateway.invoke(Gateway.java:282)\n\tat py4j.commands.AbstractCommand.invokeMethod(AbstractCommand.java:132)\n\tat py4j.commands.CallCommand.execute(CallCommand.java:79)\n\tat py4j.ClientServerConnection.waitForCommands(ClientServerConnection.java:182)\n\tat py4j.ClientServerConnection.run(ClientServerConnection.java:106)\n\tat java.base/java.lang.Thread.run(Thread.java:829)\nCaused by: org.apache.spark.api.python.PythonException: Traceback (most recent call last):\n  File \"/home/conda/miniconda3/envs/spark_experiments/lib/python3.9/site-packages/pyspark/python/lib/pyspark.zip/pyspark/worker.py\", line 1247, in main\n    process()\n  File \"/home/conda/miniconda3/envs/spark_experiments/lib/python3.9/site-packages/pyspark/python/lib/pyspark.zip/pyspark/worker.py\", line 1239, in process\n    serializer.dump_stream(out_iter, outfile)\n  File \"/home/conda/miniconda3/envs/spark_experiments/lib/python3.9/site-packages/pyspark/python/lib/pyspark.zip/pyspark/serializers.py\", line 274, in dump_stream\n    vs = list(itertools.islice(iterator, batch))\n  File \"/home/conda/miniconda3/envs/spark_experiments/lib/python3.9/site-packages/pyspark/python/lib/pyspark.zip/pyspark/util.py\", line 83, in wrapper\n    return f(*args, **kwargs)\n  File \"/home/thesis_nikoletos_1/pyJedAI-Dev/src/pyjedai/parallel/utils_spark.py\", line 8, in <lambda>\n    return rdd.filter(lambda entity: not block_with_one_entity(entity[1], is_dirty_er.value, d1_counter.value))\n  File \"/home/thesis_nikoletos_1/pyJedAI-Dev/src/pyjedai/parallel/utils_spark.py\", line 43, in block_with_one_entity\n    return True if ((is_dirty_er and len(block) == 1) or \\\nTypeError: object of type 'Block' has no len()\n\n\tat org.apache.spark.api.python.BasePythonRunner$ReaderIterator.handlePythonException(PythonRunner.scala:572)\n\tat org.apache.spark.api.python.PythonRunner$$anon$3.read(PythonRunner.scala:784)\n\tat org.apache.spark.api.python.PythonRunner$$anon$3.read(PythonRunner.scala:766)\n\tat org.apache.spark.api.python.BasePythonRunner$ReaderIterator.hasNext(PythonRunner.scala:525)\n\tat org.apache.spark.InterruptibleIterator.hasNext(InterruptibleIterator.scala:37)\n\tat scala.collection.Iterator.foreach(Iterator.scala:943)\n\tat scala.collection.Iterator.foreach$(Iterator.scala:943)\n\tat org.apache.spark.InterruptibleIterator.foreach(InterruptibleIterator.scala:28)\n\tat scala.collection.generic.Growable.$plus$plus$eq(Growable.scala:62)\n\tat scala.collection.generic.Growable.$plus$plus$eq$(Growable.scala:53)\n\tat scala.collection.mutable.ArrayBuffer.$plus$plus$eq(ArrayBuffer.scala:105)\n\tat scala.collection.mutable.ArrayBuffer.$plus$plus$eq(ArrayBuffer.scala:49)\n\tat scala.collection.TraversableOnce.to(TraversableOnce.scala:366)\n\tat scala.collection.TraversableOnce.to$(TraversableOnce.scala:364)\n\tat org.apache.spark.InterruptibleIterator.to(InterruptibleIterator.scala:28)\n\tat scala.collection.TraversableOnce.toBuffer(TraversableOnce.scala:358)\n\tat scala.collection.TraversableOnce.toBuffer$(TraversableOnce.scala:358)\n\tat org.apache.spark.InterruptibleIterator.toBuffer(InterruptibleIterator.scala:28)\n\tat scala.collection.TraversableOnce.toArray(TraversableOnce.scala:345)\n\tat scala.collection.TraversableOnce.toArray$(TraversableOnce.scala:339)\n\tat org.apache.spark.InterruptibleIterator.toArray(InterruptibleIterator.scala:28)\n\tat org.apache.spark.rdd.RDD.$anonfun$collect$2(RDD.scala:1049)\n\tat org.apache.spark.SparkContext.$anonfun$runJob$5(SparkContext.scala:2438)\n\tat org.apache.spark.scheduler.ResultTask.runTask(ResultTask.scala:93)\n\tat org.apache.spark.TaskContext.runTaskWithListeners(TaskContext.scala:166)\n\tat org.apache.spark.scheduler.Task.run(Task.scala:141)\n\tat org.apache.spark.executor.Executor$TaskRunner.$anonfun$run$4(Executor.scala:620)\n\tat org.apache.spark.util.SparkErrorUtils.tryWithSafeFinally(SparkErrorUtils.scala:64)\n\tat org.apache.spark.util.SparkErrorUtils.tryWithSafeFinally$(SparkErrorUtils.scala:61)\n\tat org.apache.spark.util.Utils$.tryWithSafeFinally(Utils.scala:94)\n\tat org.apache.spark.executor.Executor$TaskRunner.run(Executor.scala:623)\n\tat java.base/java.util.concurrent.ThreadPoolExecutor.runWorker(ThreadPoolExecutor.java:1128)\n\tat java.base/java.util.concurrent.ThreadPoolExecutor$Worker.run(ThreadPoolExecutor.java:628)\n\t... 1 more\n"
     ]
    }
   ],
   "source": [
    "bf = BlockFilteringSpark(sc,ratio=0.5)\n",
    "filtered_blocks = bf.process(rdd_blocks, data, tqdm_disable=False)\n",
    "bf.report()"
   ]
  },
  {
   "cell_type": "code",
   "execution_count": 19,
   "id": "1a500a7f07d6ff18",
   "metadata": {
    "collapsed": false,
    "jupyter": {
     "outputs_hidden": false
    }
   },
   "outputs": [
    {
     "name": "stdout",
     "output_type": "stream",
     "text": [
      "***************************************************************************************************************************\n",
      "                                         Μethod:  Block Purging\n",
      "***************************************************************************************************************************\n",
      "Method name: Block Purging\n",
      "Parameters: \n",
      "\tSmoothing factor: 1.025\n",
      "\tMax Comparisons per Block: 13920\n",
      "Runtime: 4.7298 seconds\n",
      "───────────────────────────────────────────────────────────────────────────────────────────────────────────────────────────\n",
      "Performance:\n",
      "\tPrecision:      0.24% \n",
      "\tRecall:        99.81%\n",
      "\tF1-score:       0.48%\n",
      "───────────────────────────────────────────────────────────────────────────────────────────────────────────────────────────\n"
     ]
    }
   ],
   "source": [
    "_ = bf.evaluate(filtered_blocks)\n",
    "\n",
    "\n",
    "# print(len(filtered_blocks))\n",
    "# from sys imp?ort getsizeof\n",
    "\n",
    "# print(getsizeof(rdd_blocks.items()))"
   ]
  },
  {
   "cell_type": "code",
   "execution_count": 29,
   "id": "eaa811b4-0fe2-44c7-950e-6a3a894a0afe",
   "metadata": {
    "ExecuteTime": {
     "end_time": "2024-03-12T23:13:14.853083248Z",
     "start_time": "2024-03-12T23:13:14.800352011Z"
    },
    "collapsed": false,
    "jupyter": {
     "outputs_hidden": false
    }
   },
   "outputs": [],
   "source": [
    "from pyjedai.comparison_cleaning import (\n",
    "    WeightedEdgePruning,\n",
    "    WeightedNodePruning,\n",
    "    CardinalityEdgePruning,\n",
    "    CardinalityNodePruning,\n",
    "    BLAST,\n",
    "    ReciprocalCardinalityNodePruning,\n",
    "    ReciprocalWeightedNodePruning,\n",
    "    ComparisonPropagation\n",
    ")\n",
    "\n",
    "from pyjedai.parallel.comparison_cleaning_spark import (\n",
    "    WeightedEdgePruningSpark,\n",
    "    WeightedNodePruningSpark,\n",
    "    CardinalityEdgePruningSpark,\n",
    "    CardinalityNodePruningSpark,\n",
    "    BLASTSpark,\n",
    "    ReciprocalCardinalityNodePruningSpark,\n",
    "    ReciprocalWeightedNodePruningSpark,\n",
    ")"
   ]
  },
  {
   "cell_type": "code",
   "execution_count": 43,
   "id": "b48325db-0172-4560-9e3c-b5cbd9f0403a",
   "metadata": {
    "ExecuteTime": {
     "end_time": "2024-03-12T23:13:17.845259314Z",
     "start_time": "2024-03-12T23:13:17.256292399Z"
    },
    "collapsed": false,
    "jupyter": {
     "outputs_hidden": false
    }
   },
   "outputs": [
    {
     "data": {
      "application/vnd.jupyter.widget-view+json": {
       "model_id": "9b838e8a33f34505a693c9ad69a79f24",
       "version_major": 2,
       "version_minor": 0
      },
      "text/plain": [
       "Reciprocal Weighted Node Pruning:   0%|          | 0/10000 [00:00<?, ?it/s]"
      ]
     },
     "metadata": {},
     "output_type": "display_data"
    },
    {
     "name": "stdout",
     "output_type": "stream",
     "text": [
      "***************************************************************************************************************************\n",
      "                                         Μethod:  Reciprocal Weighted Node Pruning\n",
      "***************************************************************************************************************************\n",
      "Method name: Reciprocal Weighted Node Pruning\n",
      "Parameters: \n",
      "\tNode centric: True\n",
      "\tWeighting scheme: CN-CBS\n",
      "Runtime: 15.4898 seconds\n",
      "───────────────────────────────────────────────────────────────────────────────────────────────────────────────────────────\n",
      "Performance:\n",
      "\tPrecision:     38.23% \n",
      "\tRecall:        85.57%\n",
      "\tF1-score:      52.85%\n",
      "───────────────────────────────────────────────────────────────────────────────────────────────────────────────────────────\n"
     ]
    }
   ],
   "source": [
    "mb = ReciprocalWeightedNodePruning()\n",
    "candidate_pairs_blocks = mb.process(filtered_blocks, data)\n",
    "_ = mb.evaluate(candidate_pairs_blocks)\n"
   ]
  },
  {
   "cell_type": "code",
   "execution_count": 44,
   "id": "cb37b8b9-5811-46c2-99f1-cb1cf1f0bf3d",
   "metadata": {
    "ExecuteTime": {
     "end_time": "2024-03-12T23:13:18.109938668Z",
     "start_time": "2024-03-12T23:13:18.077960925Z"
    },
    "collapsed": false,
    "jupyter": {
     "outputs_hidden": false
    }
   },
   "outputs": [
    {
     "data": {
      "application/vnd.jupyter.widget-view+json": {
       "model_id": "af362bc4502d4b168be0bdd786cd1f91",
       "version_major": 2,
       "version_minor": 0
      },
      "text/plain": [
       "Reciprocal Weighted Node Pruning Spark:   0%|          | 0/10 [00:00<?, ?it/s]"
      ]
     },
     "metadata": {},
     "output_type": "display_data"
    },
    {
     "name": "stdout",
     "output_type": "stream",
     "text": [
      "10\n"
     ]
    },
    {
     "name": "stderr",
     "output_type": "stream",
     "text": [
      "                                                                                \r"
     ]
    },
    {
     "name": "stdout",
     "output_type": "stream",
     "text": [
      "***************************************************************************************************************************\n",
      "                                         Μethod:  Reciprocal Weighted Node Pruning Spark\n",
      "***************************************************************************************************************************\n",
      "Method name: Reciprocal Weighted Node Pruning Spark\n",
      "Parameters: \n",
      "\tNode centric: True\n",
      "\tWeighting scheme: CN-CBS\n",
      "Runtime: 5.5518 seconds\n",
      "───────────────────────────────────────────────────────────────────────────────────────────────────────────────────────────\n",
      "Performance:\n",
      "\tPrecision:     16.68% \n",
      "\tRecall:        85.97%\n",
      "\tF1-score:      27.94%\n",
      "───────────────────────────────────────────────────────────────────────────────────────────────────────────────────────────\n"
     ]
    }
   ],
   "source": [
    "mbSpark = ReciprocalWeightedNodePruningSpark(sc,num_slices=2)\n",
    "candidate_pairs_blocks_spark = mbSpark.process(filtered_blocks_rdd, data)\n",
    "_ = mbSpark.evaluate(candidate_pairs_blocks_spark)\n"
   ]
  },
  {
   "cell_type": "code",
   "execution_count": 60,
   "id": "6ed738b0-76cd-4590-9cde-78926dbf6357",
   "metadata": {
    "ExecuteTime": {
     "end_time": "2024-03-12T23:13:18.109938668Z",
     "start_time": "2024-03-12T23:13:18.077960925Z"
    },
    "collapsed": false,
    "jupyter": {
     "outputs_hidden": false
    }
   },
   "outputs": [
    {
     "data": {
      "application/vnd.jupyter.widget-view+json": {
       "model_id": "8b85aabc3c8749d4a5b196a7508da69b",
       "version_major": 2,
       "version_minor": 0
      },
      "text/plain": [
       "Cardinality Edge Pruning Spark:   0%|          | 0/10 [00:00<?, ?it/s]"
      ]
     },
     "metadata": {},
     "output_type": "display_data"
    },
    {
     "name": "stdout",
     "output_type": "stream",
     "text": [
      "60\n"
     ]
    },
    {
     "name": "stderr",
     "output_type": "stream",
     "text": [
      "                                                                                \r"
     ]
    }
   ],
   "source": [
    "    \n",
    "mbSpark = CardinalityEdgePruningSpark(sc,num_slices =20)\n",
    "candidate_pairs_blocks_spark = mbSpark.process(rdd_blocks, data)"
   ]
  },
  {
   "cell_type": "code",
   "execution_count": 49,
   "id": "c8fdadb5-5862-4c42-9147-b63637b869c9",
   "metadata": {
    "ExecuteTime": {
     "end_time": "2024-02-14T17:57:27.350743990Z",
     "start_time": "2024-02-14T17:57:27.233610289Z"
    }
   },
   "outputs": [
    {
     "name": "stdout",
     "output_type": "stream",
     "text": [
      "***************************************************************************************************************************\n",
      "                                         Μethod:  Weighted Edge Pruning Spark\n",
      "***************************************************************************************************************************\n",
      "Method name: Weighted Edge Pruning Spark\n",
      "Parameters: \n",
      "\tNode centric: False\n",
      "\tWeighting scheme: CBS\n",
      "Runtime: 2.5597 seconds\n",
      "───────────────────────────────────────────────────────────────────────────────────────────────────────────────────────────\n",
      "Performance:\n",
      "\tPrecision:     67.39% \n",
      "\tRecall:        87.65%\n",
      "\tF1-score:      76.20%\n",
      "───────────────────────────────────────────────────────────────────────────────────────────────────────────────────────────\n",
      "***************************************************************************************************************************\n",
      "                                         Μethod:  Weighted Edge Pruning\n",
      "***************************************************************************************************************************\n",
      "Method name: Weighted Edge Pruning\n",
      "Parameters: \n",
      "\tNode centric: False\n",
      "\tWeighting scheme: CBS\n",
      "Runtime: 2.5471 seconds\n",
      "───────────────────────────────────────────────────────────────────────────────────────────────────────────────────────────\n",
      "Performance:\n",
      "\tPrecision:     67.39% \n",
      "\tRecall:        87.65%\n",
      "\tF1-score:      76.20%\n",
      "───────────────────────────────────────────────────────────────────────────────────────────────────────────────────────────\n"
     ]
    }
   ],
   "source": [
    "# print(mbSpark._blocks)\n",
    "# if 0 in mbSpark._nearest_entities:\n",
    "    # print(\"OK\")\n",
    "    \n",
    "# print(mbSpark._entity_index)\n",
    "\n",
    "# attrs = dir(mbEvaluate)\n",
    "\n",
    "# print(mbSpark._distinct_comparisons)\n",
    "# \n",
    "# for i in mbSpark._nearest_entities:\n",
    "#     if i not in mb._nearest_entities:\n",
    "#         print(i)\n",
    "#     if len(mbSpark._nearest_entities[i]) != len(mb._nearest_entities[i]):\n",
    "#         print(i)\n",
    "#         print(mbSpark._nearest_entities[i])\n",
    "# print(sorted(mbSpark._blocks[key]))\n",
    "# print(sorted(mb._blocks[key]))\n",
    "        \n",
    "# print(int(mbSpark._threshold))\n",
    "# print(mb._top_k_edges)\n",
    "# print(mbEvaluate)\n",
    "# print(len(mb._blocks))\n",
    "\n",
    "# for i in mbSpark._nearest_entities.keys():\n",
    "    # if len(mbSpark._nearest_entities[i]) != len(mb._nearest_entities[i]):\n",
    "        # print(i)"
   ]
  },
  {
   "cell_type": "code",
   "execution_count": 35,
   "id": "76e51193-b0d9-418e-bfe6-4ab30acc7c99",
   "metadata": {
    "ExecuteTime": {
     "end_time": "2024-02-14T17:57:28.763259937Z",
     "start_time": "2024-02-14T17:57:28.650507221Z"
    },
    "collapsed": false,
    "jupyter": {
     "outputs_hidden": false
    }
   },
   "outputs": [
    {
     "name": "stdout",
     "output_type": "stream",
     "text": [
      "***************************************************************************************************************************\n",
      "                                         Μethod:  Cardinality Node Pruning\n",
      "***************************************************************************************************************************\n",
      "Method name: Cardinality Node Pruning\n",
      "Parameters: \n",
      "\tNode centric: True\n",
      "\tWeighting scheme: CBS\n",
      "Runtime: 8.7147 seconds\n",
      "───────────────────────────────────────────────────────────────────────────────────────────────────────────────────────────\n",
      "Performance:\n",
      "\tPrecision:     20.08% \n",
      "\tRecall:        90.45%\n",
      "\tF1-score:      32.86%\n",
      "───────────────────────────────────────────────────────────────────────────────────────────────────────────────────────────\n"
     ]
    }
   ],
   "source": [
    "\n",
    "_ = mb.evaluate(candidate_pairs_blocks)"
   ]
  },
  {
   "cell_type": "code",
   "execution_count": 20,
   "id": "5a5e6b7fc89c15b5",
   "metadata": {
    "ExecuteTime": {
     "end_time": "2024-02-14T16:17:12.833266887Z",
     "start_time": "2024-02-14T16:17:12.171885596Z"
    },
    "collapsed": false,
    "jupyter": {
     "outputs_hidden": false
    }
   },
   "outputs": [
    {
     "name": "stderr",
     "output_type": "stream",
     "text": [
      "                                                                                \r"
     ]
    },
    {
     "data": {
      "text/plain": [
       "15"
      ]
     },
     "execution_count": 20,
     "metadata": {},
     "output_type": "execute_result"
    }
   ],
   "source": [
    "mbSpark._top_k_edges.count()"
   ]
  },
  {
   "cell_type": "code",
   "execution_count": 23,
   "id": "f7ea7ba0-f52d-4b05-b774-ec67c34f93d0",
   "metadata": {
    "ExecuteTime": {
     "end_time": "2024-02-14T16:17:53.024918107Z",
     "start_time": "2024-02-14T16:17:52.981926310Z"
    },
    "collapsed": false,
    "jupyter": {
     "outputs_hidden": false
    }
   },
   "outputs": [
    {
     "data": {
      "text/plain": [
       "0"
      ]
     },
     "execution_count": 23,
     "metadata": {},
     "output_type": "execute_result"
    }
   ],
   "source": [
    "mb._top_k_edges.qsize()"
   ]
  },
  {
   "cell_type": "code",
   "execution_count": 20,
   "id": "a14157f0a801bc11",
   "metadata": {
    "ExecuteTime": {
     "end_time": "2024-04-10T00:11:24.086690379Z",
     "start_time": "2024-04-10T00:11:24.016784978Z"
    },
    "collapsed": false,
    "jupyter": {
     "outputs_hidden": false
    }
   },
   "outputs": [],
   "source": [
    "from pyjedai.parallel.matching_spark import EntityMatchingSpark\n",
    "from pyjedai.matching import EntityMatching\n"
   ]
  },
  {
   "cell_type": "code",
   "execution_count": 25,
   "id": "e64c4d7c-2fb9-488a-8586-e6e285b765df",
   "metadata": {},
   "outputs": [
    {
     "data": {
      "application/vnd.jupyter.widget-view+json": {
       "model_id": "84c6fda459c44feaa6fefd3eeb55cde1",
       "version_major": 2,
       "version_minor": 0
      },
      "text/plain": [
       "Entity Matching (dice, white_space_tokenizer):   0%|          | 0/11070 [00:00<?, ?it/s]"
      ]
     },
     "metadata": {},
     "output_type": "display_data"
    }
   ],
   "source": [
    "em1 = EntityMatching()\n",
    "\n",
    "pairs_graph1 = em1.predict(filtered_blocks, data)"
   ]
  },
  {
   "cell_type": "code",
   "execution_count": 27,
   "id": "90f05ea4235035bb",
   "metadata": {
    "ExecuteTime": {
     "end_time": "2024-04-10T00:11:34.846619127Z",
     "start_time": "2024-04-10T00:11:25.522701517Z"
    },
    "collapsed": false,
    "jupyter": {
     "outputs_hidden": false
    }
   },
   "outputs": [
    {
     "name": "stderr",
     "output_type": "stream",
     "text": [
      "[Stage 2:====================================================>     (9 + 1) / 10]\r"
     ]
    }
   ],
   "source": [
    "em = EntityMatchingSpark(sc,\n",
    "    num_slices = 30\n",
    ")\n",
    "\n",
    "pairs_graph = em.predict(filtered_blocks, data, tqdm_disable=True)"
   ]
  },
  {
   "cell_type": "code",
   "execution_count": 15,
   "id": "b7f9b0fee0213a9e",
   "metadata": {
    "ExecuteTime": {
     "end_time": "2024-04-09T23:13:09.072527881Z",
     "start_time": "2024-04-09T23:12:41.160799199Z"
    },
    "collapsed": false,
    "jupyter": {
     "outputs_hidden": false
    }
   },
   "outputs": [
    {
     "data": {
      "image/png": "[encoded data removed]",
      "text/plain": [
       "<Figure size 640x480 with 1 Axes>"
      ]
     },
     "metadata": {},
     "output_type": "display_data"
    }
   ],
   "source": [
    "draw(pairs_graph)"
   ]
  },
  {
   "cell_type": "code",
   "execution_count": 20,
   "id": "a7b600afbc76835",
   "metadata": {
    "ExecuteTime": {
     "end_time": "2024-04-09T23:07:08.114172587Z",
     "start_time": "2024-04-09T23:07:07.502787481Z"
    },
    "collapsed": false,
    "jupyter": {
     "outputs_hidden": false
    }
   },
   "outputs": [
    {
     "data": {
      "image/png": "[encoded data removed]",
      "text/plain": [
       "<Figure size 640x480 with 1 Axes>"
      ]
     },
     "metadata": {},
     "output_type": "display_data"
    }
   ],
   "source": [
    "draw(pairs_graph1)"
   ]
  },
  {
   "cell_type": "code",
   "execution_count": null,
   "id": "dbb38a4be3ce9b3a",
   "metadata": {
    "ExecuteTime": {
     "end_time": "2024-04-09T23:13:09.206696068Z",
     "start_time": "2024-04-09T23:13:09.086768657Z"
    },
    "collapsed": false,
    "jupyter": {
     "outputs_hidden": false
    }
   },
   "outputs": [],
   "source": [
    "# _ = em.evaluate(pairs_graph)\n",
    "_ = em.evaluate(pairs_graph)\n",
    "# print(em.execution_time)"
   ]
  },
  {
   "cell_type": "code",
   "execution_count": null,
   "id": "25988747f59ebd21",
   "metadata": {
    "ExecuteTime": {
     "end_time": "2024-04-09T23:13:09.297463678Z",
     "start_time": "2024-04-09T23:13:09.177053966Z"
    },
    "collapsed": false,
    "jupyter": {
     "outputs_hidden": false
    }
   },
   "outputs": [],
   "source": [
    "_ = em1.evaluate(pairs_graph1)\n",
    "# print(em1.execution_time)\n"
   ]
  },
  {
   "cell_type": "code",
   "execution_count": 70,
   "id": "1e9368d269d074a6",
   "metadata": {
    "ExecuteTime": {
     "end_time": "2024-04-10T00:11:34.847202874Z",
     "start_time": "2024-04-10T00:11:34.781681254Z"
    },
    "collapsed": false,
    "jupyter": {
     "outputs_hidden": false
    }
   },
   "outputs": [],
   "source": [
    "from pyjedai.clustering import ConnectedComponentsClustering, UniqueMappingClustering"
   ]
  },
  {
   "cell_type": "code",
   "execution_count": 71,
   "id": "8b3b20b9c282433c",
   "metadata": {
    "ExecuteTime": {
     "end_time": "2024-04-10T00:11:35.136993199Z",
     "start_time": "2024-04-10T00:11:34.781965871Z"
    },
    "collapsed": false,
    "jupyter": {
     "outputs_hidden": false
    },
    "scrolled": true
   },
   "outputs": [
    {
     "name": "stdout",
     "output_type": "stream",
     "text": [
      "0.7083333333333333\n",
      "Priority QUEUE len  :  11529\n",
      "[{109, 1174}, {1142, 799}, {1176, 110}, {434, 1078}, {933, 1990}, {1736, 658}, {1322, 997}, {6, 1286}, {321, 1543}, {1161, 95}, {62, 1135}, {1609, 598}, {1347, 204}, {107, 1389}, {659, 1735}, {1328, 662}, {692, 1949}, {786, 1691}, {49, 1177}, {1785, 644}, {657, 1734}, {402, 1467}, {163, 1308}, {1466, 274}, {1043, 1798}, {1155, 47}, {1201, 794}, {2013, 70}, {971, 2036}, {289, 1417}, {1313, 154}, {1225, 796}, {1445, 271}, {1784, 609}, {420, 1462}, {227, 1199}, {795, 1332}, {66, 1388}, {1222, 79}, {660, 1733}, {389, 1677}, {619, 1731}, {634, 1727}, {80, 1151}, {1576, 523}, {120, 1341}, {1419, 268}, {1172, 93}, {1173, 94}, {152, 1249}, {1673, 483}, {1993, 900}, {594, 1670}, {705, 1902}, {988, 1180}, {963, 1431}, {1587, 604}, {1683, 995}, {1750, 607}, {1089, 953}, {1792, 612}, {312, 1456}, {1160, 90}, {426, 1373}, {980, 1671}, {1538, 311}, {858, 1919}, {433, 1165}, {1054, 1359}, {1506, 803}, {1739, 580}, {610, 1758}, {880, 1972}, {176, 1232}, {835, 1875}, {841, 1879}, {1880, 839}, {1881, 837}, {840, 1884}, {836, 1885}, {1712, 746}, {785, 1217}, {1560, 999}, {104, 1188}, {1265, 38}, {1318, 143}, {2027, 901}, {172, 1333}, {400, 1703}, {1274, 26}, {1425, 140}, {446, 1479}, {1236, 182}, {1336, 193}, {1523, 253}, {1193, 306}, {544, 1821}, {1721, 566}, {1233, 60}, {1208, 181}, {1240, 203}, {1204, 791}, {24, 1118}, {184, 1348}, {842, 1876}, {848, 1877}, {845, 1886}, {847, 1887}, {973, 2110}, {538, 1708}, {1648, 595}, {2073, 854}, {170, 1231}, {1244, 295}, {1040, 1590}, {777, 1719}, {84, 1221}, {1309, 199}, {282, 1189}, {307, 1453}, {1722, 571}, {1744, 579}, {1237, 415}, {1508, 350}, {565, 1711}, {969, 2141}, {1338, 260}, {1907, 685}, {1746, 965}, {2022, 982}, {724, 1223}, {1963, 790}, {280, 1702}, {776, 1082}, {1128, 115}, {843, 1883}, {1888, 849}, {2078, 935}, {1361, 371}, {99, 1094}, {857, 1918}, {1195, 119}, {1107, 429}, {2041, 449}, {801, 1757}, {865, 1997}, {432, 1344}, {144, 1351}, {1004, 1647}, {97, 1114}, {100, 1102}, {1320, 153}, {362, 1684}, {668, 1741}, {1740, 669}, {633, 1589}, {1418, 308}, {1192, 196}, {1994, 989}, {1600, 519}, {1601, 521}, {578, 1756}, {898, 2021}, {936, 2079}, {1264, 5}, {1323, 69}, {180, 1206}, {392, 1376}, {1360, 397}, {1608, 486}, {515, 1655}, {576, 1718}, {1522, 647}, {1603, 764}, {1544, 778}, {860, 1567}, {1742, 967}, {1029, 1527}, {2000, 1034}, {48, 1139}, {1593, 492}, {1614, 511}, {939, 2015}, {745, 1790}, {1760, 616}, {809, 1965}, {1214, 191}, {800, 1986}, {1808, 708}, {861, 1494}, {756, 1166}, {1971, 879}, {1147, 87}, {970, 2037}, {238, 1439}, {242, 1356}, {377, 1083}, {1970, 670}, {2002, 978}, {1553, 1017}, {792, 1878}, {793, 1882}, {114, 1198}, {904, 1983}, {88, 1125}, {1281, 150}, {810, 1964}, {32, 1126}, {520, 1599}, {219, 1357}, {2048, 926}, {1168, 726}, {2058, 1053}, {230, 1423}, {20, 1116}, {65, 1150}, {185, 1390}, {305, 1465}, {416, 1239}, {490, 1726}, {704, 2042}, {824, 1095}, {442, 1645}, {942, 2055}, {569, 1713}, {568, 1710}, {1730, 567}, {539, 1654}, {1946, 734}, {1, 1227}, {177, 1521}, {1501, 477}, {485, 1606}, {1169, 998}, {1725, 1055}, {1385, 257}, {213, 1399}, {804, 1487}, {1507, 142}, {408, 1526}, {1561, 1027}, {1977, 981}, {732, 1838}, {1976, 1039}, {1426, 51}, {2053, 575}, {723, 1751}, {64, 1148}, {1664, 522}, {1329, 202}, {899, 1605}, {1680, 611}, {738, 1951}, {749, 1957}, {1867, 541}, {169, 1321}, {1457, 332}, {1472, 516}, {666, 1175}, {43, 1251}, {214, 1079}, {1656, 509}, {992, 1607}, {1665, 986}, {345, 1485}, {1625, 558}, {1510, 78}, {259, 1293}, {1408, 261}, {424, 1528}, {1774, 462}, {1650, 573}, {592, 1509}, {747, 1699}, {968, 1438}, {1272, 35}, {258, 1279}, {554, 1478}, {1950, 735}, {1715, 583}, {1672, 869}, {1632, 629}, {1685, 661}, {826, 2011}, {584, 1515}, {864, 2062}, {1235, 797}, {217, 1358}, {1594, 493}, {1398, 247}, {617, 1782}, {11, 1252}, {1955, 719}, {721, 1956}, {127, 1103}, {693, 1806}, {2038, 927}, {648, 1777}, {1998, 862}, {2137, 876}, {2138, 878}, {976, 2128}, {2113, 977}, {1064, 1582}, {2051, 931}, {1999, 863}, {2052, 941}, {272, 1446}, {1203, 125}, {168, 1331}, {741, 1743}, {1504, 599}, {1889, 748}, {2129, 961}, {1952, 707}, {929, 2093}, {1480, 241}, {265, 1436}, {1026, 1514}, {27, 1123}, {1754, 590}, {1755, 591}, {2054, 943}, {944, 2061}, {1995, 959}, {25, 1311}, {288, 1413}, {649, 1791}, {1811, 422}, {930, 2090}, {838, 1935}, {1555, 23}, {443, 1694}, {798, 1143}, {417, 1367}, {1282, 419}, {1602, 518}, {1904, 753}, {2098, 975}, {1140, 141}, {2126, 895}, {928, 2091}, {1153, 61}, {1196, 284}, {1345, 431}, {1339, 205}, {1481, 251}, {318, 1775}, {825, 1081}, {1912, 830}, {1874, 1015}, {1124, 28}, {1256, 175}, {1088, 218}, {296, 1978}, {297, 1517}, {782, 1871}, {1368, 491}, {409, 1171}, {411, 1516}, {1579, 532}, {1550, 615}, {1440, 851}, {2109, 535}, {1961, 682}, {1834, 702}, {1621, 855}, {827, 1981}, {1737, 859}, {1920, 866}, {1209, 101}, {1080, 106}, {1427, 111}, {1424, 421}, {1569, 452}, {1394, 548}, {1649, 574}, {600, 1897}, {665, 1794}, {675, 1900}, {1762, 711}, {1539, 902}, {1381, 949}, {1073, 1450}, {1105, 126}, {164, 1149}, {1152, 72}, {1275, 133}, {1404, 1045}, {1441, 215}, {1678, 766}, {1724, 582}, {1752, 960}, {1866, 765}, {1996, 871}, {987, 2014}, {667, 1652}, {1960, 985}, {637, 1943}, {1732, 581}, {1224, 132}, {2135, 1047}, {1899, 651}, {1492, 301}, {472, 1804}, {1558, 487}, {820, 1781}, {1012, 2102}, {1387, 187}, {1690, 190}, {248, 1253}, {828, 1583}, {572, 1773}, {209, 1197}, {1449, 638}, {699, 1926}, {497, 1620}, {1901, 678}, {1954, 739}, {1554, 822}, {2120, 1009}, {1484, 342}, {406, 1551}, {1025, 1405}, {608, 1761}, {252, 1422}, {1499, 783}, {2059, 1003}, {1618, 439}, {441, 1644}, {1258, 207}, {1529, 381}, {19, 1115}, {1121, 171}, {322, 1229}, {1001, 2151}, {1627, 495}, {499, 1623}, {680, 1953}, {1592, 597}, {1772, 527}, {1588, 605}, {2130, 623}, {673, 1895}, {1745, 932}, {593, 1580}, {773, 1975}, {1416, 266}, {553, 1566}, {984, 2132}, {770, 2125}, {18, 1284}, {1220, 293}, {354, 1349}, {2025, 956}, {1163, 957}, {1578, 390}, {250, 1407}, {324, 1631}, {923, 2035}, {1475, 484}, {1643, 438}, {8, 1113}, {98, 1266}, {121, 1202}, {192, 1337}, {226, 1156}, {233, 1363}, {2088, 383}, {444, 1637}, {1626, 503}, {2016, 940}, {2083, 983}, {1050, 2147}, {50, 1131}, {234, 1559}, {2001, 924}, {788, 1669}, {116, 1101}, {403, 1179}, {1100, 407}, {467, 1668}, {621, 1591}, {972, 1469}, {1008, 1863}, {1913, 1037}, {1000, 2114}, {1905, 476}, {1340, 189}, {1400, 244}, {330, 1262}, {955, 2029}, {1228, 85}, {1633, 1070}, {1316, 197}, {290, 1461}, {329, 1133}, {1496, 357}, {368, 1531}, {2139, 1030}, {1610, 524}, {1723, 725}, {802, 1759}, {480, 1852}, {1853, 479}, {1443, 300}, {353, 1497}, {456, 1573}, {464, 1666}, {466, 1667}, {1076, 1023}, {1011, 2030}, {570, 1805}, {1697, 762}, {1010, 2142}, {1864, 1031}, {1370, 1046}, {1617, 501}, {1653, 559}, {769, 1892}, {2092, 925}, {561, 1826}, {112, 1127}, {1226, 4}, {208, 1366}, {1401, 338}, {425, 1511}, {1532, 525}, {808, 1294}, {888, 1565}, {1989, 1007}, {12, 1134}, {1187, 76}, {1267, 44}, {391, 1335}, {360, 1430}, {1289, 262}, {393, 1498}, {2, 1109}, {1091, 821}, {404, 1692}, {500, 1622}, {504, 1939}, {2064, 917}, {918, 2070}, {896, 2005}, {481, 1987}, {36, 1301}, {1099, 63}, {1421, 71}, {1420, 77}, {1205, 118}, {1085, 134}, {1384, 243}, {457, 1572}, {624, 1823}, {632, 2085}, {677, 1783}, {1844, 687}, {1533, 758}, {816, 1865}, {2112, 921}, {996, 2028}, {2075, 1052}, {1051, 1379}, {1628, 325}, {1800, 526}, {731, 1948}, {832, 2012}, {482, 1854}, {2122, 853}, {1283, 86}, {1640, 463}, {1395, 286}, {13, 1270}, {1616, 405}, {585, 1681}, {2056, 919}, {1334, 254}, {834, 2115}, {2034, 958}, {1571, 451}, {688, 1845}, {689, 1846}, {690, 1847}, {256, 1372}, {2046, 327}, {1568, 654}, {1273, 83}, {1162, 91}, {92, 1159}, {1658, 547}, {1659, 549}, {1941, 478}, {1873, 41}, {1325, 221}, {488, 1717}, {784, 1383}, {249, 1938}, {645, 2094}, {440, 1557}, {1747, 653}, {736, 1896}, {2045, 39}, {897, 1638}, {1657, 546}, {562, 1786}, {17, 1906}, {225, 1679}, {722, 1799}, {882, 1651}, {1137, 52}, {1380, 359}, {635, 1797}, {361, 1541}, {465, 1641}, {1642, 468}, {1277, 103}, {1242, 179}, {194, 1157}, {1433, 223}, {1353, 281}, {1662, 551}, {1117, 30}, {29, 1119}, {1033, 1820}, {2050, 852}, {563, 2043}, {1312, 159}, {1688, 737}, {751, 1959}, {1513, 453}, {517, 2071}, {664, 1705}, {2033, 906}, {1297, 67}, {1210, 155}, {326, 1495}, {1530, 367}, {372, 1247}, {1810, 435}, {1574, 455}, {1016, 1190}, {174, 1255}, {752, 1893}, {1833, 740}, {1452, 414}, {528, 1824}, {1813, 423}, {1154, 123}, {1377, 276}, {344, 1185}, {1795, 683}, {1849, 709}, {2121, 870}, {1280, 157}, {1219, 135}, {1505, 347}, {1278, 351}, {920, 2020}, {1369, 1042}, {1326, 231}, {1536, 626}, {1696, 534}, {1968, 445}, {529, 1927}, {1825, 530}, {601, 2081}, {130, 1276}, {2049, 874}, {58, 1178}, {1096, 89}, {2107, 349}, {514, 1613}, {625, 1535}, {1850, 710}, {712, 1851}, {771, 1869}, {772, 1868}, {1035, 1259}, {1036, 2084}, {1200, 53}, {186, 1428}, {1437, 239}, {384, 1502}, {1562, 303}, {1780, 543}, {531, 1940}, {1072, 1962}, {139, 1980}, {706, 1947}, {1966, 823}, {1482, 316}, {1969, 447}, {564, 1815}, {224, 1216}, {681, 2082}, {652, 1903}, {1491, 222}, {395, 1261}, {1489, 1002}, {1468, 310}, {376, 1410}, {1020, 1084}, {1044, 1317}, {1748, 319}, {2032, 850}, {2097, 950}, {102, 1375}, {618, 1924}, {760, 1145}, {1378, 317}, {458, 1546}, {200, 1207}, {57, 1181}, {1355, 195}, {1291, 235}, {2089, 938}, {1298, 55}, {555, 1663}, {1537, 627}, {373, 1254}, {698, 1619}, {713, 1910}, {1112, 805}, {560, 1822}, {122, 1460}, {1108, 165}, {232, 1257}, {1090, 237}, {1486, 398}, {418, 1396}, {877, 1911}, {1945, 650}, {475, 1693}, {1075, 1093}, {3, 1268}, {148, 1319}, {264, 1191}, {1241, 59}, {1473, 339}, {363, 1476}, {470, 1310}, {352, 1365}, {314, 1483}, {974, 2118}, {9, 1250}, {1138, 22}, {228, 1391}, {993, 2074}, {1243, 37}, {138, 1106}, {1186, 162}, {676, 1749}, {1362, 780}, {954, 1988}, {537, 1547}, {474, 2106}, {1716, 620}, {1021, 1086}, {1065, 1451}, {498, 1676}, {628, 1934}, {1018, 1548}, {459, 1639}, {1409, 14}, {216, 1442}, {336, 1459}, {1586, 603}, {1848, 671}, {1458, 1071}, {178, 1238}, {21, 1269}, {934, 1630}, {2004, 903}, {1646, 622}, {1346, 365}, {1130, 684}, {348, 1615}, {461, 1087}, {1985, 829}, {273, 1435}, {1136, 806}, {907, 2076}, {1352, 201}, {1942, 158}, {744, 1814}, {672, 2044}, {761, 1891}, {1707, 31}, {401, 1315}, {1058, 1908}, {679, 1991}, {1809, 743}, {1234, 7}, {1556, 263}, {506, 1674}, {2096, 833}, {1604, 887}, {952, 2019}, {328, 1371}, {1464, 380}, {378, 1597}, {2080, 990}, {1393, 229}, {412, 2095}, {1598, 807}, {1074, 1098}, {811, 2131}, {1324, 245}, {364, 1695}, {1984, 891}, {2104, 502}, {33, 1271}, {513, 1611}, {1552, 366}, {1490, 298}, {540, 1788}, {1870, 655}, {1041, 2023}, {1230, 399}, {410, 1709}, {881, 1914}, {1057, 2047}, {1066, 1660}, {81, 1330}, {1682, 686}, {1048, 2009}, {2057, 1060}, {2136, 994}, {1818, 147}, {267, 1183}, {596, 1894}, {160, 1167}, {1024, 1434}, {1689, 358}, {320, 1463}, {212, 1397}, {1563, 396}, {333, 1213}, {1700, 613}, {1144, 82}, {505, 1415}, {1014, 1503}, {908, 2077}, {331, 1454}, {1245, 831}, {787, 1581}, {1248, 131}, {962, 1636}, {2040, 885}, {886, 2039}, {1477, 341}, {427, 2063}, {656, 1698}, {323, 1411}, {1701, 614}, {1704, 643}, {2072, 914}, {872, 1898}, {56, 1182}, {1218, 117}, {156, 1263}, {1930, 188}, {1448, 287}, {755, 1675}, {1005, 2103}, {346, 1500}, {1629, 631}, {892, 2006}, {2065, 910}, {2066, 911}, {912, 2067}, {913, 2068}, {915, 2069}, {206, 1327}, {246, 1287}, {1525, 533}, {557, 1414}, {1835, 700}, {1837, 733}, {1787, 1006}, {2100, 991}, {15, 1111}, {370, 2119}, {1392, 211}, {1929, 255}, {1474, 340}, {1067, 1687}, {291, 1455}, {890, 1364}, {1979, 774}, {781, 1789}, {436, 1812}, {1922, 356}, {2099, 379}, {1937, 460}, {945, 1564}, {149, 1343}, {1890, 166}, {1817, 437}, {1314, 471}, {1860, 717}, {1861, 718}, {1386, 220}, {728, 1841}, {1019, 2133}, {473, 2127}, {720, 1862}, {1374, 775}, {1077, 1022}, {1738, 469}, {1403, 374}, {1049, 1778}, {105, 1542}, {1992, 873}, {1549, 1013}, {844, 2060}, {10, 1110}, {1872, 42}, {1595, 759}, {1056, 2146}, {1933, 550}, {979, 2101}, {34, 1534}, {283, 1596}, {1412, 375}, {641, 1307}, {763, 2108}, {1354, 68}, {1766, 639}, {1686, 767}, {75, 1300}, {448, 1816}, {817, 2116}, {1260, 951}, {1857, 1061}, {674, 1836}, {946, 1807}, {1285, 46}, {129, 1932}, {1771, 814}, {868, 1855}, {947, 1493}, {2105, 964}, {1856, 867}, {387, 1519}, {1520, 388}, {818, 1146}, {315, 2086}, {313, 1801}, {889, 2124}, {1819, 334}, {586, 1302}, {1304, 587}, {588, 1303}, {1921, 355}, {386, 1292}, {1840, 729}, {1585, 727}]\n"
     ]
    }
   ],
   "source": [
    "ccc = UniqueMappingClustering()\n",
    "clusters = ccc.process(pairs_graph, data, similarity_threshold=0.07)\n",
    "print(clusters)"
   ]
  },
  {
   "cell_type": "code",
   "execution_count": 72,
   "id": "3ffd049250158393",
   "metadata": {
    "ExecuteTime": {
     "end_time": "2024-04-09T23:07:19.616046986Z",
     "start_time": "2024-04-09T23:07:19.503139453Z"
    },
    "collapsed": false,
    "jupyter": {
     "outputs_hidden": false
    }
   },
   "outputs": [
    {
     "name": "stdout",
     "output_type": "stream",
     "text": [
      "***************************************************************************************************************************\n",
      "                                         Μethod:  Unique Mapping Clustering\n",
      "***************************************************************************************************************************\n",
      "Method name: Unique Mapping Clustering\n",
      "Parameters: \n",
      "Runtime: 0.2287 seconds\n",
      "───────────────────────────────────────────────────────────────────────────────────────────────────────────────────────────\n",
      "Performance:\n",
      "\tPrecision:     82.60% \n",
      "\tRecall:        73.70%\n",
      "\tF1-score:      77.90%\n",
      "───────────────────────────────────────────────────────────────────────────────────────────────────────────────────────────\n"
     ]
    }
   ],
   "source": [
    "_ = ccc.evaluate(clusters)"
   ]
  },
  {
   "cell_type": "code",
   "execution_count": 73,
   "id": "71fef0ccef1e9e23",
   "metadata": {
    "ExecuteTime": {
     "end_time": "2024-04-10T00:11:37.106077735Z",
     "start_time": "2024-04-10T00:11:37.084025019Z"
    },
    "collapsed": false,
    "jupyter": {
     "outputs_hidden": false
    }
   },
   "outputs": [],
   "source": [
    "from pyjedai.parallel.clustering_spark import ConnectedComponentsClusteringSpark,UniqueMappingClusteringSpark"
   ]
  },
  {
   "cell_type": "code",
   "execution_count": 74,
   "id": "53a081d9db44c0e0",
   "metadata": {
    "ExecuteTime": {
     "end_time": "2024-04-10T00:08:42.785405778Z",
     "start_time": "2024-04-10T00:06:05.921802508Z"
    },
    "collapsed": false,
    "jupyter": {
     "outputs_hidden": false
    }
   },
   "outputs": [
    {
     "name": "stdout",
     "output_type": "stream",
     "text": [
      "11529\n",
      "2:  90 0.7083333333333333\n"
     ]
    }
   ],
   "source": [
    "ccc_spark = UniqueMappingClusteringSpark(sc)\n",
    "clusters_spark = ccc_spark.process(pairs_graph, data, similarity_threshold=0.07)"
   ]
  },
  {
   "cell_type": "code",
   "execution_count": 75,
   "id": "53aac9c9-433d-4233-9ffe-8cd13bd8a710",
   "metadata": {},
   "outputs": [
    {
     "name": "stdout",
     "output_type": "stream",
     "text": [
      "***************************************************************************************************************************\n",
      "                                         Μethod:  Unique Mapping Clustering\n",
      "***************************************************************************************************************************\n",
      "Method name: Unique Mapping Clustering\n",
      "Parameters: \n",
      "Runtime: 0.2287 seconds\n",
      "───────────────────────────────────────────────────────────────────────────────────────────────────────────────────────────\n",
      "Performance:\n",
      "\tPrecision:     82.60% \n",
      "\tRecall:        73.70%\n",
      "\tF1-score:      77.90%\n",
      "───────────────────────────────────────────────────────────────────────────────────────────────────────────────────────────\n",
      "***************************************************************************************************************************\n",
      "                                         Μethod:  Unique Mapping Clustering Spark\n",
      "***************************************************************************************************************************\n",
      "Method name: Unique Mapping Clustering Spark\n",
      "Parameters: \n",
      "Runtime: 0.6476 seconds\n",
      "───────────────────────────────────────────────────────────────────────────────────────────────────────────────────────────\n",
      "Performance:\n",
      "\tPrecision:     82.60% \n",
      "\tRecall:        73.70%\n",
      "\tF1-score:      77.90%\n",
      "───────────────────────────────────────────────────────────────────────────────────────────────────────────────────────────\n"
     ]
    }
   ],
   "source": [
    "\n",
    "# print(clusters_spark)\n",
    "# print(ccc.execution_time)\n",
    "# print(ccc_spark.execution_time)\n",
    "\n",
    "_ = ccc.evaluate(clusters)\n",
    "_ = ccc_spark.evaluate(clusters_spark)"
   ]
  },
  {
   "cell_type": "code",
   "execution_count": null,
   "id": "75556ab057701a63",
   "metadata": {
    "ExecuteTime": {
     "end_time": "2024-04-10T00:09:15.045611651Z",
     "start_time": "2024-04-10T00:09:14.967884233Z"
    },
    "collapsed": false,
    "jupyter": {
     "outputs_hidden": false
    }
   },
   "outputs": [],
   "source": [
    "\n",
    "rdd = sc.parallelize([(0, 10), (0, 20), (30, 20), (40,30), (50,70)])\n",
    "\n",
    "\n",
    "\n",
    "def fix_keys(x): \n",
    "    if x[1] < x[0]:\n",
    "        return x[1],x[0]\n",
    "    return x\n",
    "\n",
    "rdd = rdd.map(fix_keys)\n",
    "\n",
    "def transform_pair(pair):\n",
    "    key, my_set = pair\n",
    "    return my_set.union({key})\n",
    "\n",
    "\n",
    "rdd = rdd.groupByKey().mapValues(set)\n",
    "\n",
    "\n",
    "rdd = rdd.map(\n",
    "\n",
    "\n",
    "\n",
    "# def fix_group(a,b):\n",
    "#     if len(a.intersection(b)) > 0:\n",
    "#         return a.union(b)\n",
    "#     else: \n",
    "#         yield a\n",
    "#         yield b\n",
    "print(rdd.reduceByKey(lambda a, b: [a,b]).collect())\n",
    "\n",
    "\n",
    "# rdd.collect()\n",
    "\n",
    "# _ = ccc_spark.evaluate(clusters_spark)\n",
    "# clusters\n",
    "# # ccc_spark.my_list\n",
    "# from networkx import Graph, connected_components\n",
    "# \n",
    "# graph_copy = pairs_graph1.copy()\n",
    "# \n",
    "# for x in pairs_graph1.edges(data=True):\n",
    "#     if x[2]['weight'] < 0.07: \n",
    "#         graph_copy.remove_edge(x[0],x[1])\n",
    "# \n",
    "# \n",
    "# \n",
    "# clusters = list(connected_components(graph_copy))\n",
    "# print(clusters)\n",
    "# \n",
    "# \n",
    "# # resulting_clusters = list(filter(lambda x: len(x) == 2, clusters)) \\\n",
    "# #                                 if not data.is_dirty_er else clusters\n",
    "# # print(resulting_clusters)\n",
    "# \n",
    "# # print(ccc_spark.clusters)\n",
    "# \n",
    "# for x in ccc_spark.clusters:\n",
    "#     if x[1] != 0:\n",
    "#         print(x)\n",
    "\n",
    "# clusters_spark"
   ]
  },
  {
   "cell_type": "code",
   "execution_count": 23,
   "id": "985af7ae9bca8058",
   "metadata": {
    "collapsed": false,
    "jupyter": {
     "outputs_hidden": false
    }
   },
   "outputs": [
    {
     "name": "stderr",
     "output_type": "stream",
     "text": [
      "24/07/15 14:10:43 ERROR Utils: Uncaught exception in thread Executor task launch worker for task 5.0 in stage 6.0 (TID 75)\n",
      "java.lang.NullPointerException\n",
      "\tat org.apache.spark.scheduler.Task.$anonfun$run$3(Task.scala:146)\n",
      "\tat org.apache.spark.util.Utils$.tryLogNonFatalError(Utils.scala:1375)\n",
      "\tat org.apache.spark.scheduler.Task.run(Task.scala:144)\n",
      "\tat org.apache.spark.executor.Executor$TaskRunner.$anonfun$run$4(Executor.scala:620)\n",
      "\tat org.apache.spark.util.SparkErrorUtils.tryWithSafeFinally(SparkErrorUtils.scala:64)\n",
      "\tat org.apache.spark.util.SparkErrorUtils.tryWithSafeFinally$(SparkErrorUtils.scala:61)\n",
      "\tat org.apache.spark.util.Utils$.tryWithSafeFinally(Utils.scala:94)\n",
      "\tat org.apache.spark.executor.Executor$TaskRunner.run(Executor.scala:623)\n",
      "\tat java.base/java.util.concurrent.ThreadPoolExecutor.runWorker(ThreadPoolExecutor.java:1128)\n",
      "\tat java.base/java.util.concurrent.ThreadPoolExecutor$Worker.run(ThreadPoolExecutor.java:628)\n",
      "\tat java.base/java.lang.Thread.run(Thread.java:829)\n",
      "24/07/15 14:10:43 ERROR Utils: Uncaught exception in thread Executor task launch worker for task 1.0 in stage 6.0 (TID 71)\n",
      "java.lang.NullPointerException\n",
      "\tat org.apache.spark.scheduler.Task.$anonfun$run$3(Task.scala:146)\n",
      "\tat org.apache.spark.util.Utils$.tryLogNonFatalError(Utils.scala:1375)\n",
      "\tat org.apache.spark.scheduler.Task.run(Task.scala:144)\n",
      "\tat org.apache.spark.executor.Executor$TaskRunner.$anonfun$run$4(Executor.scala:620)\n",
      "\tat org.apache.spark.util.SparkErrorUtils.tryWithSafeFinally(SparkErrorUtils.scala:64)\n",
      "\tat org.apache.spark.util.SparkErrorUtils.tryWithSafeFinally$(SparkErrorUtils.scala:61)\n",
      "\tat org.apache.spark.util.Utils$.tryWithSafeFinally(Utils.scala:94)\n",
      "\tat org.apache.spark.executor.Executor$TaskRunner.run(Executor.scala:623)\n",
      "\tat java.base/java.util.concurrent.ThreadPoolExecutor.runWorker(ThreadPoolExecutor.java:1128)\n",
      "\tat java.base/java.util.concurrent.ThreadPoolExecutor$Worker.run(ThreadPoolExecutor.java:628)\n",
      "\tat java.base/java.lang.Thread.run(Thread.java:829)\n",
      "24/07/15 14:10:43 ERROR Utils: Uncaught exception in thread Executor task launch worker for task 9.0 in stage 6.0 (TID 79)\n",
      "java.lang.NullPointerException\n",
      "\tat org.apache.spark.scheduler.Task.$anonfun$run$3(Task.scala:146)\n",
      "\tat org.apache.spark.util.Utils$.tryLogNonFatalError(Utils.scala:1375)\n",
      "\tat org.apache.spark.scheduler.Task.run(Task.scala:144)\n",
      "\tat org.apache.spark.executor.Executor$TaskRunner.$anonfun$run$4(Executor.scala:620)\n",
      "\tat org.apache.spark.util.SparkErrorUtils.tryWithSafeFinally(SparkErrorUtils.scala:64)\n",
      "\tat org.apache.spark.util.SparkErrorUtils.tryWithSafeFinally$(SparkErrorUtils.scala:61)\n",
      "\tat org.apache.spark.util.Utils$.tryWithSafeFinally(Utils.scala:94)\n",
      "\tat org.apache.spark.executor.Executor$TaskRunner.run(Executor.scala:623)\n",
      "\tat java.base/java.util.concurrent.ThreadPoolExecutor.runWorker(ThreadPoolExecutor.java:1128)\n",
      "\tat java.base/java.util.concurrent.ThreadPoolExecutor$Worker.run(ThreadPoolExecutor.java:628)\n",
      "\tat java.base/java.lang.Thread.run(Thread.java:829)\n",
      "24/07/15 14:10:43 ERROR Utils: Uncaught exception in thread Executor task launch worker for task 0.0 in stage 6.0 (TID 70)\n",
      "java.lang.NullPointerException\n",
      "\tat org.apache.spark.scheduler.Task.$anonfun$run$3(Task.scala:146)\n",
      "\tat org.apache.spark.util.Utils$.tryLogNonFatalError(Utils.scala:1375)\n",
      "\tat org.apache.spark.scheduler.Task.run(Task.scala:144)\n",
      "\tat org.apache.spark.executor.Executor$TaskRunner.$anonfun$run$4(Executor.scala:620)\n",
      "\tat org.apache.spark.util.SparkErrorUtils.tryWithSafeFinally(SparkErrorUtils.scala:64)\n",
      "\tat org.apache.spark.util.SparkErrorUtils.tryWithSafeFinally$(SparkErrorUtils.scala:61)\n",
      "\tat org.apache.spark.util.Utils$.tryWithSafeFinally(Utils.scala:94)\n",
      "\tat org.apache.spark.executor.Executor$TaskRunner.run(Executor.scala:623)\n",
      "\tat java.base/java.util.concurrent.ThreadPoolExecutor.runWorker(ThreadPoolExecutor.java:1128)\n",
      "\tat java.base/java.util.concurrent.ThreadPoolExecutor$Worker.run(ThreadPoolExecutor.java:628)\n",
      "\tat java.base/java.lang.Thread.run(Thread.java:829)\n",
      "24/07/15 14:10:43 ERROR Utils: Uncaught exception in thread Executor task launch worker for task 3.0 in stage 6.0 (TID 73)\n",
      "java.lang.NullPointerException\n",
      "\tat org.apache.spark.scheduler.Task.$anonfun$run$3(Task.scala:146)\n",
      "\tat org.apache.spark.util.Utils$.tryLogNonFatalError(Utils.scala:1375)\n",
      "\tat org.apache.spark.scheduler.Task.run(Task.scala:144)\n",
      "\tat org.apache.spark.executor.Executor$TaskRunner.$anonfun$run$4(Executor.scala:620)\n",
      "\tat org.apache.spark.util.SparkErrorUtils.tryWithSafeFinally(SparkErrorUtils.scala:64)\n",
      "\tat org.apache.spark.util.SparkErrorUtils.tryWithSafeFinally$(SparkErrorUtils.scala:61)\n",
      "\tat org.apache.spark.util.Utils$.tryWithSafeFinally(Utils.scala:94)\n",
      "\tat org.apache.spark.executor.Executor$TaskRunner.run(Executor.scala:623)\n",
      "\tat java.base/java.util.concurrent.ThreadPoolExecutor.runWorker(ThreadPoolExecutor.java:1128)\n",
      "\tat java.base/java.util.concurrent.ThreadPoolExecutor$Worker.run(ThreadPoolExecutor.java:628)\n",
      "\tat java.base/java.lang.Thread.run(Thread.java:829)\n",
      "24/07/15 14:10:43 ERROR Utils: Uncaught exception in thread Executor task launch worker for task 7.0 in stage 6.0 (TID 77)\n",
      "java.lang.NullPointerException\n",
      "\tat org.apache.spark.scheduler.Task.$anonfun$run$3(Task.scala:146)\n",
      "\tat org.apache.spark.util.Utils$.tryLogNonFatalError(Utils.scala:1375)\n",
      "\tat org.apache.spark.scheduler.Task.run(Task.scala:144)\n",
      "\tat org.apache.spark.executor.Executor$TaskRunner.$anonfun$run$4(Executor.scala:620)\n",
      "\tat org.apache.spark.util.SparkErrorUtils.tryWithSafeFinally(SparkErrorUtils.scala:64)\n",
      "\tat org.apache.spark.util.SparkErrorUtils.tryWithSafeFinally$(SparkErrorUtils.scala:61)\n",
      "\tat org.apache.spark.util.Utils$.tryWithSafeFinally(Utils.scala:94)\n",
      "\tat org.apache.spark.executor.Executor$TaskRunner.run(Executor.scala:623)\n",
      "\tat java.base/java.util.concurrent.ThreadPoolExecutor.runWorker(ThreadPoolExecutor.java:1128)\n",
      "\tat java.base/java.util.concurrent.ThreadPoolExecutor$Worker.run(ThreadPoolExecutor.java:628)\n",
      "\tat java.base/java.lang.Thread.run(Thread.java:829)\n",
      "24/07/15 14:10:43 ERROR Utils: Uncaught exception in thread Executor task launch worker for task 4.0 in stage 6.0 (TID 74)\n",
      "java.lang.NullPointerException\n",
      "\tat org.apache.spark.scheduler.Task.$anonfun$run$3(Task.scala:146)\n",
      "\tat org.apache.spark.util.Utils$.tryLogNonFatalError(Utils.scala:1375)\n",
      "\tat org.apache.spark.scheduler.Task.run(Task.scala:144)\n",
      "\tat org.apache.spark.executor.Executor$TaskRunner.$anonfun$run$4(Executor.scala:620)\n",
      "\tat org.apache.spark.util.SparkErrorUtils.tryWithSafeFinally(SparkErrorUtils.scala:64)\n",
      "\tat org.apache.spark.util.SparkErrorUtils.tryWithSafeFinally$(SparkErrorUtils.scala:61)\n",
      "\tat org.apache.spark.util.Utils$.tryWithSafeFinally(Utils.scala:94)\n",
      "\tat org.apache.spark.executor.Executor$TaskRunner.run(Executor.scala:623)\n",
      "\tat java.base/java.util.concurrent.ThreadPoolExecutor.runWorker(ThreadPoolExecutor.java:1128)\n",
      "\tat java.base/java.util.concurrent.ThreadPoolExecutor$Worker.run(ThreadPoolExecutor.java:628)\n",
      "\tat java.base/java.lang.Thread.run(Thread.java:829)\n",
      "24/07/15 14:10:43 ERROR Utils: Uncaught exception in thread Executor task launch worker for task 8.0 in stage 6.0 (TID 78)\n",
      "java.lang.NullPointerException\n",
      "\tat org.apache.spark.scheduler.Task.$anonfun$run$3(Task.scala:146)\n",
      "\tat org.apache.spark.util.Utils$.tryLogNonFatalError(Utils.scala:1375)\n",
      "\tat org.apache.spark.scheduler.Task.run(Task.scala:144)\n",
      "\tat org.apache.spark.executor.Executor$TaskRunner.$anonfun$run$4(Executor.scala:620)\n",
      "\tat org.apache.spark.util.SparkErrorUtils.tryWithSafeFinally(SparkErrorUtils.scala:64)\n",
      "\tat org.apache.spark.util.SparkErrorUtils.tryWithSafeFinally$(SparkErrorUtils.scala:61)\n",
      "\tat org.apache.spark.util.Utils$.tryWithSafeFinally(Utils.scala:94)\n",
      "\tat org.apache.spark.executor.Executor$TaskRunner.run(Executor.scala:623)\n",
      "\tat java.base/java.util.concurrent.ThreadPoolExecutor.runWorker(ThreadPoolExecutor.java:1128)\n",
      "\tat java.base/java.util.concurrent.ThreadPoolExecutor$Worker.run(ThreadPoolExecutor.java:628)\n",
      "\tat java.base/java.lang.Thread.run(Thread.java:829)\n",
      "24/07/15 14:10:43 ERROR Executor: Exception in task 4.0 in stage 6.0 (TID 74): Python worker exited unexpectedly (crashed)\n",
      "24/07/15 14:10:43 ERROR Executor: Exception in task 5.0 in stage 6.0 (TID 75): Python worker exited unexpectedly (crashed)\n",
      "24/07/15 14:10:43 ERROR Executor: Exception in task 0.0 in stage 6.0 (TID 70): Python worker exited unexpectedly (crashed)\n",
      "24/07/15 14:10:43 ERROR Executor: Exception in task 9.0 in stage 6.0 (TID 79): Python worker exited unexpectedly (crashed)\n",
      "24/07/15 14:10:43 ERROR Executor: Exception in task 7.0 in stage 6.0 (TID 77): Python worker exited unexpectedly (crashed)\n",
      "24/07/15 14:10:43 ERROR Executor: Exception in task 3.0 in stage 6.0 (TID 73): Python worker exited unexpectedly (crashed)\n",
      "24/07/15 14:10:43 ERROR Executor: Exception in task 1.0 in stage 6.0 (TID 71): Python worker exited unexpectedly (crashed)\n",
      "24/07/15 14:10:43 ERROR Executor: Exception in task 8.0 in stage 6.0 (TID 78): Python worker exited unexpectedly (crashed)\n",
      "24/07/15 14:10:43 ERROR Utils: Uncaught exception in thread Executor task launch worker for task 2.0 in stage 6.0 (TID 72)\n",
      "java.lang.NullPointerException\n",
      "\tat org.apache.spark.scheduler.Task.$anonfun$run$3(Task.scala:146)\n",
      "\tat org.apache.spark.util.Utils$.tryLogNonFatalError(Utils.scala:1375)\n",
      "\tat org.apache.spark.scheduler.Task.run(Task.scala:144)\n",
      "\tat org.apache.spark.executor.Executor$TaskRunner.$anonfun$run$4(Executor.scala:620)\n",
      "\tat org.apache.spark.util.SparkErrorUtils.tryWithSafeFinally(SparkErrorUtils.scala:64)\n",
      "\tat org.apache.spark.util.SparkErrorUtils.tryWithSafeFinally$(SparkErrorUtils.scala:61)\n",
      "\tat org.apache.spark.util.Utils$.tryWithSafeFinally(Utils.scala:94)\n",
      "\tat org.apache.spark.executor.Executor$TaskRunner.run(Executor.scala:623)\n",
      "\tat java.base/java.util.concurrent.ThreadPoolExecutor.runWorker(ThreadPoolExecutor.java:1128)\n",
      "\tat java.base/java.util.concurrent.ThreadPoolExecutor$Worker.run(ThreadPoolExecutor.java:628)\n",
      "\tat java.base/java.lang.Thread.run(Thread.java:829)\n",
      "24/07/15 14:10:43 ERROR Executor: Exception in task 2.0 in stage 6.0 (TID 72): Python worker exited unexpectedly (crashed)\n",
      "24/07/15 14:10:44 ERROR TaskContextImpl: Error in TaskCompletionListener\n",
      "org.apache.spark.SparkException: Block broadcast_13 does not exist\n",
      "\tat org.apache.spark.errors.SparkCoreErrors$.blockDoesNotExistError(SparkCoreErrors.scala:318)\n",
      "\tat org.apache.spark.storage.BlockInfoManager.blockInfo(BlockInfoManager.scala:269)\n",
      "\tat org.apache.spark.storage.BlockInfoManager.unlock(BlockInfoManager.scala:390)\n",
      "\tat org.apache.spark.storage.BlockManager.releaseLock(BlockManager.scala:1309)\n",
      "\tat org.apache.spark.broadcast.TorrentBroadcast.$anonfun$releaseBlockManagerLock$1(TorrentBroadcast.scala:319)\n",
      "\tat org.apache.spark.broadcast.TorrentBroadcast.$anonfun$releaseBlockManagerLock$1$adapted(TorrentBroadcast.scala:319)\n",
      "\tat org.apache.spark.TaskContext$$anon$1.onTaskCompletion(TaskContext.scala:137)\n",
      "\tat org.apache.spark.TaskContextImpl.$anonfun$invokeTaskCompletionListeners$1(TaskContextImpl.scala:144)\n",
      "\tat org.apache.spark.TaskContextImpl.$anonfun$invokeTaskCompletionListeners$1$adapted(TaskContextImpl.scala:144)\n",
      "\tat org.apache.spark.TaskContextImpl.invokeListeners(TaskContextImpl.scala:199)\n",
      "\tat org.apache.spark.TaskContextImpl.invokeTaskCompletionListeners(TaskContextImpl.scala:144)\n",
      "\tat org.apache.spark.TaskContextImpl.markTaskCompleted(TaskContextImpl.scala:137)\n",
      "\tat org.apache.spark.TaskContext.runTaskWithListeners(TaskContext.scala:177)\n",
      "\tat org.apache.spark.scheduler.Task.run(Task.scala:141)\n",
      "\tat org.apache.spark.executor.Executor$TaskRunner.$anonfun$run$4(Executor.scala:620)\n",
      "\tat org.apache.spark.util.SparkErrorUtils.tryWithSafeFinally(SparkErrorUtils.scala:64)\n",
      "\tat org.apache.spark.util.SparkErrorUtils.tryWithSafeFinally$(SparkErrorUtils.scala:61)\n",
      "\tat org.apache.spark.util.Utils$.tryWithSafeFinally(Utils.scala:94)\n",
      "\tat org.apache.spark.executor.Executor$TaskRunner.run(Executor.scala:623)\n",
      "\tat java.base/java.util.concurrent.ThreadPoolExecutor.runWorker(ThreadPoolExecutor.java:1128)\n",
      "\tat java.base/java.util.concurrent.ThreadPoolExecutor$Worker.run(ThreadPoolExecutor.java:628)\n",
      "\tat java.base/java.lang.Thread.run(Thread.java:829)\n",
      "24/07/15 14:10:44 ERROR Utils: Uncaught exception in thread Executor task launch worker for task 6.0 in stage 6.0 (TID 76)\n",
      "java.lang.NullPointerException\n",
      "\tat org.apache.spark.scheduler.Task.$anonfun$run$3(Task.scala:146)\n",
      "\tat org.apache.spark.util.Utils$.tryLogNonFatalError(Utils.scala:1375)\n",
      "\tat org.apache.spark.scheduler.Task.run(Task.scala:144)\n",
      "\tat org.apache.spark.executor.Executor$TaskRunner.$anonfun$run$4(Executor.scala:620)\n",
      "\tat org.apache.spark.util.SparkErrorUtils.tryWithSafeFinally(SparkErrorUtils.scala:64)\n",
      "\tat org.apache.spark.util.SparkErrorUtils.tryWithSafeFinally$(SparkErrorUtils.scala:61)\n",
      "\tat org.apache.spark.util.Utils$.tryWithSafeFinally(Utils.scala:94)\n",
      "\tat org.apache.spark.executor.Executor$TaskRunner.run(Executor.scala:623)\n",
      "\tat java.base/java.util.concurrent.ThreadPoolExecutor.runWorker(ThreadPoolExecutor.java:1128)\n",
      "\tat java.base/java.util.concurrent.ThreadPoolExecutor$Worker.run(ThreadPoolExecutor.java:628)\n",
      "\tat java.base/java.lang.Thread.run(Thread.java:829)\n",
      "24/07/15 14:10:44 ERROR Executor: Exception in task 6.0 in stage 6.0 (TID 76): Python worker exited unexpectedly (crashed)\n"
     ]
    }
   ],
   "source": [
    "sc.stop()"
   ]
  },
  {
   "cell_type": "code",
   "execution_count": null,
   "id": "b82d3eb6e54ae8d6",
   "metadata": {
    "collapsed": false,
    "jupyter": {
     "outputs_hidden": false
    }
   },
   "outputs": [],
   "source": [
    "my_list = [(1,10),(1,11),(2,3), (2,3) ] \n",
    "\n",
    "\n",
    "my_rdd = sc.parallelize(my_list)\n",
    "\n",
    "def fix_my_ret(x):\n",
    "    key, my_set = x\n",
    "    to_ret_set = my_set.copy()\n",
    "    to_ret_set = my_set\n",
    "    to_ret_set.add(key)\n",
    "    print(to_ret_set)\n",
    "    return to_ret_set\n",
    "\n",
    "\n",
    "my_rdd = my_rdd.groupByKey().mapValues(set).map(fix_my_ret)\n",
    "\n",
    "\n",
    "print(my_rdd.collect())"
   ]
  }
 ],
 "metadata": {
  "kernelspec": {
   "display_name": "spark_experiments",
   "language": "python",
   "name": "python3"
  },
  "language_info": {
   "codemirror_mode": {
    "name": "ipython",
    "version": 3
   },
   "file_extension": ".py",
   "mimetype": "text/x-python",
   "name": "python",
   "nbconvert_exporter": "python",
   "pygments_lexer": "ipython3",
   "version": "3.9.0"
  }
 },
 "nbformat": 4,
 "nbformat_minor": 5
}
