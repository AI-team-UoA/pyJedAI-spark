{
 "cells": [
  {
   "cell_type": "code",
   "execution_count": 1,
   "id": "f45461da01df3041",
   "metadata": {
    "ExecuteTime": {
     "end_time": "2024-02-09T17:47:45.705646838Z",
     "start_time": "2024-02-09T17:47:41.191277202Z"
    },
    "collapsed": false,
    "jupyter": {
     "outputs_hidden": false
    }
   },
   "outputs": [
    {
     "name": "stdout",
     "output_type": "stream",
     "text": [
      "ERROR: unknown command \"install..\" - maybe you meant \"install\"\r\n",
      "Requirement already satisfied: findspark in /home/vefa/Desktop/pyJedAI-Dev/venv/lib/python3.10/site-packages (2.0.1)\r\n",
      "\r\n",
      "\u001b[1m[\u001b[0m\u001b[34;49mnotice\u001b[0m\u001b[1;39;49m]\u001b[0m\u001b[39;49m A new release of pip is available: \u001b[0m\u001b[31;49m23.3.1\u001b[0m\u001b[39;49m -> \u001b[0m\u001b[32;49m24.0\u001b[0m\r\n",
      "\u001b[1m[\u001b[0m\u001b[34;49mnotice\u001b[0m\u001b[1;39;49m]\u001b[0m\u001b[39;49m To update, run: \u001b[0m\u001b[32;49mpip install --upgrade pip\u001b[0m\r\n"
     ]
    }
   ],
   "source": [
    "!pip install..\n",
    "!pip install findspark"
   ]
  },
  {
   "cell_type": "code",
   "execution_count": 11,
   "id": "c65823c62817334a",
   "metadata": {
    "ExecuteTime": {
     "end_time": "2024-02-09T18:39:26.129414541Z",
     "start_time": "2024-02-09T18:39:21.212593141Z"
    },
    "collapsed": false,
    "jupyter": {
     "outputs_hidden": false
    }
   },
   "outputs": [
    {
     "name": "stdout",
     "output_type": "stream",
     "text": [
      "Name: pyjedai\r\n",
      "Version: 0.0.10\r\n",
      "Summary: An open-source library that builds powerful end-to-end Entity Resolution workflows.\r\n",
      "Home-page: \r\n",
      "Author: \r\n",
      "Author-email: Konstantinos Nikoletos <nikoletos.kon@gmail.com>, Jakub Maciejewski <jacobb.maciejewski@gmail.com>, George Papadakis <gpapadis84@gmail.com>\r\n",
      "License: Apache Software License 2.0\r\n",
      "Location: /home/vefa/Desktop/pyJedAI-Dev/src\r\n",
      "Requires: faiss-cpu, gensim, matplotlib, matplotlib-inline, networkx, nltk, numpy, optuna, ordered-set, pandas, pandas-profiling, pandocfilters, plotly, py-stringmatching, pyspark, PyYAML, rdflib, rdfpandas, regex, scipy, seaborn, sentence-transformers, strsim, strsimpy, tomli, tqdm, transformers, valentine\r\n",
      "Required-by: \r\n"
     ]
    }
   ],
   "source": [
    "!pip show pyjedai\n"
   ]
  },
  {
   "cell_type": "code",
   "execution_count": 12,
   "id": "42360f3d87b98a00",
   "metadata": {
    "ExecuteTime": {
     "end_time": "2024-02-09T18:39:26.218201641Z",
     "start_time": "2024-02-09T18:39:26.149104077Z"
    },
    "collapsed": false,
    "jupyter": {
     "outputs_hidden": false
    }
   },
   "outputs": [],
   "source": [
    "import os\n",
    "import sys\n",
    "import pandas as pd\n",
    "import networkx\n",
    "from networkx import draw, Graph\n",
    "\n",
    "import findspark\n",
    "\n",
    "findspark.init()\n",
    "\n",
    "os.environ[\"JAVA_HOME\"] = \"/usr/lib/jvm/java-11-openjdk-amd64\"\n"
   ]
  },
  {
   "cell_type": "code",
   "execution_count": 13,
   "id": "84e2aac1535a28a8",
   "metadata": {
    "ExecuteTime": {
     "end_time": "2024-02-09T18:39:29.125807517Z",
     "start_time": "2024-02-09T18:39:26.178870292Z"
    },
    "collapsed": false,
    "jupyter": {
     "outputs_hidden": false
    }
   },
   "outputs": [
    {
     "ename": "ValueError",
     "evalue": "Cannot run multiple SparkContexts at once; existing SparkContext(app=PyJedAI, master=local[*]) created by __init__ at /tmp/ipykernel_27073/4027621325.py:15 ",
     "output_type": "error",
     "traceback": [
      "\u001b[0;31m---------------------------------------------------------------------------\u001b[0m",
      "\u001b[0;31mValueError\u001b[0m                                Traceback (most recent call last)",
      "Cell \u001b[0;32mIn[13], line 15\u001b[0m\n\u001b[1;32m     11\u001b[0m conf\u001b[38;5;241m.\u001b[39mset(\u001b[38;5;124m\"\u001b[39m\u001b[38;5;124mspark.serializer\u001b[39m\u001b[38;5;124m\"\u001b[39m, \u001b[38;5;124m\"\u001b[39m\u001b[38;5;124morg.apache.spark.serializer.KryoSerializer\u001b[39m\u001b[38;5;124m\"\u001b[39m)\n\u001b[1;32m     14\u001b[0m \u001b[38;5;66;03m# Create a SparkContext with the configured properties\u001b[39;00m\n\u001b[0;32m---> 15\u001b[0m sc \u001b[38;5;241m=\u001b[39m \u001b[43mSparkContext\u001b[49m\u001b[43m(\u001b[49m\u001b[43mconf\u001b[49m\u001b[38;5;241;43m=\u001b[39;49m\u001b[43mconf\u001b[49m\u001b[43m)\u001b[49m\n",
      "File \u001b[0;32m~/Desktop/pyJedAI-Dev/venv/lib/python3.10/site-packages/pyspark/context.py:201\u001b[0m, in \u001b[0;36mSparkContext.__init__\u001b[0;34m(self, master, appName, sparkHome, pyFiles, environment, batchSize, serializer, conf, gateway, jsc, profiler_cls, udf_profiler_cls, memory_profiler_cls)\u001b[0m\n\u001b[1;32m    195\u001b[0m \u001b[38;5;28;01mif\u001b[39;00m gateway \u001b[38;5;129;01mis\u001b[39;00m \u001b[38;5;129;01mnot\u001b[39;00m \u001b[38;5;28;01mNone\u001b[39;00m \u001b[38;5;129;01mand\u001b[39;00m gateway\u001b[38;5;241m.\u001b[39mgateway_parameters\u001b[38;5;241m.\u001b[39mauth_token \u001b[38;5;129;01mis\u001b[39;00m \u001b[38;5;28;01mNone\u001b[39;00m:\n\u001b[1;32m    196\u001b[0m     \u001b[38;5;28;01mraise\u001b[39;00m \u001b[38;5;167;01mValueError\u001b[39;00m(\n\u001b[1;32m    197\u001b[0m         \u001b[38;5;124m\"\u001b[39m\u001b[38;5;124mYou are trying to pass an insecure Py4j gateway to Spark. This\u001b[39m\u001b[38;5;124m\"\u001b[39m\n\u001b[1;32m    198\u001b[0m         \u001b[38;5;124m\"\u001b[39m\u001b[38;5;124m is not allowed as it is a security risk.\u001b[39m\u001b[38;5;124m\"\u001b[39m\n\u001b[1;32m    199\u001b[0m     )\n\u001b[0;32m--> 201\u001b[0m \u001b[43mSparkContext\u001b[49m\u001b[38;5;241;43m.\u001b[39;49m\u001b[43m_ensure_initialized\u001b[49m\u001b[43m(\u001b[49m\u001b[38;5;28;43mself\u001b[39;49m\u001b[43m,\u001b[49m\u001b[43m \u001b[49m\u001b[43mgateway\u001b[49m\u001b[38;5;241;43m=\u001b[39;49m\u001b[43mgateway\u001b[49m\u001b[43m,\u001b[49m\u001b[43m \u001b[49m\u001b[43mconf\u001b[49m\u001b[38;5;241;43m=\u001b[39;49m\u001b[43mconf\u001b[49m\u001b[43m)\u001b[49m\n\u001b[1;32m    202\u001b[0m \u001b[38;5;28;01mtry\u001b[39;00m:\n\u001b[1;32m    203\u001b[0m     \u001b[38;5;28mself\u001b[39m\u001b[38;5;241m.\u001b[39m_do_init(\n\u001b[1;32m    204\u001b[0m         master,\n\u001b[1;32m    205\u001b[0m         appName,\n\u001b[0;32m   (...)\u001b[0m\n\u001b[1;32m    215\u001b[0m         memory_profiler_cls,\n\u001b[1;32m    216\u001b[0m     )\n",
      "File \u001b[0;32m~/Desktop/pyJedAI-Dev/venv/lib/python3.10/site-packages/pyspark/context.py:449\u001b[0m, in \u001b[0;36mSparkContext._ensure_initialized\u001b[0;34m(cls, instance, gateway, conf)\u001b[0m\n\u001b[1;32m    446\u001b[0m     callsite \u001b[38;5;241m=\u001b[39m SparkContext\u001b[38;5;241m.\u001b[39m_active_spark_context\u001b[38;5;241m.\u001b[39m_callsite\n\u001b[1;32m    448\u001b[0m     \u001b[38;5;66;03m# Raise error if there is already a running Spark context\u001b[39;00m\n\u001b[0;32m--> 449\u001b[0m     \u001b[38;5;28;01mraise\u001b[39;00m \u001b[38;5;167;01mValueError\u001b[39;00m(\n\u001b[1;32m    450\u001b[0m         \u001b[38;5;124m\"\u001b[39m\u001b[38;5;124mCannot run multiple SparkContexts at once; \u001b[39m\u001b[38;5;124m\"\u001b[39m\n\u001b[1;32m    451\u001b[0m         \u001b[38;5;124m\"\u001b[39m\u001b[38;5;124mexisting SparkContext(app=\u001b[39m\u001b[38;5;132;01m%s\u001b[39;00m\u001b[38;5;124m, master=\u001b[39m\u001b[38;5;132;01m%s\u001b[39;00m\u001b[38;5;124m)\u001b[39m\u001b[38;5;124m\"\u001b[39m\n\u001b[1;32m    452\u001b[0m         \u001b[38;5;124m\"\u001b[39m\u001b[38;5;124m created by \u001b[39m\u001b[38;5;132;01m%s\u001b[39;00m\u001b[38;5;124m at \u001b[39m\u001b[38;5;132;01m%s\u001b[39;00m\u001b[38;5;124m:\u001b[39m\u001b[38;5;132;01m%s\u001b[39;00m\u001b[38;5;124m \u001b[39m\u001b[38;5;124m\"\u001b[39m\n\u001b[1;32m    453\u001b[0m         \u001b[38;5;241m%\u001b[39m (\n\u001b[1;32m    454\u001b[0m             currentAppName,\n\u001b[1;32m    455\u001b[0m             currentMaster,\n\u001b[1;32m    456\u001b[0m             callsite\u001b[38;5;241m.\u001b[39mfunction,\n\u001b[1;32m    457\u001b[0m             callsite\u001b[38;5;241m.\u001b[39mfile,\n\u001b[1;32m    458\u001b[0m             callsite\u001b[38;5;241m.\u001b[39mlinenum,\n\u001b[1;32m    459\u001b[0m         )\n\u001b[1;32m    460\u001b[0m     )\n\u001b[1;32m    461\u001b[0m \u001b[38;5;28;01melse\u001b[39;00m:\n\u001b[1;32m    462\u001b[0m     SparkContext\u001b[38;5;241m.\u001b[39m_active_spark_context \u001b[38;5;241m=\u001b[39m instance\n",
      "\u001b[0;31mValueError\u001b[0m: Cannot run multiple SparkContexts at once; existing SparkContext(app=PyJedAI, master=local[*]) created by __init__ at /tmp/ipykernel_27073/4027621325.py:15 "
     ]
    }
   ],
   "source": [
    "from pyspark import SparkConf, SparkContext\n",
    "\n",
    "\n",
    "from pyspark import SparkConf, SparkContext\n",
    "\n",
    "\n",
    "# Configure Spark to use more driver memory and executor memory\n",
    "conf = SparkConf().setAppName('PyJedAI').setMaster('local[*]')\n",
    "conf.set(\"spark.executor.memory\", \"4g\")\n",
    "conf.set(\"spark.driver.memory\",\"2g\")\n",
    "conf.set(\"spark.serializer\", \"org.apache.spark.serializer.KryoSerializer\")\n",
    "\n",
    "\n",
    "# Create a SparkContext with the configured properties\n",
    "sc = SparkContext(conf=conf)\n"
   ]
  },
  {
   "cell_type": "code",
   "execution_count": 5,
   "id": "3d3feb89-1406-4c90-a1aa-dc2cf4707739",
   "metadata": {
    "ExecuteTime": {
     "end_time": "2024-02-09T17:48:06.895713481Z",
     "start_time": "2024-02-09T17:48:06.847497887Z"
    },
    "collapsed": false,
    "jupyter": {
     "outputs_hidden": false
    }
   },
   "outputs": [],
   "source": [
    "from pyjedai.datamodel import Data\n",
    "\n",
    "d1 = pd.read_csv(\"./../data/der/cora/cora.csv\", sep='|')\n",
    "gt = pd.read_csv(\"./../data/der/cora/cora_gt.csv\", sep='|', header=None)\n",
    "attr = ['Entity Id', 'author', 'title']"
   ]
  },
  {
   "cell_type": "code",
   "execution_count": 6,
   "id": "e257597d-ea77-4090-ba34-e1038d8f9a0d",
   "metadata": {
    "ExecuteTime": {
     "end_time": "2024-02-09T17:48:09.828604090Z",
     "start_time": "2024-02-09T17:48:07.762055789Z"
    }
   },
   "outputs": [],
   "source": [
    "data = Data(\n",
    "    dataset_1=d1,\n",
    "    id_column_name_1='Entity Id',\n",
    "    ground_truth=gt,\n",
    "    attributes_1=attr\n",
    ")"
   ]
  },
  {
   "cell_type": "code",
   "execution_count": 7,
   "id": "9c1b6213-a218-40cf-bc72-801b77d28da9",
   "metadata": {
    "ExecuteTime": {
     "end_time": "2024-02-09T17:49:28.112320126Z",
     "start_time": "2024-02-09T17:49:26.053275177Z"
    }
   },
   "outputs": [],
   "source": [
    "from pyjedai.block_building import (\n",
    "    StandardBlocking,\n",
    "    QGramsBlocking,\n",
    "    SuffixArraysBlocking,\n",
    "    ExtendedSuffixArraysBlocking,\n",
    "    ExtendedQGramsBlocking\n",
    ")\n",
    "\n",
    "from pyjedai.parallel.block_building_spark import (\n",
    "    StandardBlockingSpark,\n",
    "    QGramsBlockingSpark,\n",
    "    ExtendedQGramsBlockingSpark,\n",
    "    SuffixArraysBlockingSpark,\n",
    "    ExtendedSuffixArraysBlockingSpark,\n",
    ")\n"
   ]
  },
  {
   "cell_type": "code",
   "execution_count": 8,
   "id": "7ee34038-1352-440e-8c34-98c5cf036523",
   "metadata": {
    "ExecuteTime": {
     "end_time": "2024-02-09T17:49:36.292763189Z",
     "start_time": "2024-02-09T17:49:35.780073272Z"
    },
    "collapsed": false,
    "jupyter": {
     "outputs_hidden": false
    }
   },
   "outputs": [
    {
     "data": {
      "application/vnd.jupyter.widget-view+json": {
       "model_id": "2d3221f3c84845f4a6deda176cf1bb6f",
       "version_major": 2,
       "version_minor": 0
      },
      "text/plain": [
       "Standard Blocking:   0%|          | 0/1295 [00:00<?, ?it/s]"
      ]
     },
     "metadata": {},
     "output_type": "display_data"
    }
   ],
   "source": [
    "bb = StandardBlocking()\n",
    "blocks = bb.build_blocks(data)"
   ]
  },
  {
   "cell_type": "code",
   "execution_count": 9,
   "id": "b0ac846d-0f13-4b90-b4c8-688054ed7ffe",
   "metadata": {
    "ExecuteTime": {
     "end_time": "2024-02-09T17:49:40.330018884Z",
     "start_time": "2024-02-09T17:49:37.777715955Z"
    },
    "collapsed": false,
    "jupyter": {
     "outputs_hidden": false
    }
   },
   "outputs": [
    {
     "name": "stdout",
     "output_type": "stream",
     "text": [
      "***************************************************************************************************************************\n",
      "                                         Μethod:  Standard Blocking\n",
      "***************************************************************************************************************************\n",
      "Method name: Standard Blocking\n",
      "Parameters: \n",
      "Runtime: 0.1301 seconds\n",
      "───────────────────────────────────────────────────────────────────────────────────────────────────────────────────────────\n",
      "Performance:\n",
      "\tPrecision:      0.64% \n",
      "\tRecall:        99.99%\n",
      "\tF1-score:       1.27%\n",
      "───────────────────────────────────────────────────────────────────────────────────────────────────────────────────────────\n"
     ]
    }
   ],
   "source": [
    "_ = bb.evaluate(blocks)"
   ]
  },
  {
   "cell_type": "code",
   "execution_count": 10,
   "id": "213eaea901b5945",
   "metadata": {
    "ExecuteTime": {
     "end_time": "2024-02-09T17:49:57.599430693Z",
     "start_time": "2024-02-09T17:49:51.390231664Z"
    },
    "collapsed": false,
    "jupyter": {
     "outputs_hidden": false
    }
   },
   "outputs": [
    {
     "data": {
      "application/vnd.jupyter.widget-view+json": {
       "model_id": "e1da5df7e257468e8dcff136ee38f79e",
       "version_major": 2,
       "version_minor": 0
      },
      "text/plain": [
       "Standard Blocking:   0%|          | 0/5 [00:00<?, ?it/s]"
      ]
     },
     "metadata": {},
     "output_type": "display_data"
    },
    {
     "name": "stdout",
     "output_type": "stream",
     "text": [
      "0\n"
     ]
    },
    {
     "name": "stderr",
     "output_type": "stream",
     "text": [
      "                                                                                \r"
     ]
    }
   ],
   "source": [
    "bb = StandardBlockingSpark(sc)\n",
    "\n",
    "blocks = bb.build_blocks(data)"
   ]
  },
  {
   "cell_type": "code",
   "execution_count": 9,
   "id": "250142beece0bce0",
   "metadata": {
    "ExecuteTime": {
     "end_time": "2023-10-15T17:38:46.446276728Z",
     "start_time": "2023-10-15T17:38:43.157236595Z"
    },
    "collapsed": false,
    "jupyter": {
     "outputs_hidden": false
    }
   },
   "outputs": [
    {
     "name": "stderr",
     "output_type": "stream",
     "text": [
      "                                                                                \r"
     ]
    },
    {
     "name": "stdout",
     "output_type": "stream",
     "text": [
      "***************************************************************************************************************************\n",
      "                                         Μethod:  Standard Blocking\n",
      "***************************************************************************************************************************\n",
      "Method name: Standard Blocking\n",
      "Parameters: \n",
      "Runtime: 1.2066 seconds\n",
      "───────────────────────────────────────────────────────────────────────────────────────────────────────────────────────────\n",
      "Performance:\n",
      "\tPrecision:      0.64% \n",
      "\tRecall:        99.99%\n",
      "\tF1-score:       1.27%\n",
      "───────────────────────────────────────────────────────────────────────────────────────────────────────────────────────────\n",
      "Classification report:\n",
      "\tTrue positives: 17183\n",
      "\tFalse positives: 2663261\n",
      "\tTrue negatives: 820680\n",
      "\tFalse negatives: 1\n",
      "\tTotal comparisons: 2680444\n",
      "───────────────────────────────────────────────────────────────────────────────────────────────────────────────────────────\n"
     ]
    }
   ],
   "source": [
    "_ = bb.evaluate(dict(blocks.collect()),with_classification_report=True)\n"
   ]
  },
  {
   "cell_type": "code",
   "execution_count": null,
   "id": "96fdf66620595243",
   "metadata": {
    "ExecuteTime": {
     "start_time": "2023-10-15T17:37:59.003938146Z"
    },
    "collapsed": false,
    "jupyter": {
     "outputs_hidden": false
    }
   },
   "outputs": [],
   "source": [
    "# sc.stop()"
   ]
  }
 ],
 "metadata": {
  "kernelspec": {
   "display_name": "Python 3 (ipykernel)",
   "language": "python",
   "name": "python3"
  },
  "language_info": {
   "codemirror_mode": {
    "name": "ipython",
    "version": 3
   },
   "file_extension": ".py",
   "mimetype": "text/x-python",
   "name": "python",
   "nbconvert_exporter": "python",
   "pygments_lexer": "ipython3",
   "version": "3.9.0"
  }
 },
 "nbformat": 4,
 "nbformat_minor": 5
}
